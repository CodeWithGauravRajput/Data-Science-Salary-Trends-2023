{
 "cells": [
  {
   "cell_type": "markdown",
   "id": "45282998-467f-4f94-bd7e-a631e2e96844",
   "metadata": {},
   "source": [
    "\n",
    "<center> \n",
    "    <h1>Data Science Salary Analysis</h1> \n",
    "    <img  src = \"https://patimes.org/wp-content/uploads/2020/03/data_monetization_column_Mar20.jpg\" width = 800 >\n"
   ]
  },
  {
   "cell_type": "markdown",
   "id": "0ad597b7-b5ca-43a8-a9a0-56df3a2c510c",
   "metadata": {},
   "source": [
    "# Import Libraries"
   ]
  },
  {
   "cell_type": "code",
   "execution_count": 419,
   "id": "aa2d8003-1e75-4123-9b8f-ed36078e5de3",
   "metadata": {},
   "outputs": [
    {
     "name": "stdout",
     "output_type": "stream",
     "text": [
      "✅ Librires imported Successfully\n"
     ]
    }
   ],
   "source": [
    "import pandas as pd\n",
    "import numpy as np\n",
    "import matplotlib.pyplot as plt\n",
    "import seaborn as sns\n",
    "import plotly.express as px\n",
    "\n",
    "print(\"✅ Librires imported Successfully\")"
   ]
  },
  {
   "cell_type": "markdown",
   "id": "ef265c8a-94f3-41bc-8c8e-43fca3261a95",
   "metadata": {},
   "source": [
    "# Read Dataset"
   ]
  },
  {
   "cell_type": "code",
   "execution_count": 420,
   "id": "55cc17fd-4bd8-412c-8025-c347a15d398a",
   "metadata": {},
   "outputs": [
    {
     "data": {
      "text/html": [
       "<div>\n",
       "<style scoped>\n",
       "    .dataframe tbody tr th:only-of-type {\n",
       "        vertical-align: middle;\n",
       "    }\n",
       "\n",
       "    .dataframe tbody tr th {\n",
       "        vertical-align: top;\n",
       "    }\n",
       "\n",
       "    .dataframe thead th {\n",
       "        text-align: right;\n",
       "    }\n",
       "</style>\n",
       "<table border=\"1\" class=\"dataframe\">\n",
       "  <thead>\n",
       "    <tr style=\"text-align: right;\">\n",
       "      <th></th>\n",
       "      <th>work_year</th>\n",
       "      <th>experience_level</th>\n",
       "      <th>employment_type</th>\n",
       "      <th>job_title</th>\n",
       "      <th>salary</th>\n",
       "      <th>salary_currency</th>\n",
       "      <th>salary_in_usd</th>\n",
       "      <th>employee_residence</th>\n",
       "      <th>remote_ratio</th>\n",
       "      <th>company_location</th>\n",
       "      <th>company_size</th>\n",
       "    </tr>\n",
       "  </thead>\n",
       "  <tbody>\n",
       "    <tr>\n",
       "      <th>0</th>\n",
       "      <td>2023</td>\n",
       "      <td>EN</td>\n",
       "      <td>FT</td>\n",
       "      <td>Admin &amp; Data Analyst</td>\n",
       "      <td>50000</td>\n",
       "      <td>USD</td>\n",
       "      <td>50000</td>\n",
       "      <td>DE</td>\n",
       "      <td>0</td>\n",
       "      <td>DE</td>\n",
       "      <td>M</td>\n",
       "    </tr>\n",
       "    <tr>\n",
       "      <th>1</th>\n",
       "      <td>2024</td>\n",
       "      <td>SE</td>\n",
       "      <td>FT</td>\n",
       "      <td>Data Management Specialist</td>\n",
       "      <td>200400</td>\n",
       "      <td>USD</td>\n",
       "      <td>200400</td>\n",
       "      <td>US</td>\n",
       "      <td>0</td>\n",
       "      <td>US</td>\n",
       "      <td>M</td>\n",
       "    </tr>\n",
       "    <tr>\n",
       "      <th>2</th>\n",
       "      <td>2024</td>\n",
       "      <td>SE</td>\n",
       "      <td>FT</td>\n",
       "      <td>Data Management Specialist</td>\n",
       "      <td>116500</td>\n",
       "      <td>USD</td>\n",
       "      <td>116500</td>\n",
       "      <td>US</td>\n",
       "      <td>0</td>\n",
       "      <td>US</td>\n",
       "      <td>M</td>\n",
       "    </tr>\n",
       "    <tr>\n",
       "      <th>3</th>\n",
       "      <td>2024</td>\n",
       "      <td>SE</td>\n",
       "      <td>FT</td>\n",
       "      <td>Data Scientist</td>\n",
       "      <td>188500</td>\n",
       "      <td>USD</td>\n",
       "      <td>188500</td>\n",
       "      <td>US</td>\n",
       "      <td>0</td>\n",
       "      <td>US</td>\n",
       "      <td>M</td>\n",
       "    </tr>\n",
       "    <tr>\n",
       "      <th>4</th>\n",
       "      <td>2024</td>\n",
       "      <td>SE</td>\n",
       "      <td>FT</td>\n",
       "      <td>Data Scientist</td>\n",
       "      <td>165100</td>\n",
       "      <td>USD</td>\n",
       "      <td>165100</td>\n",
       "      <td>US</td>\n",
       "      <td>0</td>\n",
       "      <td>US</td>\n",
       "      <td>M</td>\n",
       "    </tr>\n",
       "  </tbody>\n",
       "</table>\n",
       "</div>"
      ],
      "text/plain": [
       "   work_year experience_level employment_type                   job_title  \\\n",
       "0       2023               EN              FT        Admin & Data Analyst   \n",
       "1       2024               SE              FT  Data Management Specialist   \n",
       "2       2024               SE              FT  Data Management Specialist   \n",
       "3       2024               SE              FT              Data Scientist   \n",
       "4       2024               SE              FT              Data Scientist   \n",
       "\n",
       "   salary salary_currency  salary_in_usd employee_residence  remote_ratio  \\\n",
       "0   50000             USD          50000                 DE             0   \n",
       "1  200400             USD         200400                 US             0   \n",
       "2  116500             USD         116500                 US             0   \n",
       "3  188500             USD         188500                 US             0   \n",
       "4  165100             USD         165100                 US             0   \n",
       "\n",
       "  company_location company_size  \n",
       "0               DE            M  \n",
       "1               US            M  \n",
       "2               US            M  \n",
       "3               US            M  \n",
       "4               US            M  "
      ]
     },
     "execution_count": 420,
     "metadata": {},
     "output_type": "execute_result"
    }
   ],
   "source": [
    "df = pd.read_csv(\"salaries.csv\")\n",
    "df.head()"
   ]
  },
  {
   "cell_type": "markdown",
   "id": "d925e8fe-2c8c-4870-8dea-20f33336d41b",
   "metadata": {},
   "source": [
    "## **Dataset description**\n",
    "The dataset contains 11 columns with the following characteristics:\n",
    "\n",
    "1. **work_year**: The year the salary was paid.\n",
    "\n",
    "2. **experience_level**: The experience level in the job during the year with the following possible values:\n",
    "  - EN: Entry-level / Junior\n",
    "  - MI: Mid-level / Intermediate\n",
    "  - SE: Senior-level / Expert\n",
    "  - EX: Executive-level / Director\n",
    "\n",
    "3. **employment_type**: The type of employement for the role:\n",
    "  - PT: Part-time\n",
    "  - FT: Full-time\n",
    "  - CT: Contract\n",
    "  - FL: Freelance\n",
    "\n",
    "4. **job_title**: The role worked in during the year.\n",
    "\n",
    "5. **salary**: The total gross salary amount paid.\n",
    "\n",
    "6. **salary_currency**: The currency of the salary paid as an ISO 4217 currency code.\n",
    "\n",
    "7. **salary_in_usd**: The salary in USD (FX rate divided by avg. USD rate of respective year via data from fxdata.foorilla.com).\n",
    "\n",
    "8. **employee_residence**: Employee's primary country of residence in during the work year as an ISO 3166 country code.\n",
    "\n",
    "9. **remote_ratio**: The overall amount of work done remotely, possible values are as follows:\n",
    "  - 0: No remote work (less than 20%)\n",
    "  - 50: Partially remote/hybrid\n",
    "  - 100: Fully remote (more than 80%)\n",
    "\n",
    "10. **company_location**: The country of the employer's main office or contracting branch as an ISO 3166 country code.\n",
    "\n",
    "11. **company_size**: The average number of people that worked for the company during the year:\n",
    "  -S: less than 50 employees (small)\n",
    "  -M: 50 to 250 employees (medium)\n",
    "  -L: more than 250 employees (large)"
   ]
  },
  {
   "cell_type": "code",
   "execution_count": 421,
   "id": "6343bd16-07c0-48c4-b42d-519d0961fa18",
   "metadata": {},
   "outputs": [],
   "source": [
    "# shape\n",
    "# info\n",
    "# describe\n",
    "# missing values"
   ]
  },
  {
   "cell_type": "code",
   "execution_count": 422,
   "id": "11c0db8b-6a6e-440e-bdc7-3b2eab4e05e8",
   "metadata": {},
   "outputs": [
    {
     "data": {
      "text/plain": [
       "(11570, 11)"
      ]
     },
     "execution_count": 422,
     "metadata": {},
     "output_type": "execute_result"
    }
   ],
   "source": [
    "# shape of dataframe\n",
    "df.shape"
   ]
  },
  {
   "cell_type": "code",
   "execution_count": 423,
   "id": "51f39b05-7d11-44ff-8792-781cce441576",
   "metadata": {},
   "outputs": [
    {
     "name": "stdout",
     "output_type": "stream",
     "text": [
      "<class 'pandas.core.frame.DataFrame'>\n",
      "RangeIndex: 11570 entries, 0 to 11569\n",
      "Data columns (total 11 columns):\n",
      " #   Column              Non-Null Count  Dtype \n",
      "---  ------              --------------  ----- \n",
      " 0   work_year           11570 non-null  int64 \n",
      " 1   experience_level    11570 non-null  object\n",
      " 2   employment_type     11570 non-null  object\n",
      " 3   job_title           11570 non-null  object\n",
      " 4   salary              11570 non-null  int64 \n",
      " 5   salary_currency     11570 non-null  object\n",
      " 6   salary_in_usd       11570 non-null  int64 \n",
      " 7   employee_residence  11570 non-null  object\n",
      " 8   remote_ratio        11570 non-null  int64 \n",
      " 9   company_location    11570 non-null  object\n",
      " 10  company_size        11570 non-null  object\n",
      "dtypes: int64(4), object(7)\n",
      "memory usage: 994.4+ KB\n"
     ]
    }
   ],
   "source": [
    "df.info()"
   ]
  },
  {
   "cell_type": "code",
   "execution_count": 424,
   "id": "faf092ee-4dab-4b69-a910-c6add9cc4cfe",
   "metadata": {},
   "outputs": [
    {
     "data": {
      "text/html": [
       "<div>\n",
       "<style scoped>\n",
       "    .dataframe tbody tr th:only-of-type {\n",
       "        vertical-align: middle;\n",
       "    }\n",
       "\n",
       "    .dataframe tbody tr th {\n",
       "        vertical-align: top;\n",
       "    }\n",
       "\n",
       "    .dataframe thead th {\n",
       "        text-align: right;\n",
       "    }\n",
       "</style>\n",
       "<table border=\"1\" class=\"dataframe\">\n",
       "  <thead>\n",
       "    <tr style=\"text-align: right;\">\n",
       "      <th></th>\n",
       "      <th>work_year</th>\n",
       "      <th>salary</th>\n",
       "      <th>salary_in_usd</th>\n",
       "      <th>remote_ratio</th>\n",
       "    </tr>\n",
       "  </thead>\n",
       "  <tbody>\n",
       "    <tr>\n",
       "      <th>count</th>\n",
       "      <td>11570.000000</td>\n",
       "      <td>1.157000e+04</td>\n",
       "      <td>11570.000000</td>\n",
       "      <td>11570.000000</td>\n",
       "    </tr>\n",
       "    <tr>\n",
       "      <th>mean</th>\n",
       "      <td>2022.896283</td>\n",
       "      <td>1.690995e+05</td>\n",
       "      <td>149710.030337</td>\n",
       "      <td>35.233362</td>\n",
       "    </tr>\n",
       "    <tr>\n",
       "      <th>std</th>\n",
       "      <td>0.601489</td>\n",
       "      <td>4.007793e+05</td>\n",
       "      <td>66971.253553</td>\n",
       "      <td>47.251010</td>\n",
       "    </tr>\n",
       "    <tr>\n",
       "      <th>min</th>\n",
       "      <td>2020.000000</td>\n",
       "      <td>1.400000e+04</td>\n",
       "      <td>15000.000000</td>\n",
       "      <td>0.000000</td>\n",
       "    </tr>\n",
       "    <tr>\n",
       "      <th>25%</th>\n",
       "      <td>2023.000000</td>\n",
       "      <td>1.046500e+05</td>\n",
       "      <td>104000.000000</td>\n",
       "      <td>0.000000</td>\n",
       "    </tr>\n",
       "    <tr>\n",
       "      <th>50%</th>\n",
       "      <td>2023.000000</td>\n",
       "      <td>1.422500e+05</td>\n",
       "      <td>142000.000000</td>\n",
       "      <td>0.000000</td>\n",
       "    </tr>\n",
       "    <tr>\n",
       "      <th>75%</th>\n",
       "      <td>2023.000000</td>\n",
       "      <td>1.886000e+05</td>\n",
       "      <td>185900.000000</td>\n",
       "      <td>100.000000</td>\n",
       "    </tr>\n",
       "    <tr>\n",
       "      <th>max</th>\n",
       "      <td>2024.000000</td>\n",
       "      <td>3.040000e+07</td>\n",
       "      <td>750000.000000</td>\n",
       "      <td>100.000000</td>\n",
       "    </tr>\n",
       "  </tbody>\n",
       "</table>\n",
       "</div>"
      ],
      "text/plain": [
       "          work_year        salary  salary_in_usd  remote_ratio\n",
       "count  11570.000000  1.157000e+04   11570.000000  11570.000000\n",
       "mean    2022.896283  1.690995e+05  149710.030337     35.233362\n",
       "std        0.601489  4.007793e+05   66971.253553     47.251010\n",
       "min     2020.000000  1.400000e+04   15000.000000      0.000000\n",
       "25%     2023.000000  1.046500e+05  104000.000000      0.000000\n",
       "50%     2023.000000  1.422500e+05  142000.000000      0.000000\n",
       "75%     2023.000000  1.886000e+05  185900.000000    100.000000\n",
       "max     2024.000000  3.040000e+07  750000.000000    100.000000"
      ]
     },
     "execution_count": 424,
     "metadata": {},
     "output_type": "execute_result"
    }
   ],
   "source": [
    "df.describe()"
   ]
  },
  {
   "cell_type": "code",
   "execution_count": 425,
   "id": "de2e4991-520e-4804-9211-31a4f60e40bc",
   "metadata": {},
   "outputs": [
    {
     "data": {
      "text/html": [
       "<div>\n",
       "<style scoped>\n",
       "    .dataframe tbody tr th:only-of-type {\n",
       "        vertical-align: middle;\n",
       "    }\n",
       "\n",
       "    .dataframe tbody tr th {\n",
       "        vertical-align: top;\n",
       "    }\n",
       "\n",
       "    .dataframe thead th {\n",
       "        text-align: right;\n",
       "    }\n",
       "</style>\n",
       "<table border=\"1\" class=\"dataframe\">\n",
       "  <thead>\n",
       "    <tr style=\"text-align: right;\">\n",
       "      <th></th>\n",
       "      <th>experience_level</th>\n",
       "      <th>employment_type</th>\n",
       "      <th>job_title</th>\n",
       "      <th>salary_currency</th>\n",
       "      <th>employee_residence</th>\n",
       "      <th>company_location</th>\n",
       "      <th>company_size</th>\n",
       "    </tr>\n",
       "  </thead>\n",
       "  <tbody>\n",
       "    <tr>\n",
       "      <th>count</th>\n",
       "      <td>11570</td>\n",
       "      <td>11570</td>\n",
       "      <td>11570</td>\n",
       "      <td>11570</td>\n",
       "      <td>11570</td>\n",
       "      <td>11570</td>\n",
       "      <td>11570</td>\n",
       "    </tr>\n",
       "    <tr>\n",
       "      <th>unique</th>\n",
       "      <td>4</td>\n",
       "      <td>4</td>\n",
       "      <td>134</td>\n",
       "      <td>22</td>\n",
       "      <td>87</td>\n",
       "      <td>76</td>\n",
       "      <td>3</td>\n",
       "    </tr>\n",
       "    <tr>\n",
       "      <th>top</th>\n",
       "      <td>SE</td>\n",
       "      <td>FT</td>\n",
       "      <td>Data Engineer</td>\n",
       "      <td>USD</td>\n",
       "      <td>US</td>\n",
       "      <td>US</td>\n",
       "      <td>M</td>\n",
       "    </tr>\n",
       "    <tr>\n",
       "      <th>freq</th>\n",
       "      <td>7940</td>\n",
       "      <td>11522</td>\n",
       "      <td>2594</td>\n",
       "      <td>10617</td>\n",
       "      <td>10015</td>\n",
       "      <td>10064</td>\n",
       "      <td>10532</td>\n",
       "    </tr>\n",
       "  </tbody>\n",
       "</table>\n",
       "</div>"
      ],
      "text/plain": [
       "       experience_level employment_type      job_title salary_currency  \\\n",
       "count             11570           11570          11570           11570   \n",
       "unique                4               4            134              22   \n",
       "top                  SE              FT  Data Engineer             USD   \n",
       "freq               7940           11522           2594           10617   \n",
       "\n",
       "       employee_residence company_location company_size  \n",
       "count               11570            11570        11570  \n",
       "unique                 87               76            3  \n",
       "top                    US               US            M  \n",
       "freq                10015            10064        10532  "
      ]
     },
     "execution_count": 425,
     "metadata": {},
     "output_type": "execute_result"
    }
   ],
   "source": [
    "df.describe(include = \"object\")"
   ]
  },
  {
   "cell_type": "markdown",
   "id": "67a260db-5000-46f5-9e69-b9a197a2ac92",
   "metadata": {},
   "source": [
    "# Checking conssistency of data"
   ]
  },
  {
   "cell_type": "code",
   "execution_count": 426,
   "id": "721ab58a-6e2b-4ae3-a56b-f6ca76f4d0be",
   "metadata": {},
   "outputs": [
    {
     "data": {
      "text/plain": [
       "True"
      ]
     },
     "execution_count": 426,
     "metadata": {},
     "output_type": "execute_result"
    }
   ],
   "source": [
    "df[\"job_title\"].dtype == \"object\""
   ]
  },
  {
   "cell_type": "code",
   "execution_count": 427,
   "id": "aca5cfe1-d88d-45d7-8014-01063f583831",
   "metadata": {},
   "outputs": [
    {
     "data": {
      "text/plain": [
       "False"
      ]
     },
     "execution_count": 427,
     "metadata": {},
     "output_type": "execute_result"
    }
   ],
   "source": [
    "df[\"salary\"].dtype == \"object\""
   ]
  },
  {
   "cell_type": "code",
   "execution_count": 428,
   "id": "2abb0bda-cbd7-4c8a-8010-43bcea14d048",
   "metadata": {},
   "outputs": [
    {
     "data": {
      "text/plain": [
       "Index(['work_year', 'experience_level', 'employment_type', 'job_title',\n",
       "       'salary', 'salary_currency', 'salary_in_usd', 'employee_residence',\n",
       "       'remote_ratio', 'company_location', 'company_size'],\n",
       "      dtype='object')"
      ]
     },
     "execution_count": 428,
     "metadata": {},
     "output_type": "execute_result"
    }
   ],
   "source": [
    "df.columns"
   ]
  },
  {
   "cell_type": "code",
   "execution_count": 429,
   "id": "0ec36440-1a33-4260-95c9-54ecf31499a6",
   "metadata": {},
   "outputs": [
    {
     "data": {
      "text/plain": [
       "['experience_level',\n",
       " 'employment_type',\n",
       " 'job_title',\n",
       " 'salary_currency',\n",
       " 'employee_residence',\n",
       " 'company_location',\n",
       " 'company_size']"
      ]
     },
     "execution_count": 429,
     "metadata": {},
     "output_type": "execute_result"
    }
   ],
   "source": [
    "cat_cols = [col for col in df.columns if df[col].dtype == \"object\"]\n",
    "cat_cols"
   ]
  },
  {
   "cell_type": "code",
   "execution_count": 430,
   "id": "12bf872c-71f2-43ec-8f68-f577815d4c04",
   "metadata": {},
   "outputs": [
    {
     "data": {
      "text/plain": [
       "array(['FT', 'CT', 'PT', 'FL'], dtype=object)"
      ]
     },
     "execution_count": 430,
     "metadata": {},
     "output_type": "execute_result"
    }
   ],
   "source": [
    "df[\"employment_type\"].unique()"
   ]
  },
  {
   "cell_type": "code",
   "execution_count": 431,
   "id": "144a35d9-2ac3-444b-b06b-4db0a318f54e",
   "metadata": {},
   "outputs": [
    {
     "data": {
      "text/plain": [
       "4"
      ]
     },
     "execution_count": 431,
     "metadata": {},
     "output_type": "execute_result"
    }
   ],
   "source": [
    "df[\"employment_type\"].nunique()"
   ]
  },
  {
   "cell_type": "code",
   "execution_count": 432,
   "id": "c1641b79-0e05-4e13-b28e-a3624caa3095",
   "metadata": {},
   "outputs": [
    {
     "name": "stdout",
     "output_type": "stream",
     "text": [
      "experience_level\n",
      "Number of unique Elements: 4\n",
      "Number of unique Elements: ['EN' 'SE' 'MI' 'EX']\n",
      "--------------------------------------------\n",
      "\n",
      "employment_type\n",
      "Number of unique Elements: 4\n",
      "Number of unique Elements: ['FT' 'CT' 'PT' 'FL']\n",
      "--------------------------------------------\n",
      "\n",
      "job_title\n",
      "Number of unique Elements: 134\n",
      "Number of unique Elements: ['Admin & Data Analyst' 'Data Management Specialist' 'Data Scientist'\n",
      " 'Data Product Manager' 'Data Engineer' 'Data Analyst' 'Data Architect'\n",
      " 'Machine Learning Engineer' 'Data Science' 'ML Engineer' 'Data Manager'\n",
      " 'Research Engineer' 'Data Analytics Consultant' 'Research Scientist'\n",
      " 'Applied Scientist' 'Analytics Engineer' 'Business Intelligence Engineer'\n",
      " 'Data Science Engineer' 'AI Engineer' 'Business Intelligence Manager'\n",
      " 'Data Specialist' 'Machine Learning Scientist'\n",
      " 'Data Integration Specialist' 'Research Analyst'\n",
      " 'Data Analytics Specialist' 'Business Intelligence Analyst'\n",
      " 'Lead Data Analyst' 'Data Operations Analyst' 'Data Management Analyst'\n",
      " 'Data Science Consultant' 'Data Science Manager'\n",
      " 'Business Intelligence Developer' 'Head of Data' 'Prompt Engineer'\n",
      " 'Data Science Director' 'Data Modeler' 'Data Lead' 'Data Science Lead'\n",
      " 'Data Operations Associate' 'Data Developer' 'AI Research Engineer'\n",
      " 'BI Developer' 'Director of Data Science' 'MLOps Engineer'\n",
      " 'Managing Director Data Science' 'Data Quality Analyst'\n",
      " 'Data Visualization Specialist' 'ETL Developer'\n",
      " 'Data Science Practitioner' 'Computer Vision Engineer' 'AI Architect'\n",
      " 'Data Analytics Manager' 'Data Strategist' 'Data Quality Manager'\n",
      " 'AI Product Manager' 'Data Analytics Lead' 'Data Product Owner'\n",
      " 'Machine Learning Infrastructure Engineer' 'Data Integration Engineer'\n",
      " 'BI Analyst' 'Business Data Analyst'\n",
      " 'Machine Learning Operations Engineer' 'Data Analyst Lead' 'NLP Engineer'\n",
      " 'Marketing Data Scientist' 'AI Scientist' 'Insight Analyst'\n",
      " 'Data DevOps Engineer' 'Machine Learning Researcher'\n",
      " 'Deep Learning Engineer' 'AI Developer' 'Machine Learning Modeler'\n",
      " 'BI Data Analyst' 'Business Intelligence Specialist'\n",
      " 'Data Quality Engineer' 'AI Programmer' 'Decision Scientist'\n",
      " 'Financial Data Analyst' 'Data Strategy Manager'\n",
      " 'Data Visualization Engineer' 'Azure Data Engineer'\n",
      " 'Principal Data Scientist' 'Staff Data Analyst'\n",
      " 'Data Infrastructure Engineer' 'Machine Learning Software Engineer'\n",
      " 'Head of Machine Learning' 'Applied Data Scientist'\n",
      " 'Applied Machine Learning Scientist' 'Data Operations Engineer'\n",
      " 'Machine Learning Manager' 'Lead Data Scientist'\n",
      " 'Principal Machine Learning Engineer' 'Principal Data Engineer'\n",
      " 'Power BI Developer' 'Head of Data Science'\n",
      " 'Staff Machine Learning Engineer' 'Staff Data Scientist'\n",
      " 'Consultant Data Engineer' 'Machine Learning Specialist'\n",
      " 'Business Intelligence Data Analyst' 'Data Operations Manager'\n",
      " 'Lead Machine Learning Engineer' 'Data Modeller' 'Finance Data Analyst'\n",
      " 'Software Data Engineer' 'Machine Learning Research Engineer'\n",
      " 'Compliance Data Analyst' 'Data Operations Specialist'\n",
      " 'Cloud Data Engineer' 'Analytics Engineering Manager'\n",
      " 'AWS Data Architect' 'Product Data Analyst' 'Machine Learning Developer'\n",
      " 'Data Visualization Analyst' 'Autonomous Vehicle Technician'\n",
      " 'Sales Data Analyst' 'Applied Machine Learning Engineer' 'ETL Engineer'\n",
      " 'Big Data Engineer' 'BI Data Engineer' 'Cloud Database Engineer'\n",
      " 'Deep Learning Researcher' 'Big Data Architect'\n",
      " 'Computer Vision Software Engineer' 'Marketing Data Engineer'\n",
      " 'Manager Data Management' 'Data Science Tech Lead' 'Data Scientist Lead'\n",
      " 'Marketing Data Analyst' 'Principal Data Architect'\n",
      " 'Data Analytics Engineer' 'Cloud Data Architect' 'Lead Data Engineer'\n",
      " 'Principal Data Analyst']\n",
      "--------------------------------------------\n",
      "\n",
      "salary_currency\n",
      "Number of unique Elements: 22\n",
      "Number of unique Elements: ['USD' 'GBP' 'CAD' 'EUR' 'AUD' 'INR' 'PLN' 'BRL' 'PHP' 'TRY' 'CHF' 'NOK'\n",
      " 'JPY' 'ZAR' 'HKD' 'SGD' 'ILS' 'THB' 'HUF' 'DKK' 'MXN' 'CLP']\n",
      "--------------------------------------------\n",
      "\n",
      "employee_residence\n",
      "Number of unique Elements: 87\n",
      "Number of unique Elements: ['DE' 'US' 'CA' 'ZA' 'AU' 'UA' 'GB' 'MT' 'IN' 'ES' 'LV' 'HR' 'LB' 'RO'\n",
      " 'EG' 'PT' 'IE' 'NZ' 'HU' 'VN' 'NG' 'PH' 'PL' 'FR' 'CZ' 'NL' 'PK' 'LT'\n",
      " 'UG' 'CO' 'IT' 'SI' 'GR' 'MU' 'AM' 'TH' 'KR' 'EE' 'TR' 'BR' 'QA' 'RU'\n",
      " 'KE' 'TN' 'GH' 'BE' 'CH' 'AD' 'EC' 'PE' 'MX' 'MD' 'SA' 'NO' 'AR' 'UZ'\n",
      " 'GE' 'JP' 'HK' 'CF' 'FI' 'IL' 'AT' 'SG' 'SE' 'KW' 'CY' 'BA' 'IR' 'AS'\n",
      " 'CN' 'CR' 'CL' 'PR' 'DK' 'BO' 'DO' 'ID' 'AE' 'MY' 'HN' 'DZ' 'IQ' 'BG'\n",
      " 'JE' 'RS' 'LU']\n",
      "--------------------------------------------\n",
      "\n",
      "company_location\n",
      "Number of unique Elements: 76\n",
      "Number of unique Elements: ['DE' 'US' 'CA' 'ZA' 'AU' 'UA' 'GB' 'MT' 'IN' 'ES' 'LV' 'HU' 'LB' 'RO'\n",
      " 'EG' 'PT' 'IE' 'NZ' 'VN' 'NG' 'PH' 'PL' 'FR' 'NL' 'LU' 'LT' 'GI' 'CO'\n",
      " 'SI' 'GR' 'MU' 'RU' 'IT' 'KR' 'EE' 'CZ' 'CH' 'BR' 'QA' 'KE' 'DK' 'GH'\n",
      " 'SE' 'TR' 'AD' 'EC' 'MX' 'IL' 'SA' 'NO' 'AR' 'JP' 'HK' 'CF' 'FI' 'SG'\n",
      " 'TH' 'HR' 'AM' 'BA' 'PK' 'IR' 'BS' 'AT' 'PR' 'AS' 'BE' 'ID' 'AE' 'MY'\n",
      " 'HN' 'DZ' 'IQ' 'CN' 'CL' 'MD']\n",
      "--------------------------------------------\n",
      "\n",
      "company_size\n",
      "Number of unique Elements: 3\n",
      "Number of unique Elements: ['M' 'L' 'S']\n",
      "--------------------------------------------\n",
      "\n"
     ]
    }
   ],
   "source": [
    "for col in cat_cols:\n",
    " unique_number = df[col].nunique() \n",
    " unique_elements = df[col].unique() \n",
    " print(col)\n",
    " print(\"Number of unique Elements:\", unique_number)\n",
    " print(\"Number of unique Elements:\", unique_elements)\n",
    " print(\"--------------------------------------------\")\n",
    " print()"
   ]
  },
  {
   "cell_type": "markdown",
   "id": "073b09b6-a8fb-4fb5-843f-46aa2695dbfb",
   "metadata": {},
   "source": [
    " # Obervation"
   ]
  },
  {
   "cell_type": "code",
   "execution_count": null,
   "id": "83d04d87-c185-4df5-bb2b-6e308351dc89",
   "metadata": {},
   "outputs": [],
   "source": []
  },
  {
   "cell_type": "markdown",
   "id": "78e9842e-b8e2-404f-afb4-84a7eb81c08d",
   "metadata": {},
   "source": [
    "# Data Cleaning"
   ]
  },
  {
   "cell_type": "markdown",
   "id": "c4dbc61c-3bda-4b2f-b743-6bedb3905114",
   "metadata": {},
   "source": [
    "## make a new column named \"job_title_cleaned\" and merge overlapping job title with each other"
   ]
  },
  {
   "cell_type": "code",
   "execution_count": 433,
   "id": "fdc66bce-dbba-4e7f-ad7a-179c7808e921",
   "metadata": {},
   "outputs": [
    {
     "data": {
      "text/plain": [
       "134"
      ]
     },
     "execution_count": 433,
     "metadata": {},
     "output_type": "execute_result"
    }
   ],
   "source": [
    "titles = df[\"job_title\"].unique()\n",
    "len(titles)\n"
   ]
  },
  {
   "cell_type": "code",
   "execution_count": null,
   "id": "8287e165-aff2-4f1b-81cc-e30573aa4dc1",
   "metadata": {},
   "outputs": [],
   "source": []
  },
  {
   "cell_type": "code",
   "execution_count": 434,
   "id": "52560fe2-8585-4e97-9831-9de8968b810a",
   "metadata": {},
   "outputs": [],
   "source": [
    "analyst_keywords = [\"analy\" , \"bi\"]"
   ]
  },
  {
   "cell_type": "code",
   "execution_count": 435,
   "id": "925b3a02-3e9a-4472-b87f-8c7b2ed37df4",
   "metadata": {},
   "outputs": [
    {
     "data": {
      "text/plain": [
       "37"
      ]
     },
     "execution_count": 435,
     "metadata": {},
     "output_type": "execute_result"
    }
   ],
   "source": [
    "analyst_keywords = [\"analy\", \"bi\"]\n",
    "analyst_job_titles = []\n",
    "for keyword in analyst_keywords:\n",
    "  for title in titles:\n",
    "    if keyword in title.lower():\n",
    "      analyst_job_titles.append(title)\n",
    "\n",
    "len(analyst_job_titles)"
   ]
  },
  {
   "cell_type": "code",
   "execution_count": 436,
   "id": "a5e0204d-7e3b-4f0e-9321-cd7a807b67e4",
   "metadata": {},
   "outputs": [],
   "source": [
    "# remove non analyist job titles from list\n",
    "rem_title_list_analyst = ['Analytics Engineering Manager','Big Data Engineer',\n",
    " 'BI Data Engineer',\n",
    " 'Big Data Architect']\n"
   ]
  },
  {
   "cell_type": "code",
   "execution_count": 437,
   "id": "18fbb99d-1aff-4a57-91ec-aa1ab3b8b9f2",
   "metadata": {},
   "outputs": [
    {
     "data": {
      "text/plain": [
       "31"
      ]
     },
     "execution_count": 437,
     "metadata": {},
     "output_type": "execute_result"
    }
   ],
   "source": [
    "analyst_job_titles = list(set(analyst_job_titles) - set(rem_title_list_analyst))\n",
    "len(analyst_job_titles)"
   ]
  },
  {
   "cell_type": "code",
   "execution_count": 438,
   "id": "be122c70-44b9-4dd6-b24a-820e985b99ef",
   "metadata": {},
   "outputs": [
    {
     "data": {
      "text/plain": [
       "103"
      ]
     },
     "execution_count": 438,
     "metadata": {},
     "output_type": "execute_result"
    }
   ],
   "source": [
    "#remove data analyist job titles from title list\n",
    "titles = list(set(titles) - set(analyst_job_titles))\n",
    "len(titles)\n"
   ]
  },
  {
   "cell_type": "code",
   "execution_count": 439,
   "id": "cc84967c-10f1-4164-a524-9a9a4a13ac5b",
   "metadata": {},
   "outputs": [
    {
     "data": {
      "text/plain": [
       "24"
      ]
     },
     "execution_count": 439,
     "metadata": {},
     "output_type": "execute_result"
    }
   ],
   "source": [
    "#filter data dcintist job title\n",
    "scientist_keywords = [\"scien\"]\n",
    "scientist_job_titles = []\n",
    "for keyword in scientist_keywords:\n",
    "  for title in titles:\n",
    "    if keyword in title.lower():\n",
    "      scientist_job_titles.append(title)\n",
    "\n",
    "len(scientist_job_titles)"
   ]
  },
  {
   "cell_type": "code",
   "execution_count": 440,
   "id": "1b67b3ed-a8c0-4cef-b8cd-1c548f90ac47",
   "metadata": {},
   "outputs": [
    {
     "data": {
      "text/plain": [
       "79"
      ]
     },
     "execution_count": 440,
     "metadata": {},
     "output_type": "execute_result"
    }
   ],
   "source": [
    "#remove data scintist job title form title list\n",
    "titles = list(set(titles) - set(scientist_job_titles))\n",
    "len(titles)"
   ]
  },
  {
   "cell_type": "code",
   "execution_count": 441,
   "id": "4908b2de-f1a3-44b0-858a-15fcd04104d5",
   "metadata": {},
   "outputs": [
    {
     "data": {
      "text/plain": [
       "39"
      ]
     },
     "execution_count": 441,
     "metadata": {},
     "output_type": "execute_result"
    }
   ],
   "source": [
    "#filter data engineer job title\n",
    "engineer_keywords = [\"engin\"]\n",
    "engineer_job_titles = []\n",
    "for keyword in engineer_keywords:\n",
    "  for title in titles:\n",
    "    if keyword in title.lower():\n",
    "      engineer_job_titles.append(title)\n",
    "len(engineer_job_titles)"
   ]
  },
  {
   "cell_type": "code",
   "execution_count": 442,
   "id": "1712295c-c92e-42b5-8898-a31ec8c25dd3",
   "metadata": {
    "scrolled": true
   },
   "outputs": [
    {
     "data": {
      "text/plain": [
       "['Data Engineer',\n",
       " 'Machine Learning Operations Engineer',\n",
       " 'Computer Vision Software Engineer',\n",
       " 'MLOps Engineer',\n",
       " 'Staff Machine Learning Engineer',\n",
       " 'AI Research Engineer',\n",
       " 'Data Visualization Engineer',\n",
       " 'Software Data Engineer',\n",
       " 'Lead Machine Learning Engineer',\n",
       " 'Machine Learning Research Engineer',\n",
       " 'Data Integration Engineer',\n",
       " 'Applied Machine Learning Engineer',\n",
       " 'Cloud Data Engineer',\n",
       " 'NLP Engineer',\n",
       " 'ML Engineer',\n",
       " 'Cloud Database Engineer',\n",
       " 'Computer Vision Engineer',\n",
       " 'Principal Data Engineer',\n",
       " 'Machine Learning Engineer',\n",
       " 'Data Infrastructure Engineer',\n",
       " 'ETL Engineer',\n",
       " 'Data Quality Engineer',\n",
       " 'Consultant Data Engineer',\n",
       " 'Marketing Data Engineer',\n",
       " 'Deep Learning Engineer',\n",
       " 'Lead Data Engineer',\n",
       " 'Prompt Engineer',\n",
       " 'Machine Learning Software Engineer',\n",
       " 'Analytics Engineering Manager',\n",
       " 'Research Engineer',\n",
       " 'Big Data Engineer',\n",
       " 'Data Operations Engineer',\n",
       " 'Business Intelligence Engineer',\n",
       " 'AI Engineer',\n",
       " 'Azure Data Engineer',\n",
       " 'Data DevOps Engineer',\n",
       " 'Machine Learning Infrastructure Engineer',\n",
       " 'BI Data Engineer',\n",
       " 'Principal Machine Learning Engineer']"
      ]
     },
     "execution_count": 442,
     "metadata": {},
     "output_type": "execute_result"
    }
   ],
   "source": [
    "engineer_job_titles"
   ]
  },
  {
   "cell_type": "code",
   "execution_count": 443,
   "id": "aa7a6e01-bd46-4783-8666-c2485ca4f6a9",
   "metadata": {},
   "outputs": [
    {
     "data": {
      "text/plain": [
       "34"
      ]
     },
     "execution_count": 443,
     "metadata": {},
     "output_type": "execute_result"
    }
   ],
   "source": [
    "#removing non data engineering job titles\n",
    "rem_title_list_engineer = ['Computer Vision Software Engineer','Deep Learning Engineer','Computer Vision Engineer',\n",
    " 'Prompt Engineer','NLP Engineer']\n",
    "\n",
    "engineer_job_titles = list(set(engineer_job_titles) - set(rem_title_list_engineer))\n",
    "len(engineer_job_titles)"
   ]
  },
  {
   "cell_type": "code",
   "execution_count": 444,
   "id": "3d80f347-a725-4bd2-92ef-f7817fd64c40",
   "metadata": {},
   "outputs": [
    {
     "data": {
      "text/plain": [
       "45"
      ]
     },
     "execution_count": 444,
     "metadata": {},
     "output_type": "execute_result"
    }
   ],
   "source": [
    "#removing data engineering job \n",
    "titles = list(set(titles) - set(engineer_job_titles))\n",
    "len(titles)"
   ]
  },
  {
   "cell_type": "code",
   "execution_count": 445,
   "id": "95cefe1c-1452-44d0-9dd7-aeca8d59b256",
   "metadata": {},
   "outputs": [],
   "source": [
    "ds = ['AI Developer','Computer Vision Engineer','Machine Learning Specialist',\n",
    "      'Machine Learning Researcher','Deep Learning Researcher',\n",
    "      'Head of Machine Learning','Machine Learning Manager','Machine Learning Developer','NLP Engineer',\n",
    "      'Machine Learning Modeler','Computer Vision Software Engineer', 'Deep Learning Engineer', 'AI Programmer']\n",
    "\n",
    "da = ['Business Intelligence Specialist', 'Data Visualization Specialist',\n",
    "      'Business Intelligence Manager','Business Intelligence Developer']\n",
    "\n",
    "de = [ 'Data Operations Associate','Data Integration Specialist','Data Modeller',\n",
    "      'Data Operations Specialist','Big Data Architect','Principal Data Architect',\n",
    "      'AWS Data Architect','Data Operations Manager','Data Modeler','ETL Developer','AI Architect',\n",
    "      'Cloud Data Architect','Data Architect']"
   ]
  },
  {
   "cell_type": "code",
   "execution_count": 446,
   "id": "f6e9fea5-eb14-4668-aa26-166e81a670b2",
   "metadata": {},
   "outputs": [],
   "source": [
    "analyst_job_titles.extend(da)\n",
    "engineer_job_titles.extend(de)\n",
    "scientist_job_titles.extend(ds)"
   ]
  },
  {
   "cell_type": "code",
   "execution_count": 447,
   "id": "0a035aea-f0b8-4ea5-ae62-b8d85e13b675",
   "metadata": {},
   "outputs": [
    {
     "data": {
      "text/plain": [
       "(35, 37, 47)"
      ]
     },
     "execution_count": 447,
     "metadata": {},
     "output_type": "execute_result"
    }
   ],
   "source": [
    "len(analyst_job_titles),len(scientist_job_titles),len(engineer_job_titles)"
   ]
  },
  {
   "cell_type": "code",
   "execution_count": 448,
   "id": "4e06596d-51da-4359-96b2-018008690d6a",
   "metadata": {},
   "outputs": [
    {
     "data": {
      "text/plain": [
       "{'AI Product Manager',\n",
       " 'Autonomous Vehicle Technician',\n",
       " 'Data Developer',\n",
       " 'Data Lead',\n",
       " 'Data Management Specialist',\n",
       " 'Data Manager',\n",
       " 'Data Product Manager',\n",
       " 'Data Product Owner',\n",
       " 'Data Quality Manager',\n",
       " 'Data Specialist',\n",
       " 'Data Strategist',\n",
       " 'Data Strategy Manager',\n",
       " 'Head of Data',\n",
       " 'Manager Data Management',\n",
       " 'Prompt Engineer'}"
      ]
     },
     "execution_count": 448,
     "metadata": {},
     "output_type": "execute_result"
    }
   ],
   "source": [
    "set(titles) - set(analyst_job_titles) - set(scientist_job_titles) - set(engineer_job_titles)"
   ]
  },
  {
   "cell_type": "code",
   "execution_count": 449,
   "id": "2d03b78f-3c13-4a17-bbe6-3710da0616c2",
   "metadata": {},
   "outputs": [],
   "source": [
    "df[\"clean_job_titles\"] = np.where(df[\"job_title\"].isin(analyst_job_titles), \"Data Analyst\",\n",
    "                         np.where(df[\"job_title\"].isin(scientist_job_titles), \"Data Scientist\",\n",
    "                         np.where(df[\"job_title\"].isin(engineer_job_titles), \"Data Engineer\", df[\"job_title\"])))"
   ]
  },
  {
   "cell_type": "code",
   "execution_count": 450,
   "id": "193f7beb-1fba-4543-be31-4e13f682f932",
   "metadata": {},
   "outputs": [
    {
     "data": {
      "text/html": [
       "<div>\n",
       "<style scoped>\n",
       "    .dataframe tbody tr th:only-of-type {\n",
       "        vertical-align: middle;\n",
       "    }\n",
       "\n",
       "    .dataframe tbody tr th {\n",
       "        vertical-align: top;\n",
       "    }\n",
       "\n",
       "    .dataframe thead th {\n",
       "        text-align: right;\n",
       "    }\n",
       "</style>\n",
       "<table border=\"1\" class=\"dataframe\">\n",
       "  <thead>\n",
       "    <tr style=\"text-align: right;\">\n",
       "      <th></th>\n",
       "      <th>work_year</th>\n",
       "      <th>experience_level</th>\n",
       "      <th>employment_type</th>\n",
       "      <th>job_title</th>\n",
       "      <th>salary</th>\n",
       "      <th>salary_currency</th>\n",
       "      <th>salary_in_usd</th>\n",
       "      <th>employee_residence</th>\n",
       "      <th>remote_ratio</th>\n",
       "      <th>company_location</th>\n",
       "      <th>company_size</th>\n",
       "      <th>clean_job_titles</th>\n",
       "    </tr>\n",
       "  </thead>\n",
       "  <tbody>\n",
       "    <tr>\n",
       "      <th>0</th>\n",
       "      <td>2023</td>\n",
       "      <td>EN</td>\n",
       "      <td>FT</td>\n",
       "      <td>Admin &amp; Data Analyst</td>\n",
       "      <td>50000</td>\n",
       "      <td>USD</td>\n",
       "      <td>50000</td>\n",
       "      <td>DE</td>\n",
       "      <td>0</td>\n",
       "      <td>DE</td>\n",
       "      <td>M</td>\n",
       "      <td>Data Analyst</td>\n",
       "    </tr>\n",
       "    <tr>\n",
       "      <th>1</th>\n",
       "      <td>2024</td>\n",
       "      <td>SE</td>\n",
       "      <td>FT</td>\n",
       "      <td>Data Management Specialist</td>\n",
       "      <td>200400</td>\n",
       "      <td>USD</td>\n",
       "      <td>200400</td>\n",
       "      <td>US</td>\n",
       "      <td>0</td>\n",
       "      <td>US</td>\n",
       "      <td>M</td>\n",
       "      <td>Data Management Specialist</td>\n",
       "    </tr>\n",
       "    <tr>\n",
       "      <th>2</th>\n",
       "      <td>2024</td>\n",
       "      <td>SE</td>\n",
       "      <td>FT</td>\n",
       "      <td>Data Management Specialist</td>\n",
       "      <td>116500</td>\n",
       "      <td>USD</td>\n",
       "      <td>116500</td>\n",
       "      <td>US</td>\n",
       "      <td>0</td>\n",
       "      <td>US</td>\n",
       "      <td>M</td>\n",
       "      <td>Data Management Specialist</td>\n",
       "    </tr>\n",
       "    <tr>\n",
       "      <th>3</th>\n",
       "      <td>2024</td>\n",
       "      <td>SE</td>\n",
       "      <td>FT</td>\n",
       "      <td>Data Scientist</td>\n",
       "      <td>188500</td>\n",
       "      <td>USD</td>\n",
       "      <td>188500</td>\n",
       "      <td>US</td>\n",
       "      <td>0</td>\n",
       "      <td>US</td>\n",
       "      <td>M</td>\n",
       "      <td>Data Scientist</td>\n",
       "    </tr>\n",
       "    <tr>\n",
       "      <th>4</th>\n",
       "      <td>2024</td>\n",
       "      <td>SE</td>\n",
       "      <td>FT</td>\n",
       "      <td>Data Scientist</td>\n",
       "      <td>165100</td>\n",
       "      <td>USD</td>\n",
       "      <td>165100</td>\n",
       "      <td>US</td>\n",
       "      <td>0</td>\n",
       "      <td>US</td>\n",
       "      <td>M</td>\n",
       "      <td>Data Scientist</td>\n",
       "    </tr>\n",
       "  </tbody>\n",
       "</table>\n",
       "</div>"
      ],
      "text/plain": [
       "   work_year experience_level employment_type                   job_title  \\\n",
       "0       2023               EN              FT        Admin & Data Analyst   \n",
       "1       2024               SE              FT  Data Management Specialist   \n",
       "2       2024               SE              FT  Data Management Specialist   \n",
       "3       2024               SE              FT              Data Scientist   \n",
       "4       2024               SE              FT              Data Scientist   \n",
       "\n",
       "   salary salary_currency  salary_in_usd employee_residence  remote_ratio  \\\n",
       "0   50000             USD          50000                 DE             0   \n",
       "1  200400             USD         200400                 US             0   \n",
       "2  116500             USD         116500                 US             0   \n",
       "3  188500             USD         188500                 US             0   \n",
       "4  165100             USD         165100                 US             0   \n",
       "\n",
       "  company_location company_size            clean_job_titles  \n",
       "0               DE            M                Data Analyst  \n",
       "1               US            M  Data Management Specialist  \n",
       "2               US            M  Data Management Specialist  \n",
       "3               US            M              Data Scientist  \n",
       "4               US            M              Data Scientist  "
      ]
     },
     "execution_count": 450,
     "metadata": {},
     "output_type": "execute_result"
    }
   ],
   "source": [
    "df.head()"
   ]
  },
  {
   "cell_type": "code",
   "execution_count": 451,
   "id": "02b8359b-cbdc-4227-87ff-6288901e235e",
   "metadata": {},
   "outputs": [],
   "source": [
    "df.to_csv(\"clean_Salary.csv\")"
   ]
  },
  {
   "cell_type": "markdown",
   "id": "34a8c93e-21cf-4c1d-a617-b2663568f4ab",
   "metadata": {},
   "source": [
    "# DATA ANALYSIS"
   ]
  },
  {
   "cell_type": "code",
   "execution_count": 452,
   "id": "5831f31d-219b-4cca-8605-6d0ecc4a1dbc",
   "metadata": {},
   "outputs": [
    {
     "data": {
      "text/html": [
       "<div>\n",
       "<style scoped>\n",
       "    .dataframe tbody tr th:only-of-type {\n",
       "        vertical-align: middle;\n",
       "    }\n",
       "\n",
       "    .dataframe tbody tr th {\n",
       "        vertical-align: top;\n",
       "    }\n",
       "\n",
       "    .dataframe thead th {\n",
       "        text-align: right;\n",
       "    }\n",
       "</style>\n",
       "<table border=\"1\" class=\"dataframe\">\n",
       "  <thead>\n",
       "    <tr style=\"text-align: right;\">\n",
       "      <th></th>\n",
       "      <th>Unnamed: 0</th>\n",
       "      <th>work_year</th>\n",
       "      <th>experience_level</th>\n",
       "      <th>employment_type</th>\n",
       "      <th>job_title</th>\n",
       "      <th>salary</th>\n",
       "      <th>salary_currency</th>\n",
       "      <th>salary_in_usd</th>\n",
       "      <th>employee_residence</th>\n",
       "      <th>remote_ratio</th>\n",
       "      <th>company_location</th>\n",
       "      <th>company_size</th>\n",
       "      <th>clean_job_titles</th>\n",
       "    </tr>\n",
       "  </thead>\n",
       "  <tbody>\n",
       "    <tr>\n",
       "      <th>0</th>\n",
       "      <td>0</td>\n",
       "      <td>2023</td>\n",
       "      <td>EN</td>\n",
       "      <td>FT</td>\n",
       "      <td>Admin &amp; Data Analyst</td>\n",
       "      <td>50000</td>\n",
       "      <td>USD</td>\n",
       "      <td>50000</td>\n",
       "      <td>DE</td>\n",
       "      <td>0</td>\n",
       "      <td>DE</td>\n",
       "      <td>M</td>\n",
       "      <td>Data Analyst</td>\n",
       "    </tr>\n",
       "    <tr>\n",
       "      <th>1</th>\n",
       "      <td>1</td>\n",
       "      <td>2024</td>\n",
       "      <td>SE</td>\n",
       "      <td>FT</td>\n",
       "      <td>Data Management Specialist</td>\n",
       "      <td>200400</td>\n",
       "      <td>USD</td>\n",
       "      <td>200400</td>\n",
       "      <td>US</td>\n",
       "      <td>0</td>\n",
       "      <td>US</td>\n",
       "      <td>M</td>\n",
       "      <td>Data Management Specialist</td>\n",
       "    </tr>\n",
       "    <tr>\n",
       "      <th>2</th>\n",
       "      <td>2</td>\n",
       "      <td>2024</td>\n",
       "      <td>SE</td>\n",
       "      <td>FT</td>\n",
       "      <td>Data Management Specialist</td>\n",
       "      <td>116500</td>\n",
       "      <td>USD</td>\n",
       "      <td>116500</td>\n",
       "      <td>US</td>\n",
       "      <td>0</td>\n",
       "      <td>US</td>\n",
       "      <td>M</td>\n",
       "      <td>Data Management Specialist</td>\n",
       "    </tr>\n",
       "    <tr>\n",
       "      <th>3</th>\n",
       "      <td>3</td>\n",
       "      <td>2024</td>\n",
       "      <td>SE</td>\n",
       "      <td>FT</td>\n",
       "      <td>Data Scientist</td>\n",
       "      <td>188500</td>\n",
       "      <td>USD</td>\n",
       "      <td>188500</td>\n",
       "      <td>US</td>\n",
       "      <td>0</td>\n",
       "      <td>US</td>\n",
       "      <td>M</td>\n",
       "      <td>Data Scientist</td>\n",
       "    </tr>\n",
       "    <tr>\n",
       "      <th>4</th>\n",
       "      <td>4</td>\n",
       "      <td>2024</td>\n",
       "      <td>SE</td>\n",
       "      <td>FT</td>\n",
       "      <td>Data Scientist</td>\n",
       "      <td>165100</td>\n",
       "      <td>USD</td>\n",
       "      <td>165100</td>\n",
       "      <td>US</td>\n",
       "      <td>0</td>\n",
       "      <td>US</td>\n",
       "      <td>M</td>\n",
       "      <td>Data Scientist</td>\n",
       "    </tr>\n",
       "  </tbody>\n",
       "</table>\n",
       "</div>"
      ],
      "text/plain": [
       "   Unnamed: 0  work_year experience_level employment_type  \\\n",
       "0           0       2023               EN              FT   \n",
       "1           1       2024               SE              FT   \n",
       "2           2       2024               SE              FT   \n",
       "3           3       2024               SE              FT   \n",
       "4           4       2024               SE              FT   \n",
       "\n",
       "                    job_title  salary salary_currency  salary_in_usd  \\\n",
       "0        Admin & Data Analyst   50000             USD          50000   \n",
       "1  Data Management Specialist  200400             USD         200400   \n",
       "2  Data Management Specialist  116500             USD         116500   \n",
       "3              Data Scientist  188500             USD         188500   \n",
       "4              Data Scientist  165100             USD         165100   \n",
       "\n",
       "  employee_residence  remote_ratio company_location company_size  \\\n",
       "0                 DE             0               DE            M   \n",
       "1                 US             0               US            M   \n",
       "2                 US             0               US            M   \n",
       "3                 US             0               US            M   \n",
       "4                 US             0               US            M   \n",
       "\n",
       "             clean_job_titles  \n",
       "0                Data Analyst  \n",
       "1  Data Management Specialist  \n",
       "2  Data Management Specialist  \n",
       "3              Data Scientist  \n",
       "4              Data Scientist  "
      ]
     },
     "execution_count": 452,
     "metadata": {},
     "output_type": "execute_result"
    }
   ],
   "source": [
    "df = pd.read_csv(\"clean_Salary.csv\")\n",
    "df.head()"
   ]
  },
  {
   "cell_type": "code",
   "execution_count": 453,
   "id": "5d3a172f-e287-41cc-ba30-74de21889b1c",
   "metadata": {},
   "outputs": [],
   "source": [
    "df.drop(columns = [\"Unnamed: 0\" , \"job_title\"],inplace = True)"
   ]
  },
  {
   "cell_type": "code",
   "execution_count": 454,
   "id": "471a5799-73fb-47f4-96c8-80f1a8b526ef",
   "metadata": {},
   "outputs": [
    {
     "data": {
      "text/html": [
       "<div>\n",
       "<style scoped>\n",
       "    .dataframe tbody tr th:only-of-type {\n",
       "        vertical-align: middle;\n",
       "    }\n",
       "\n",
       "    .dataframe tbody tr th {\n",
       "        vertical-align: top;\n",
       "    }\n",
       "\n",
       "    .dataframe thead th {\n",
       "        text-align: right;\n",
       "    }\n",
       "</style>\n",
       "<table border=\"1\" class=\"dataframe\">\n",
       "  <thead>\n",
       "    <tr style=\"text-align: right;\">\n",
       "      <th></th>\n",
       "      <th>work_year</th>\n",
       "      <th>experience_level</th>\n",
       "      <th>employment_type</th>\n",
       "      <th>salary</th>\n",
       "      <th>salary_currency</th>\n",
       "      <th>salary_in_usd</th>\n",
       "      <th>employee_residence</th>\n",
       "      <th>remote_ratio</th>\n",
       "      <th>company_location</th>\n",
       "      <th>company_size</th>\n",
       "      <th>clean_job_titles</th>\n",
       "    </tr>\n",
       "  </thead>\n",
       "  <tbody>\n",
       "    <tr>\n",
       "      <th>0</th>\n",
       "      <td>2023</td>\n",
       "      <td>EN</td>\n",
       "      <td>FT</td>\n",
       "      <td>50000</td>\n",
       "      <td>USD</td>\n",
       "      <td>50000</td>\n",
       "      <td>DE</td>\n",
       "      <td>0</td>\n",
       "      <td>DE</td>\n",
       "      <td>M</td>\n",
       "      <td>Data Analyst</td>\n",
       "    </tr>\n",
       "    <tr>\n",
       "      <th>1</th>\n",
       "      <td>2024</td>\n",
       "      <td>SE</td>\n",
       "      <td>FT</td>\n",
       "      <td>200400</td>\n",
       "      <td>USD</td>\n",
       "      <td>200400</td>\n",
       "      <td>US</td>\n",
       "      <td>0</td>\n",
       "      <td>US</td>\n",
       "      <td>M</td>\n",
       "      <td>Data Management Specialist</td>\n",
       "    </tr>\n",
       "    <tr>\n",
       "      <th>2</th>\n",
       "      <td>2024</td>\n",
       "      <td>SE</td>\n",
       "      <td>FT</td>\n",
       "      <td>116500</td>\n",
       "      <td>USD</td>\n",
       "      <td>116500</td>\n",
       "      <td>US</td>\n",
       "      <td>0</td>\n",
       "      <td>US</td>\n",
       "      <td>M</td>\n",
       "      <td>Data Management Specialist</td>\n",
       "    </tr>\n",
       "    <tr>\n",
       "      <th>3</th>\n",
       "      <td>2024</td>\n",
       "      <td>SE</td>\n",
       "      <td>FT</td>\n",
       "      <td>188500</td>\n",
       "      <td>USD</td>\n",
       "      <td>188500</td>\n",
       "      <td>US</td>\n",
       "      <td>0</td>\n",
       "      <td>US</td>\n",
       "      <td>M</td>\n",
       "      <td>Data Scientist</td>\n",
       "    </tr>\n",
       "    <tr>\n",
       "      <th>4</th>\n",
       "      <td>2024</td>\n",
       "      <td>SE</td>\n",
       "      <td>FT</td>\n",
       "      <td>165100</td>\n",
       "      <td>USD</td>\n",
       "      <td>165100</td>\n",
       "      <td>US</td>\n",
       "      <td>0</td>\n",
       "      <td>US</td>\n",
       "      <td>M</td>\n",
       "      <td>Data Scientist</td>\n",
       "    </tr>\n",
       "  </tbody>\n",
       "</table>\n",
       "</div>"
      ],
      "text/plain": [
       "   work_year experience_level employment_type  salary salary_currency  \\\n",
       "0       2023               EN              FT   50000             USD   \n",
       "1       2024               SE              FT  200400             USD   \n",
       "2       2024               SE              FT  116500             USD   \n",
       "3       2024               SE              FT  188500             USD   \n",
       "4       2024               SE              FT  165100             USD   \n",
       "\n",
       "   salary_in_usd employee_residence  remote_ratio company_location  \\\n",
       "0          50000                 DE             0               DE   \n",
       "1         200400                 US             0               US   \n",
       "2         116500                 US             0               US   \n",
       "3         188500                 US             0               US   \n",
       "4         165100                 US             0               US   \n",
       "\n",
       "  company_size            clean_job_titles  \n",
       "0            M                Data Analyst  \n",
       "1            M  Data Management Specialist  \n",
       "2            M  Data Management Specialist  \n",
       "3            M              Data Scientist  \n",
       "4            M              Data Scientist  "
      ]
     },
     "execution_count": 454,
     "metadata": {},
     "output_type": "execute_result"
    }
   ],
   "source": [
    "df.head()"
   ]
  },
  {
   "cell_type": "code",
   "execution_count": 455,
   "id": "61ba6692-b104-42f3-8cbb-2d36ddbb7a0b",
   "metadata": {},
   "outputs": [],
   "source": [
    "df.rename(columns = {\"clean_job_titles\":\"job_title\"},inplace = True)"
   ]
  },
  {
   "cell_type": "code",
   "execution_count": 456,
   "id": "1b0dbc08-99c9-414d-94ea-cb87c1162d71",
   "metadata": {},
   "outputs": [
    {
     "data": {
      "text/html": [
       "<div>\n",
       "<style scoped>\n",
       "    .dataframe tbody tr th:only-of-type {\n",
       "        vertical-align: middle;\n",
       "    }\n",
       "\n",
       "    .dataframe tbody tr th {\n",
       "        vertical-align: top;\n",
       "    }\n",
       "\n",
       "    .dataframe thead th {\n",
       "        text-align: right;\n",
       "    }\n",
       "</style>\n",
       "<table border=\"1\" class=\"dataframe\">\n",
       "  <thead>\n",
       "    <tr style=\"text-align: right;\">\n",
       "      <th></th>\n",
       "      <th>work_year</th>\n",
       "      <th>experience_level</th>\n",
       "      <th>employment_type</th>\n",
       "      <th>salary</th>\n",
       "      <th>salary_currency</th>\n",
       "      <th>salary_in_usd</th>\n",
       "      <th>employee_residence</th>\n",
       "      <th>remote_ratio</th>\n",
       "      <th>company_location</th>\n",
       "      <th>company_size</th>\n",
       "      <th>job_title</th>\n",
       "    </tr>\n",
       "  </thead>\n",
       "  <tbody>\n",
       "    <tr>\n",
       "      <th>0</th>\n",
       "      <td>2023</td>\n",
       "      <td>EN</td>\n",
       "      <td>FT</td>\n",
       "      <td>50000</td>\n",
       "      <td>USD</td>\n",
       "      <td>50000</td>\n",
       "      <td>DE</td>\n",
       "      <td>0</td>\n",
       "      <td>DE</td>\n",
       "      <td>M</td>\n",
       "      <td>Data Analyst</td>\n",
       "    </tr>\n",
       "    <tr>\n",
       "      <th>1</th>\n",
       "      <td>2024</td>\n",
       "      <td>SE</td>\n",
       "      <td>FT</td>\n",
       "      <td>200400</td>\n",
       "      <td>USD</td>\n",
       "      <td>200400</td>\n",
       "      <td>US</td>\n",
       "      <td>0</td>\n",
       "      <td>US</td>\n",
       "      <td>M</td>\n",
       "      <td>Data Management Specialist</td>\n",
       "    </tr>\n",
       "    <tr>\n",
       "      <th>2</th>\n",
       "      <td>2024</td>\n",
       "      <td>SE</td>\n",
       "      <td>FT</td>\n",
       "      <td>116500</td>\n",
       "      <td>USD</td>\n",
       "      <td>116500</td>\n",
       "      <td>US</td>\n",
       "      <td>0</td>\n",
       "      <td>US</td>\n",
       "      <td>M</td>\n",
       "      <td>Data Management Specialist</td>\n",
       "    </tr>\n",
       "    <tr>\n",
       "      <th>3</th>\n",
       "      <td>2024</td>\n",
       "      <td>SE</td>\n",
       "      <td>FT</td>\n",
       "      <td>188500</td>\n",
       "      <td>USD</td>\n",
       "      <td>188500</td>\n",
       "      <td>US</td>\n",
       "      <td>0</td>\n",
       "      <td>US</td>\n",
       "      <td>M</td>\n",
       "      <td>Data Scientist</td>\n",
       "    </tr>\n",
       "    <tr>\n",
       "      <th>4</th>\n",
       "      <td>2024</td>\n",
       "      <td>SE</td>\n",
       "      <td>FT</td>\n",
       "      <td>165100</td>\n",
       "      <td>USD</td>\n",
       "      <td>165100</td>\n",
       "      <td>US</td>\n",
       "      <td>0</td>\n",
       "      <td>US</td>\n",
       "      <td>M</td>\n",
       "      <td>Data Scientist</td>\n",
       "    </tr>\n",
       "    <tr>\n",
       "      <th>...</th>\n",
       "      <td>...</td>\n",
       "      <td>...</td>\n",
       "      <td>...</td>\n",
       "      <td>...</td>\n",
       "      <td>...</td>\n",
       "      <td>...</td>\n",
       "      <td>...</td>\n",
       "      <td>...</td>\n",
       "      <td>...</td>\n",
       "      <td>...</td>\n",
       "      <td>...</td>\n",
       "    </tr>\n",
       "    <tr>\n",
       "      <th>11565</th>\n",
       "      <td>2020</td>\n",
       "      <td>SE</td>\n",
       "      <td>FT</td>\n",
       "      <td>412000</td>\n",
       "      <td>USD</td>\n",
       "      <td>412000</td>\n",
       "      <td>US</td>\n",
       "      <td>100</td>\n",
       "      <td>US</td>\n",
       "      <td>L</td>\n",
       "      <td>Data Scientist</td>\n",
       "    </tr>\n",
       "    <tr>\n",
       "      <th>11566</th>\n",
       "      <td>2021</td>\n",
       "      <td>MI</td>\n",
       "      <td>FT</td>\n",
       "      <td>151000</td>\n",
       "      <td>USD</td>\n",
       "      <td>151000</td>\n",
       "      <td>US</td>\n",
       "      <td>100</td>\n",
       "      <td>US</td>\n",
       "      <td>L</td>\n",
       "      <td>Data Scientist</td>\n",
       "    </tr>\n",
       "    <tr>\n",
       "      <th>11567</th>\n",
       "      <td>2020</td>\n",
       "      <td>EN</td>\n",
       "      <td>FT</td>\n",
       "      <td>105000</td>\n",
       "      <td>USD</td>\n",
       "      <td>105000</td>\n",
       "      <td>US</td>\n",
       "      <td>100</td>\n",
       "      <td>US</td>\n",
       "      <td>S</td>\n",
       "      <td>Data Scientist</td>\n",
       "    </tr>\n",
       "    <tr>\n",
       "      <th>11568</th>\n",
       "      <td>2020</td>\n",
       "      <td>EN</td>\n",
       "      <td>CT</td>\n",
       "      <td>100000</td>\n",
       "      <td>USD</td>\n",
       "      <td>100000</td>\n",
       "      <td>US</td>\n",
       "      <td>100</td>\n",
       "      <td>US</td>\n",
       "      <td>L</td>\n",
       "      <td>Data Analyst</td>\n",
       "    </tr>\n",
       "    <tr>\n",
       "      <th>11569</th>\n",
       "      <td>2021</td>\n",
       "      <td>SE</td>\n",
       "      <td>FT</td>\n",
       "      <td>7000000</td>\n",
       "      <td>INR</td>\n",
       "      <td>94665</td>\n",
       "      <td>IN</td>\n",
       "      <td>50</td>\n",
       "      <td>IN</td>\n",
       "      <td>L</td>\n",
       "      <td>Data Scientist</td>\n",
       "    </tr>\n",
       "  </tbody>\n",
       "</table>\n",
       "<p>11570 rows × 11 columns</p>\n",
       "</div>"
      ],
      "text/plain": [
       "       work_year experience_level employment_type   salary salary_currency  \\\n",
       "0           2023               EN              FT    50000             USD   \n",
       "1           2024               SE              FT   200400             USD   \n",
       "2           2024               SE              FT   116500             USD   \n",
       "3           2024               SE              FT   188500             USD   \n",
       "4           2024               SE              FT   165100             USD   \n",
       "...          ...              ...             ...      ...             ...   \n",
       "11565       2020               SE              FT   412000             USD   \n",
       "11566       2021               MI              FT   151000             USD   \n",
       "11567       2020               EN              FT   105000             USD   \n",
       "11568       2020               EN              CT   100000             USD   \n",
       "11569       2021               SE              FT  7000000             INR   \n",
       "\n",
       "       salary_in_usd employee_residence  remote_ratio company_location  \\\n",
       "0              50000                 DE             0               DE   \n",
       "1             200400                 US             0               US   \n",
       "2             116500                 US             0               US   \n",
       "3             188500                 US             0               US   \n",
       "4             165100                 US             0               US   \n",
       "...              ...                ...           ...              ...   \n",
       "11565         412000                 US           100               US   \n",
       "11566         151000                 US           100               US   \n",
       "11567         105000                 US           100               US   \n",
       "11568         100000                 US           100               US   \n",
       "11569          94665                 IN            50               IN   \n",
       "\n",
       "      company_size                   job_title  \n",
       "0                M                Data Analyst  \n",
       "1                M  Data Management Specialist  \n",
       "2                M  Data Management Specialist  \n",
       "3                M              Data Scientist  \n",
       "4                M              Data Scientist  \n",
       "...            ...                         ...  \n",
       "11565            L              Data Scientist  \n",
       "11566            L              Data Scientist  \n",
       "11567            S              Data Scientist  \n",
       "11568            L                Data Analyst  \n",
       "11569            L              Data Scientist  \n",
       "\n",
       "[11570 rows x 11 columns]"
      ]
     },
     "execution_count": 456,
     "metadata": {},
     "output_type": "execute_result"
    }
   ],
   "source": [
    "df"
   ]
  },
  {
   "cell_type": "markdown",
   "id": "38550ec7-b11f-45bc-a2f9-ee1acba52629",
   "metadata": {},
   "source": [
    "## Question 1.  entry level average salary gloabl vs india for analyst, scientist and engineer"
   ]
  },
  {
   "cell_type": "code",
   "execution_count": 457,
   "id": "3e152e5f-203a-4ac2-b0ea-5e80406057b9",
   "metadata": {},
   "outputs": [],
   "source": [
    "df[\"is_india\"] = np.where(df[\"company_location\"] == \"IN\",\"IN\",\"OTH\")"
   ]
  },
  {
   "cell_type": "code",
   "execution_count": 458,
   "id": "77533c51-d131-48b2-9832-eec4f396ae08",
   "metadata": {},
   "outputs": [
    {
     "data": {
      "text/html": [
       "<div>\n",
       "<style scoped>\n",
       "    .dataframe tbody tr th:only-of-type {\n",
       "        vertical-align: middle;\n",
       "    }\n",
       "\n",
       "    .dataframe tbody tr th {\n",
       "        vertical-align: top;\n",
       "    }\n",
       "\n",
       "    .dataframe thead th {\n",
       "        text-align: right;\n",
       "    }\n",
       "</style>\n",
       "<table border=\"1\" class=\"dataframe\">\n",
       "  <thead>\n",
       "    <tr style=\"text-align: right;\">\n",
       "      <th></th>\n",
       "      <th>work_year</th>\n",
       "      <th>experience_level</th>\n",
       "      <th>employment_type</th>\n",
       "      <th>salary</th>\n",
       "      <th>salary_currency</th>\n",
       "      <th>salary_in_usd</th>\n",
       "      <th>employee_residence</th>\n",
       "      <th>remote_ratio</th>\n",
       "      <th>company_location</th>\n",
       "      <th>company_size</th>\n",
       "      <th>job_title</th>\n",
       "      <th>is_india</th>\n",
       "    </tr>\n",
       "  </thead>\n",
       "  <tbody>\n",
       "    <tr>\n",
       "      <th>0</th>\n",
       "      <td>2023</td>\n",
       "      <td>EN</td>\n",
       "      <td>FT</td>\n",
       "      <td>50000</td>\n",
       "      <td>USD</td>\n",
       "      <td>50000</td>\n",
       "      <td>DE</td>\n",
       "      <td>0</td>\n",
       "      <td>DE</td>\n",
       "      <td>M</td>\n",
       "      <td>Data Analyst</td>\n",
       "      <td>OTH</td>\n",
       "    </tr>\n",
       "    <tr>\n",
       "      <th>3</th>\n",
       "      <td>2024</td>\n",
       "      <td>SE</td>\n",
       "      <td>FT</td>\n",
       "      <td>188500</td>\n",
       "      <td>USD</td>\n",
       "      <td>188500</td>\n",
       "      <td>US</td>\n",
       "      <td>0</td>\n",
       "      <td>US</td>\n",
       "      <td>M</td>\n",
       "      <td>Data Scientist</td>\n",
       "      <td>OTH</td>\n",
       "    </tr>\n",
       "    <tr>\n",
       "      <th>4</th>\n",
       "      <td>2024</td>\n",
       "      <td>SE</td>\n",
       "      <td>FT</td>\n",
       "      <td>165100</td>\n",
       "      <td>USD</td>\n",
       "      <td>165100</td>\n",
       "      <td>US</td>\n",
       "      <td>0</td>\n",
       "      <td>US</td>\n",
       "      <td>M</td>\n",
       "      <td>Data Scientist</td>\n",
       "      <td>OTH</td>\n",
       "    </tr>\n",
       "    <tr>\n",
       "      <th>7</th>\n",
       "      <td>2024</td>\n",
       "      <td>MI</td>\n",
       "      <td>FT</td>\n",
       "      <td>128600</td>\n",
       "      <td>USD</td>\n",
       "      <td>128600</td>\n",
       "      <td>US</td>\n",
       "      <td>0</td>\n",
       "      <td>US</td>\n",
       "      <td>M</td>\n",
       "      <td>Data Engineer</td>\n",
       "      <td>OTH</td>\n",
       "    </tr>\n",
       "    <tr>\n",
       "      <th>8</th>\n",
       "      <td>2024</td>\n",
       "      <td>MI</td>\n",
       "      <td>FT</td>\n",
       "      <td>100000</td>\n",
       "      <td>USD</td>\n",
       "      <td>100000</td>\n",
       "      <td>US</td>\n",
       "      <td>0</td>\n",
       "      <td>US</td>\n",
       "      <td>M</td>\n",
       "      <td>Data Engineer</td>\n",
       "      <td>OTH</td>\n",
       "    </tr>\n",
       "  </tbody>\n",
       "</table>\n",
       "</div>"
      ],
      "text/plain": [
       "   work_year experience_level employment_type  salary salary_currency  \\\n",
       "0       2023               EN              FT   50000             USD   \n",
       "3       2024               SE              FT  188500             USD   \n",
       "4       2024               SE              FT  165100             USD   \n",
       "7       2024               MI              FT  128600             USD   \n",
       "8       2024               MI              FT  100000             USD   \n",
       "\n",
       "   salary_in_usd employee_residence  remote_ratio company_location  \\\n",
       "0          50000                 DE             0               DE   \n",
       "3         188500                 US             0               US   \n",
       "4         165100                 US             0               US   \n",
       "7         128600                 US             0               US   \n",
       "8         100000                 US             0               US   \n",
       "\n",
       "  company_size       job_title is_india  \n",
       "0            M    Data Analyst      OTH  \n",
       "3            M  Data Scientist      OTH  \n",
       "4            M  Data Scientist      OTH  \n",
       "7            M   Data Engineer      OTH  \n",
       "8            M   Data Engineer      OTH  "
      ]
     },
     "execution_count": 458,
     "metadata": {},
     "output_type": "execute_result"
    }
   ],
   "source": [
    "title_list = [\"Data Analyst\", \"Data Scientist\" , \"Data Engineer\"]\n",
    "df_1 = df[df[\"job_title\"].isin(title_list)]\n",
    "df_1.head()"
   ]
  },
  {
   "cell_type": "code",
   "execution_count": 459,
   "id": "59017819-eb5c-402c-8a98-91bc238e8f8d",
   "metadata": {},
   "outputs": [
    {
     "data": {
      "text/html": [
       "<div>\n",
       "<style scoped>\n",
       "    .dataframe tbody tr th:only-of-type {\n",
       "        vertical-align: middle;\n",
       "    }\n",
       "\n",
       "    .dataframe tbody tr th {\n",
       "        vertical-align: top;\n",
       "    }\n",
       "\n",
       "    .dataframe thead th {\n",
       "        text-align: right;\n",
       "    }\n",
       "</style>\n",
       "<table border=\"1\" class=\"dataframe\">\n",
       "  <thead>\n",
       "    <tr style=\"text-align: right;\">\n",
       "      <th></th>\n",
       "      <th>is_india</th>\n",
       "      <th>job_title</th>\n",
       "      <th>salary_in_usd</th>\n",
       "    </tr>\n",
       "  </thead>\n",
       "  <tbody>\n",
       "    <tr>\n",
       "      <th>0</th>\n",
       "      <td>IN</td>\n",
       "      <td>Data Analyst</td>\n",
       "      <td>22944.333333</td>\n",
       "    </tr>\n",
       "    <tr>\n",
       "      <th>1</th>\n",
       "      <td>IN</td>\n",
       "      <td>Data Engineer</td>\n",
       "      <td>20553.000000</td>\n",
       "    </tr>\n",
       "    <tr>\n",
       "      <th>2</th>\n",
       "      <td>IN</td>\n",
       "      <td>Data Scientist</td>\n",
       "      <td>31810.800000</td>\n",
       "    </tr>\n",
       "    <tr>\n",
       "      <th>3</th>\n",
       "      <td>OTH</td>\n",
       "      <td>Data Analyst</td>\n",
       "      <td>78640.014620</td>\n",
       "    </tr>\n",
       "    <tr>\n",
       "      <th>4</th>\n",
       "      <td>OTH</td>\n",
       "      <td>Data Engineer</td>\n",
       "      <td>98698.232432</td>\n",
       "    </tr>\n",
       "    <tr>\n",
       "      <th>5</th>\n",
       "      <td>OTH</td>\n",
       "      <td>Data Scientist</td>\n",
       "      <td>98328.094241</td>\n",
       "    </tr>\n",
       "  </tbody>\n",
       "</table>\n",
       "</div>"
      ],
      "text/plain": [
       "  is_india       job_title  salary_in_usd\n",
       "0       IN    Data Analyst   22944.333333\n",
       "1       IN   Data Engineer   20553.000000\n",
       "2       IN  Data Scientist   31810.800000\n",
       "3      OTH    Data Analyst   78640.014620\n",
       "4      OTH   Data Engineer   98698.232432\n",
       "5      OTH  Data Scientist   98328.094241"
      ]
     },
     "execution_count": 459,
     "metadata": {},
     "output_type": "execute_result"
    }
   ],
   "source": [
    "mask = df_1[\"experience_level\"] == \"EN\"\n",
    "temp_df = df_1[mask].groupby(by=[\"is_india\",\"job_title\"])[\"salary_in_usd\"].mean().reset_index()\n",
    "temp_df"
   ]
  },
  {
   "cell_type": "code",
   "execution_count": 460,
   "id": "734a880a-f443-4647-8678-de1cb80c33a1",
   "metadata": {},
   "outputs": [
    {
     "data": {
      "application/vnd.plotly.v1+json": {
       "config": {
        "plotlyServerURL": "https://plot.ly"
       },
       "data": [
        {
         "alignmentgroup": "True",
         "hovertemplate": "Location=IN<br>job_title=%{x}<br>Salary in USD=%{y}<extra></extra>",
         "legendgroup": "IN",
         "marker": {
          "color": "#636efa",
          "pattern": {
           "shape": ""
          }
         },
         "name": "IN",
         "offsetgroup": "IN",
         "orientation": "v",
         "showlegend": true,
         "textposition": "auto",
         "type": "bar",
         "x": [
          "Data Analyst",
          "Data Engineer",
          "Data Scientist"
         ],
         "xaxis": "x",
         "y": [
          22944.333333333332,
          20553,
          31810.8
         ],
         "yaxis": "y"
        },
        {
         "alignmentgroup": "True",
         "hovertemplate": "Location=OTH<br>job_title=%{x}<br>Salary in USD=%{y}<extra></extra>",
         "legendgroup": "OTH",
         "marker": {
          "color": "#EF553B",
          "pattern": {
           "shape": ""
          }
         },
         "name": "OTH",
         "offsetgroup": "OTH",
         "orientation": "v",
         "showlegend": true,
         "textposition": "auto",
         "type": "bar",
         "x": [
          "Data Analyst",
          "Data Engineer",
          "Data Scientist"
         ],
         "xaxis": "x",
         "y": [
          78640.01461988305,
          98698.23243243243,
          98328.0942408377
         ],
         "yaxis": "y"
        }
       ],
       "layout": {
        "autosize": true,
        "barmode": "group",
        "legend": {
         "title": {
          "text": "Location"
         },
         "tracegroupgap": 0
        },
        "template": {
         "data": {
          "bar": [
           {
            "error_x": {
             "color": "#2a3f5f"
            },
            "error_y": {
             "color": "#2a3f5f"
            },
            "marker": {
             "line": {
              "color": "#E5ECF6",
              "width": 0.5
             },
             "pattern": {
              "fillmode": "overlay",
              "size": 10,
              "solidity": 0.2
             }
            },
            "type": "bar"
           }
          ],
          "barpolar": [
           {
            "marker": {
             "line": {
              "color": "#E5ECF6",
              "width": 0.5
             },
             "pattern": {
              "fillmode": "overlay",
              "size": 10,
              "solidity": 0.2
             }
            },
            "type": "barpolar"
           }
          ],
          "carpet": [
           {
            "aaxis": {
             "endlinecolor": "#2a3f5f",
             "gridcolor": "white",
             "linecolor": "white",
             "minorgridcolor": "white",
             "startlinecolor": "#2a3f5f"
            },
            "baxis": {
             "endlinecolor": "#2a3f5f",
             "gridcolor": "white",
             "linecolor": "white",
             "minorgridcolor": "white",
             "startlinecolor": "#2a3f5f"
            },
            "type": "carpet"
           }
          ],
          "choropleth": [
           {
            "colorbar": {
             "outlinewidth": 0,
             "ticks": ""
            },
            "type": "choropleth"
           }
          ],
          "contour": [
           {
            "colorbar": {
             "outlinewidth": 0,
             "ticks": ""
            },
            "colorscale": [
             [
              0,
              "#0d0887"
             ],
             [
              0.1111111111111111,
              "#46039f"
             ],
             [
              0.2222222222222222,
              "#7201a8"
             ],
             [
              0.3333333333333333,
              "#9c179e"
             ],
             [
              0.4444444444444444,
              "#bd3786"
             ],
             [
              0.5555555555555556,
              "#d8576b"
             ],
             [
              0.6666666666666666,
              "#ed7953"
             ],
             [
              0.7777777777777778,
              "#fb9f3a"
             ],
             [
              0.8888888888888888,
              "#fdca26"
             ],
             [
              1,
              "#f0f921"
             ]
            ],
            "type": "contour"
           }
          ],
          "contourcarpet": [
           {
            "colorbar": {
             "outlinewidth": 0,
             "ticks": ""
            },
            "type": "contourcarpet"
           }
          ],
          "heatmap": [
           {
            "colorbar": {
             "outlinewidth": 0,
             "ticks": ""
            },
            "colorscale": [
             [
              0,
              "#0d0887"
             ],
             [
              0.1111111111111111,
              "#46039f"
             ],
             [
              0.2222222222222222,
              "#7201a8"
             ],
             [
              0.3333333333333333,
              "#9c179e"
             ],
             [
              0.4444444444444444,
              "#bd3786"
             ],
             [
              0.5555555555555556,
              "#d8576b"
             ],
             [
              0.6666666666666666,
              "#ed7953"
             ],
             [
              0.7777777777777778,
              "#fb9f3a"
             ],
             [
              0.8888888888888888,
              "#fdca26"
             ],
             [
              1,
              "#f0f921"
             ]
            ],
            "type": "heatmap"
           }
          ],
          "heatmapgl": [
           {
            "colorbar": {
             "outlinewidth": 0,
             "ticks": ""
            },
            "colorscale": [
             [
              0,
              "#0d0887"
             ],
             [
              0.1111111111111111,
              "#46039f"
             ],
             [
              0.2222222222222222,
              "#7201a8"
             ],
             [
              0.3333333333333333,
              "#9c179e"
             ],
             [
              0.4444444444444444,
              "#bd3786"
             ],
             [
              0.5555555555555556,
              "#d8576b"
             ],
             [
              0.6666666666666666,
              "#ed7953"
             ],
             [
              0.7777777777777778,
              "#fb9f3a"
             ],
             [
              0.8888888888888888,
              "#fdca26"
             ],
             [
              1,
              "#f0f921"
             ]
            ],
            "type": "heatmapgl"
           }
          ],
          "histogram": [
           {
            "marker": {
             "pattern": {
              "fillmode": "overlay",
              "size": 10,
              "solidity": 0.2
             }
            },
            "type": "histogram"
           }
          ],
          "histogram2d": [
           {
            "colorbar": {
             "outlinewidth": 0,
             "ticks": ""
            },
            "colorscale": [
             [
              0,
              "#0d0887"
             ],
             [
              0.1111111111111111,
              "#46039f"
             ],
             [
              0.2222222222222222,
              "#7201a8"
             ],
             [
              0.3333333333333333,
              "#9c179e"
             ],
             [
              0.4444444444444444,
              "#bd3786"
             ],
             [
              0.5555555555555556,
              "#d8576b"
             ],
             [
              0.6666666666666666,
              "#ed7953"
             ],
             [
              0.7777777777777778,
              "#fb9f3a"
             ],
             [
              0.8888888888888888,
              "#fdca26"
             ],
             [
              1,
              "#f0f921"
             ]
            ],
            "type": "histogram2d"
           }
          ],
          "histogram2dcontour": [
           {
            "colorbar": {
             "outlinewidth": 0,
             "ticks": ""
            },
            "colorscale": [
             [
              0,
              "#0d0887"
             ],
             [
              0.1111111111111111,
              "#46039f"
             ],
             [
              0.2222222222222222,
              "#7201a8"
             ],
             [
              0.3333333333333333,
              "#9c179e"
             ],
             [
              0.4444444444444444,
              "#bd3786"
             ],
             [
              0.5555555555555556,
              "#d8576b"
             ],
             [
              0.6666666666666666,
              "#ed7953"
             ],
             [
              0.7777777777777778,
              "#fb9f3a"
             ],
             [
              0.8888888888888888,
              "#fdca26"
             ],
             [
              1,
              "#f0f921"
             ]
            ],
            "type": "histogram2dcontour"
           }
          ],
          "mesh3d": [
           {
            "colorbar": {
             "outlinewidth": 0,
             "ticks": ""
            },
            "type": "mesh3d"
           }
          ],
          "parcoords": [
           {
            "line": {
             "colorbar": {
              "outlinewidth": 0,
              "ticks": ""
             }
            },
            "type": "parcoords"
           }
          ],
          "pie": [
           {
            "automargin": true,
            "type": "pie"
           }
          ],
          "scatter": [
           {
            "fillpattern": {
             "fillmode": "overlay",
             "size": 10,
             "solidity": 0.2
            },
            "type": "scatter"
           }
          ],
          "scatter3d": [
           {
            "line": {
             "colorbar": {
              "outlinewidth": 0,
              "ticks": ""
             }
            },
            "marker": {
             "colorbar": {
              "outlinewidth": 0,
              "ticks": ""
             }
            },
            "type": "scatter3d"
           }
          ],
          "scattercarpet": [
           {
            "marker": {
             "colorbar": {
              "outlinewidth": 0,
              "ticks": ""
             }
            },
            "type": "scattercarpet"
           }
          ],
          "scattergeo": [
           {
            "marker": {
             "colorbar": {
              "outlinewidth": 0,
              "ticks": ""
             }
            },
            "type": "scattergeo"
           }
          ],
          "scattergl": [
           {
            "marker": {
             "colorbar": {
              "outlinewidth": 0,
              "ticks": ""
             }
            },
            "type": "scattergl"
           }
          ],
          "scattermapbox": [
           {
            "marker": {
             "colorbar": {
              "outlinewidth": 0,
              "ticks": ""
             }
            },
            "type": "scattermapbox"
           }
          ],
          "scatterpolar": [
           {
            "marker": {
             "colorbar": {
              "outlinewidth": 0,
              "ticks": ""
             }
            },
            "type": "scatterpolar"
           }
          ],
          "scatterpolargl": [
           {
            "marker": {
             "colorbar": {
              "outlinewidth": 0,
              "ticks": ""
             }
            },
            "type": "scatterpolargl"
           }
          ],
          "scatterternary": [
           {
            "marker": {
             "colorbar": {
              "outlinewidth": 0,
              "ticks": ""
             }
            },
            "type": "scatterternary"
           }
          ],
          "surface": [
           {
            "colorbar": {
             "outlinewidth": 0,
             "ticks": ""
            },
            "colorscale": [
             [
              0,
              "#0d0887"
             ],
             [
              0.1111111111111111,
              "#46039f"
             ],
             [
              0.2222222222222222,
              "#7201a8"
             ],
             [
              0.3333333333333333,
              "#9c179e"
             ],
             [
              0.4444444444444444,
              "#bd3786"
             ],
             [
              0.5555555555555556,
              "#d8576b"
             ],
             [
              0.6666666666666666,
              "#ed7953"
             ],
             [
              0.7777777777777778,
              "#fb9f3a"
             ],
             [
              0.8888888888888888,
              "#fdca26"
             ],
             [
              1,
              "#f0f921"
             ]
            ],
            "type": "surface"
           }
          ],
          "table": [
           {
            "cells": {
             "fill": {
              "color": "#EBF0F8"
             },
             "line": {
              "color": "white"
             }
            },
            "header": {
             "fill": {
              "color": "#C8D4E3"
             },
             "line": {
              "color": "white"
             }
            },
            "type": "table"
           }
          ]
         },
         "layout": {
          "annotationdefaults": {
           "arrowcolor": "#2a3f5f",
           "arrowhead": 0,
           "arrowwidth": 1
          },
          "autotypenumbers": "strict",
          "coloraxis": {
           "colorbar": {
            "outlinewidth": 0,
            "ticks": ""
           }
          },
          "colorscale": {
           "diverging": [
            [
             0,
             "#8e0152"
            ],
            [
             0.1,
             "#c51b7d"
            ],
            [
             0.2,
             "#de77ae"
            ],
            [
             0.3,
             "#f1b6da"
            ],
            [
             0.4,
             "#fde0ef"
            ],
            [
             0.5,
             "#f7f7f7"
            ],
            [
             0.6,
             "#e6f5d0"
            ],
            [
             0.7,
             "#b8e186"
            ],
            [
             0.8,
             "#7fbc41"
            ],
            [
             0.9,
             "#4d9221"
            ],
            [
             1,
             "#276419"
            ]
           ],
           "sequential": [
            [
             0,
             "#0d0887"
            ],
            [
             0.1111111111111111,
             "#46039f"
            ],
            [
             0.2222222222222222,
             "#7201a8"
            ],
            [
             0.3333333333333333,
             "#9c179e"
            ],
            [
             0.4444444444444444,
             "#bd3786"
            ],
            [
             0.5555555555555556,
             "#d8576b"
            ],
            [
             0.6666666666666666,
             "#ed7953"
            ],
            [
             0.7777777777777778,
             "#fb9f3a"
            ],
            [
             0.8888888888888888,
             "#fdca26"
            ],
            [
             1,
             "#f0f921"
            ]
           ],
           "sequentialminus": [
            [
             0,
             "#0d0887"
            ],
            [
             0.1111111111111111,
             "#46039f"
            ],
            [
             0.2222222222222222,
             "#7201a8"
            ],
            [
             0.3333333333333333,
             "#9c179e"
            ],
            [
             0.4444444444444444,
             "#bd3786"
            ],
            [
             0.5555555555555556,
             "#d8576b"
            ],
            [
             0.6666666666666666,
             "#ed7953"
            ],
            [
             0.7777777777777778,
             "#fb9f3a"
            ],
            [
             0.8888888888888888,
             "#fdca26"
            ],
            [
             1,
             "#f0f921"
            ]
           ]
          },
          "colorway": [
           "#636efa",
           "#EF553B",
           "#00cc96",
           "#ab63fa",
           "#FFA15A",
           "#19d3f3",
           "#FF6692",
           "#B6E880",
           "#FF97FF",
           "#FECB52"
          ],
          "font": {
           "color": "#2a3f5f"
          },
          "geo": {
           "bgcolor": "white",
           "lakecolor": "white",
           "landcolor": "#E5ECF6",
           "showlakes": true,
           "showland": true,
           "subunitcolor": "white"
          },
          "hoverlabel": {
           "align": "left"
          },
          "hovermode": "closest",
          "mapbox": {
           "style": "light"
          },
          "paper_bgcolor": "white",
          "plot_bgcolor": "#E5ECF6",
          "polar": {
           "angularaxis": {
            "gridcolor": "white",
            "linecolor": "white",
            "ticks": ""
           },
           "bgcolor": "#E5ECF6",
           "radialaxis": {
            "gridcolor": "white",
            "linecolor": "white",
            "ticks": ""
           }
          },
          "scene": {
           "xaxis": {
            "backgroundcolor": "#E5ECF6",
            "gridcolor": "white",
            "gridwidth": 2,
            "linecolor": "white",
            "showbackground": true,
            "ticks": "",
            "zerolinecolor": "white"
           },
           "yaxis": {
            "backgroundcolor": "#E5ECF6",
            "gridcolor": "white",
            "gridwidth": 2,
            "linecolor": "white",
            "showbackground": true,
            "ticks": "",
            "zerolinecolor": "white"
           },
           "zaxis": {
            "backgroundcolor": "#E5ECF6",
            "gridcolor": "white",
            "gridwidth": 2,
            "linecolor": "white",
            "showbackground": true,
            "ticks": "",
            "zerolinecolor": "white"
           }
          },
          "shapedefaults": {
           "line": {
            "color": "#2a3f5f"
           }
          },
          "ternary": {
           "aaxis": {
            "gridcolor": "white",
            "linecolor": "white",
            "ticks": ""
           },
           "baxis": {
            "gridcolor": "white",
            "linecolor": "white",
            "ticks": ""
           },
           "bgcolor": "#E5ECF6",
           "caxis": {
            "gridcolor": "white",
            "linecolor": "white",
            "ticks": ""
           }
          },
          "title": {
           "x": 0.05
          },
          "xaxis": {
           "automargin": true,
           "gridcolor": "white",
           "linecolor": "white",
           "ticks": "",
           "title": {
            "standoff": 15
           },
           "zerolinecolor": "white",
           "zerolinewidth": 2
          },
          "yaxis": {
           "automargin": true,
           "gridcolor": "white",
           "linecolor": "white",
           "ticks": "",
           "title": {
            "standoff": 15
           },
           "zerolinecolor": "white",
           "zerolinewidth": 2
          }
         }
        },
        "title": {
         "text": "India vs Global Average Salary for Entry Level Jobs"
        },
        "xaxis": {
         "anchor": "y",
         "autorange": true,
         "domain": [
          0,
          1
         ],
         "range": [
          -0.5,
          2.5
         ],
         "title": {
          "text": "Job Title"
         },
         "type": "category"
        },
        "yaxis": {
         "anchor": "x",
         "autorange": true,
         "domain": [
          0,
          1
         ],
         "range": [
          0,
          103892.87624466572
         ],
         "title": {
          "text": "Salary in USD"
         },
         "type": "linear"
        }
       }
      },
      "image/png": "[encoded data removed]",
      "text/html": [
       "<div>                            <div id=\"ca7a0970-1241-43a0-866a-f54b5ab827a7\" class=\"plotly-graph-div\" style=\"height:600px; width:100%;\"></div>            <script type=\"text/javascript\">                require([\"plotly\"], function(Plotly) {                    window.PLOTLYENV=window.PLOTLYENV || {};                                    if (document.getElementById(\"ca7a0970-1241-43a0-866a-f54b5ab827a7\")) {                    Plotly.newPlot(                        \"ca7a0970-1241-43a0-866a-f54b5ab827a7\",                        [{\"alignmentgroup\":\"True\",\"hovertemplate\":\"Location=IN\\u003cbr\\u003ejob_title=%{x}\\u003cbr\\u003eSalary in USD=%{y}\\u003cextra\\u003e\\u003c\\u002fextra\\u003e\",\"legendgroup\":\"IN\",\"marker\":{\"color\":\"#636efa\",\"pattern\":{\"shape\":\"\"}},\"name\":\"IN\",\"offsetgroup\":\"IN\",\"orientation\":\"v\",\"showlegend\":true,\"textposition\":\"auto\",\"x\":[\"Data Analyst\",\"Data Engineer\",\"Data Scientist\"],\"xaxis\":\"x\",\"y\":[22944.333333333332,20553.0,31810.8],\"yaxis\":\"y\",\"type\":\"bar\"},{\"alignmentgroup\":\"True\",\"hovertemplate\":\"Location=OTH\\u003cbr\\u003ejob_title=%{x}\\u003cbr\\u003eSalary in USD=%{y}\\u003cextra\\u003e\\u003c\\u002fextra\\u003e\",\"legendgroup\":\"OTH\",\"marker\":{\"color\":\"#EF553B\",\"pattern\":{\"shape\":\"\"}},\"name\":\"OTH\",\"offsetgroup\":\"OTH\",\"orientation\":\"v\",\"showlegend\":true,\"textposition\":\"auto\",\"x\":[\"Data Analyst\",\"Data Engineer\",\"Data Scientist\"],\"xaxis\":\"x\",\"y\":[78640.01461988305,98698.23243243243,98328.0942408377],\"yaxis\":\"y\",\"type\":\"bar\"}],                        {\"template\":{\"data\":{\"histogram2dcontour\":[{\"type\":\"histogram2dcontour\",\"colorbar\":{\"outlinewidth\":0,\"ticks\":\"\"},\"colorscale\":[[0.0,\"#0d0887\"],[0.1111111111111111,\"#46039f\"],[0.2222222222222222,\"#7201a8\"],[0.3333333333333333,\"#9c179e\"],[0.4444444444444444,\"#bd3786\"],[0.5555555555555556,\"#d8576b\"],[0.6666666666666666,\"#ed7953\"],[0.7777777777777778,\"#fb9f3a\"],[0.8888888888888888,\"#fdca26\"],[1.0,\"#f0f921\"]]}],\"choropleth\":[{\"type\":\"choropleth\",\"colorbar\":{\"outlinewidth\":0,\"ticks\":\"\"}}],\"histogram2d\":[{\"type\":\"histogram2d\",\"colorbar\":{\"outlinewidth\":0,\"ticks\":\"\"},\"colorscale\":[[0.0,\"#0d0887\"],[0.1111111111111111,\"#46039f\"],[0.2222222222222222,\"#7201a8\"],[0.3333333333333333,\"#9c179e\"],[0.4444444444444444,\"#bd3786\"],[0.5555555555555556,\"#d8576b\"],[0.6666666666666666,\"#ed7953\"],[0.7777777777777778,\"#fb9f3a\"],[0.8888888888888888,\"#fdca26\"],[1.0,\"#f0f921\"]]}],\"heatmap\":[{\"type\":\"heatmap\",\"colorbar\":{\"outlinewidth\":0,\"ticks\":\"\"},\"colorscale\":[[0.0,\"#0d0887\"],[0.1111111111111111,\"#46039f\"],[0.2222222222222222,\"#7201a8\"],[0.3333333333333333,\"#9c179e\"],[0.4444444444444444,\"#bd3786\"],[0.5555555555555556,\"#d8576b\"],[0.6666666666666666,\"#ed7953\"],[0.7777777777777778,\"#fb9f3a\"],[0.8888888888888888,\"#fdca26\"],[1.0,\"#f0f921\"]]}],\"heatmapgl\":[{\"type\":\"heatmapgl\",\"colorbar\":{\"outlinewidth\":0,\"ticks\":\"\"},\"colorscale\":[[0.0,\"#0d0887\"],[0.1111111111111111,\"#46039f\"],[0.2222222222222222,\"#7201a8\"],[0.3333333333333333,\"#9c179e\"],[0.4444444444444444,\"#bd3786\"],[0.5555555555555556,\"#d8576b\"],[0.6666666666666666,\"#ed7953\"],[0.7777777777777778,\"#fb9f3a\"],[0.8888888888888888,\"#fdca26\"],[1.0,\"#f0f921\"]]}],\"contourcarpet\":[{\"type\":\"contourcarpet\",\"colorbar\":{\"outlinewidth\":0,\"ticks\":\"\"}}],\"contour\":[{\"type\":\"contour\",\"colorbar\":{\"outlinewidth\":0,\"ticks\":\"\"},\"colorscale\":[[0.0,\"#0d0887\"],[0.1111111111111111,\"#46039f\"],[0.2222222222222222,\"#7201a8\"],[0.3333333333333333,\"#9c179e\"],[0.4444444444444444,\"#bd3786\"],[0.5555555555555556,\"#d8576b\"],[0.6666666666666666,\"#ed7953\"],[0.7777777777777778,\"#fb9f3a\"],[0.8888888888888888,\"#fdca26\"],[1.0,\"#f0f921\"]]}],\"surface\":[{\"type\":\"surface\",\"colorbar\":{\"outlinewidth\":0,\"ticks\":\"\"},\"colorscale\":[[0.0,\"#0d0887\"],[0.1111111111111111,\"#46039f\"],[0.2222222222222222,\"#7201a8\"],[0.3333333333333333,\"#9c179e\"],[0.4444444444444444,\"#bd3786\"],[0.5555555555555556,\"#d8576b\"],[0.6666666666666666,\"#ed7953\"],[0.7777777777777778,\"#fb9f3a\"],[0.8888888888888888,\"#fdca26\"],[1.0,\"#f0f921\"]]}],\"mesh3d\":[{\"type\":\"mesh3d\",\"colorbar\":{\"outlinewidth\":0,\"ticks\":\"\"}}],\"scatter\":[{\"fillpattern\":{\"fillmode\":\"overlay\",\"size\":10,\"solidity\":0.2},\"type\":\"scatter\"}],\"parcoords\":[{\"type\":\"parcoords\",\"line\":{\"colorbar\":{\"outlinewidth\":0,\"ticks\":\"\"}}}],\"scatterpolargl\":[{\"type\":\"scatterpolargl\",\"marker\":{\"colorbar\":{\"outlinewidth\":0,\"ticks\":\"\"}}}],\"bar\":[{\"error_x\":{\"color\":\"#2a3f5f\"},\"error_y\":{\"color\":\"#2a3f5f\"},\"marker\":{\"line\":{\"color\":\"#E5ECF6\",\"width\":0.5},\"pattern\":{\"fillmode\":\"overlay\",\"size\":10,\"solidity\":0.2}},\"type\":\"bar\"}],\"scattergeo\":[{\"type\":\"scattergeo\",\"marker\":{\"colorbar\":{\"outlinewidth\":0,\"ticks\":\"\"}}}],\"scatterpolar\":[{\"type\":\"scatterpolar\",\"marker\":{\"colorbar\":{\"outlinewidth\":0,\"ticks\":\"\"}}}],\"histogram\":[{\"marker\":{\"pattern\":{\"fillmode\":\"overlay\",\"size\":10,\"solidity\":0.2}},\"type\":\"histogram\"}],\"scattergl\":[{\"type\":\"scattergl\",\"marker\":{\"colorbar\":{\"outlinewidth\":0,\"ticks\":\"\"}}}],\"scatter3d\":[{\"type\":\"scatter3d\",\"line\":{\"colorbar\":{\"outlinewidth\":0,\"ticks\":\"\"}},\"marker\":{\"colorbar\":{\"outlinewidth\":0,\"ticks\":\"\"}}}],\"scattermapbox\":[{\"type\":\"scattermapbox\",\"marker\":{\"colorbar\":{\"outlinewidth\":0,\"ticks\":\"\"}}}],\"scatterternary\":[{\"type\":\"scatterternary\",\"marker\":{\"colorbar\":{\"outlinewidth\":0,\"ticks\":\"\"}}}],\"scattercarpet\":[{\"type\":\"scattercarpet\",\"marker\":{\"colorbar\":{\"outlinewidth\":0,\"ticks\":\"\"}}}],\"carpet\":[{\"aaxis\":{\"endlinecolor\":\"#2a3f5f\",\"gridcolor\":\"white\",\"linecolor\":\"white\",\"minorgridcolor\":\"white\",\"startlinecolor\":\"#2a3f5f\"},\"baxis\":{\"endlinecolor\":\"#2a3f5f\",\"gridcolor\":\"white\",\"linecolor\":\"white\",\"minorgridcolor\":\"white\",\"startlinecolor\":\"#2a3f5f\"},\"type\":\"carpet\"}],\"table\":[{\"cells\":{\"fill\":{\"color\":\"#EBF0F8\"},\"line\":{\"color\":\"white\"}},\"header\":{\"fill\":{\"color\":\"#C8D4E3\"},\"line\":{\"color\":\"white\"}},\"type\":\"table\"}],\"barpolar\":[{\"marker\":{\"line\":{\"color\":\"#E5ECF6\",\"width\":0.5},\"pattern\":{\"fillmode\":\"overlay\",\"size\":10,\"solidity\":0.2}},\"type\":\"barpolar\"}],\"pie\":[{\"automargin\":true,\"type\":\"pie\"}]},\"layout\":{\"autotypenumbers\":\"strict\",\"colorway\":[\"#636efa\",\"#EF553B\",\"#00cc96\",\"#ab63fa\",\"#FFA15A\",\"#19d3f3\",\"#FF6692\",\"#B6E880\",\"#FF97FF\",\"#FECB52\"],\"font\":{\"color\":\"#2a3f5f\"},\"hovermode\":\"closest\",\"hoverlabel\":{\"align\":\"left\"},\"paper_bgcolor\":\"white\",\"plot_bgcolor\":\"#E5ECF6\",\"polar\":{\"bgcolor\":\"#E5ECF6\",\"angularaxis\":{\"gridcolor\":\"white\",\"linecolor\":\"white\",\"ticks\":\"\"},\"radialaxis\":{\"gridcolor\":\"white\",\"linecolor\":\"white\",\"ticks\":\"\"}},\"ternary\":{\"bgcolor\":\"#E5ECF6\",\"aaxis\":{\"gridcolor\":\"white\",\"linecolor\":\"white\",\"ticks\":\"\"},\"baxis\":{\"gridcolor\":\"white\",\"linecolor\":\"white\",\"ticks\":\"\"},\"caxis\":{\"gridcolor\":\"white\",\"linecolor\":\"white\",\"ticks\":\"\"}},\"coloraxis\":{\"colorbar\":{\"outlinewidth\":0,\"ticks\":\"\"}},\"colorscale\":{\"sequential\":[[0.0,\"#0d0887\"],[0.1111111111111111,\"#46039f\"],[0.2222222222222222,\"#7201a8\"],[0.3333333333333333,\"#9c179e\"],[0.4444444444444444,\"#bd3786\"],[0.5555555555555556,\"#d8576b\"],[0.6666666666666666,\"#ed7953\"],[0.7777777777777778,\"#fb9f3a\"],[0.8888888888888888,\"#fdca26\"],[1.0,\"#f0f921\"]],\"sequentialminus\":[[0.0,\"#0d0887\"],[0.1111111111111111,\"#46039f\"],[0.2222222222222222,\"#7201a8\"],[0.3333333333333333,\"#9c179e\"],[0.4444444444444444,\"#bd3786\"],[0.5555555555555556,\"#d8576b\"],[0.6666666666666666,\"#ed7953\"],[0.7777777777777778,\"#fb9f3a\"],[0.8888888888888888,\"#fdca26\"],[1.0,\"#f0f921\"]],\"diverging\":[[0,\"#8e0152\"],[0.1,\"#c51b7d\"],[0.2,\"#de77ae\"],[0.3,\"#f1b6da\"],[0.4,\"#fde0ef\"],[0.5,\"#f7f7f7\"],[0.6,\"#e6f5d0\"],[0.7,\"#b8e186\"],[0.8,\"#7fbc41\"],[0.9,\"#4d9221\"],[1,\"#276419\"]]},\"xaxis\":{\"gridcolor\":\"white\",\"linecolor\":\"white\",\"ticks\":\"\",\"title\":{\"standoff\":15},\"zerolinecolor\":\"white\",\"automargin\":true,\"zerolinewidth\":2},\"yaxis\":{\"gridcolor\":\"white\",\"linecolor\":\"white\",\"ticks\":\"\",\"title\":{\"standoff\":15},\"zerolinecolor\":\"white\",\"automargin\":true,\"zerolinewidth\":2},\"scene\":{\"xaxis\":{\"backgroundcolor\":\"#E5ECF6\",\"gridcolor\":\"white\",\"linecolor\":\"white\",\"showbackground\":true,\"ticks\":\"\",\"zerolinecolor\":\"white\",\"gridwidth\":2},\"yaxis\":{\"backgroundcolor\":\"#E5ECF6\",\"gridcolor\":\"white\",\"linecolor\":\"white\",\"showbackground\":true,\"ticks\":\"\",\"zerolinecolor\":\"white\",\"gridwidth\":2},\"zaxis\":{\"backgroundcolor\":\"#E5ECF6\",\"gridcolor\":\"white\",\"linecolor\":\"white\",\"showbackground\":true,\"ticks\":\"\",\"zerolinecolor\":\"white\",\"gridwidth\":2}},\"shapedefaults\":{\"line\":{\"color\":\"#2a3f5f\"}},\"annotationdefaults\":{\"arrowcolor\":\"#2a3f5f\",\"arrowhead\":0,\"arrowwidth\":1},\"geo\":{\"bgcolor\":\"white\",\"landcolor\":\"#E5ECF6\",\"subunitcolor\":\"white\",\"showland\":true,\"showlakes\":true,\"lakecolor\":\"white\"},\"title\":{\"x\":0.05},\"mapbox\":{\"style\":\"light\"}}},\"xaxis\":{\"anchor\":\"y\",\"domain\":[0.0,1.0],\"title\":{\"text\":\"Job Title\"}},\"yaxis\":{\"anchor\":\"x\",\"domain\":[0.0,1.0],\"title\":{\"text\":\"Salary in USD\"}},\"legend\":{\"title\":{\"text\":\"Location\"},\"tracegroupgap\":0},\"title\":{\"text\":\"India vs Global Average Salary for Entry Level Jobs\"},\"barmode\":\"group\",\"height\":600},                        {\"responsive\": true}                    ).then(function(){\n",
       "                            \n",
       "var gd = document.getElementById('ca7a0970-1241-43a0-866a-f54b5ab827a7');\n",
       "var x = new MutationObserver(function (mutations, observer) {{\n",
       "        var display = window.getComputedStyle(gd).display;\n",
       "        if (!display || display === 'none') {{\n",
       "            console.log([gd, 'removed!']);\n",
       "            Plotly.purge(gd);\n",
       "            observer.disconnect();\n",
       "        }}\n",
       "}});\n",
       "\n",
       "// Listen for the removal of the full notebook cells\n",
       "var notebookContainer = gd.closest('#notebook-container');\n",
       "if (notebookContainer) {{\n",
       "    x.observe(notebookContainer, {childList: true});\n",
       "}}\n",
       "\n",
       "// Listen for the clearing of the current output cell\n",
       "var outputEl = gd.closest('.output');\n",
       "if (outputEl) {{\n",
       "    x.observe(outputEl, {childList: true});\n",
       "}}\n",
       "\n",
       "                        })                };                });            </script>        </div>"
      ]
     },
     "metadata": {},
     "output_type": "display_data"
    }
   ],
   "source": [
    "import plotly.express as px\n",
    "\n",
    "# Assuming temp_df contains your data\n",
    "fig = px.bar(temp_df, x=\"job_title\", y=\"salary_in_usd\", color=\"is_india\",\n",
    "             labels={\"salary_in_usd\": \"Salary in USD\", \"is_india\": \"Location\"},\n",
    "             title=\"India vs Global Average Salary for Entry Level Jobs\",\n",
    "             barmode='group')\n",
    "\n",
    "fig.update_layout(xaxis_title=\"Job Title\", yaxis_title=\"Salary in USD\", height=600)\n",
    "fig.show()\n"
   ]
  },
  {
   "cell_type": "markdown",
   "id": "8bea2e1b-9f4b-4932-96c9-3b06da0f3bef",
   "metadata": {},
   "source": [
    "## Question 2.year wise comparision of average salary of data scientist"
   ]
  },
  {
   "cell_type": "code",
   "execution_count": 461,
   "id": "22ebdd90-1c63-4dd2-8943-10d08ae4dbcd",
   "metadata": {},
   "outputs": [
    {
     "data": {
      "text/html": [
       "<div>\n",
       "<style scoped>\n",
       "    .dataframe tbody tr th:only-of-type {\n",
       "        vertical-align: middle;\n",
       "    }\n",
       "\n",
       "    .dataframe tbody tr th {\n",
       "        vertical-align: top;\n",
       "    }\n",
       "\n",
       "    .dataframe thead th {\n",
       "        text-align: right;\n",
       "    }\n",
       "</style>\n",
       "<table border=\"1\" class=\"dataframe\">\n",
       "  <thead>\n",
       "    <tr style=\"text-align: right;\">\n",
       "      <th></th>\n",
       "      <th>work_year</th>\n",
       "      <th>salary_in_usd</th>\n",
       "    </tr>\n",
       "  </thead>\n",
       "  <tbody>\n",
       "    <tr>\n",
       "      <th>0</th>\n",
       "      <td>2020</td>\n",
       "      <td>123309.771429</td>\n",
       "    </tr>\n",
       "    <tr>\n",
       "      <th>1</th>\n",
       "      <td>2021</td>\n",
       "      <td>99787.567010</td>\n",
       "    </tr>\n",
       "    <tr>\n",
       "      <th>2</th>\n",
       "      <td>2022</td>\n",
       "      <td>139186.168478</td>\n",
       "    </tr>\n",
       "    <tr>\n",
       "      <th>3</th>\n",
       "      <td>2023</td>\n",
       "      <td>169261.675176</td>\n",
       "    </tr>\n",
       "    <tr>\n",
       "      <th>4</th>\n",
       "      <td>2024</td>\n",
       "      <td>162042.376771</td>\n",
       "    </tr>\n",
       "  </tbody>\n",
       "</table>\n",
       "</div>"
      ],
      "text/plain": [
       "   work_year  salary_in_usd\n",
       "0       2020  123309.771429\n",
       "1       2021   99787.567010\n",
       "2       2022  139186.168478\n",
       "3       2023  169261.675176\n",
       "4       2024  162042.376771"
      ]
     },
     "execution_count": 461,
     "metadata": {},
     "output_type": "execute_result"
    }
   ],
   "source": [
    "temp_df = df_1[df_1[\"job_title\"] == \"Data Scientist\"]\n",
    "temp_df = temp_df.groupby(by = \"work_year\")[\"salary_in_usd\"].mean().reset_index()\n",
    "temp_df"
   ]
  },
  {
   "cell_type": "code",
   "execution_count": 462,
   "id": "cf417451-6626-47c7-9a97-90a54e9ade1a",
   "metadata": {},
   "outputs": [
    {
     "data": {
      "image/png": "[encoded data removed]",
      "text/plain": [
       "<Figure size 640x480 with 1 Axes>"
      ]
     },
     "metadata": {},
     "output_type": "display_data"
    }
   ],
   "source": [
    "sns.lineplot(data = temp_df, x= \"work_year\", y = \"salary_in_usd\", marker = \"o\")\n",
    "plt.grid(True)\n",
    "plt.xticks(temp_df[\"work_year\"])\n",
    "plt.title(\"Average Data Scientist Salary over Years\")\n",
    "plt.xlabel(\"Year\")\n",
    "plt.ylabel(\"Average Salary in USD\")\n",
    "plt.show()"
   ]
  },
  {
   "cell_type": "code",
   "execution_count": 463,
   "id": "fab08ec2-e618-4874-91ea-68c5e3cfd940",
   "metadata": {},
   "outputs": [
    {
     "data": {
      "text/html": [
       "<div>\n",
       "<style scoped>\n",
       "    .dataframe tbody tr th:only-of-type {\n",
       "        vertical-align: middle;\n",
       "    }\n",
       "\n",
       "    .dataframe tbody tr th {\n",
       "        vertical-align: top;\n",
       "    }\n",
       "\n",
       "    .dataframe thead th {\n",
       "        text-align: right;\n",
       "    }\n",
       "</style>\n",
       "<table border=\"1\" class=\"dataframe\">\n",
       "  <thead>\n",
       "    <tr style=\"text-align: right;\">\n",
       "      <th></th>\n",
       "      <th>work_year</th>\n",
       "      <th>job_title</th>\n",
       "      <th>salary_in_usd</th>\n",
       "    </tr>\n",
       "  </thead>\n",
       "  <tbody>\n",
       "    <tr>\n",
       "      <th>0</th>\n",
       "      <td>2020</td>\n",
       "      <td>Data Analyst</td>\n",
       "      <td>68014.666667</td>\n",
       "    </tr>\n",
       "    <tr>\n",
       "      <th>1</th>\n",
       "      <td>2020</td>\n",
       "      <td>Data Engineer</td>\n",
       "      <td>93310.120000</td>\n",
       "    </tr>\n",
       "    <tr>\n",
       "      <th>2</th>\n",
       "      <td>2020</td>\n",
       "      <td>Data Scientist</td>\n",
       "      <td>123309.771429</td>\n",
       "    </tr>\n",
       "    <tr>\n",
       "      <th>3</th>\n",
       "      <td>2021</td>\n",
       "      <td>Data Analyst</td>\n",
       "      <td>85159.108108</td>\n",
       "    </tr>\n",
       "    <tr>\n",
       "      <th>4</th>\n",
       "      <td>2021</td>\n",
       "      <td>Data Engineer</td>\n",
       "      <td>103472.620253</td>\n",
       "    </tr>\n",
       "    <tr>\n",
       "      <th>5</th>\n",
       "      <td>2021</td>\n",
       "      <td>Data Scientist</td>\n",
       "      <td>99787.567010</td>\n",
       "    </tr>\n",
       "    <tr>\n",
       "      <th>6</th>\n",
       "      <td>2022</td>\n",
       "      <td>Data Analyst</td>\n",
       "      <td>112552.908356</td>\n",
       "    </tr>\n",
       "    <tr>\n",
       "      <th>7</th>\n",
       "      <td>2022</td>\n",
       "      <td>Data Engineer</td>\n",
       "      <td>142876.340909</td>\n",
       "    </tr>\n",
       "    <tr>\n",
       "      <th>8</th>\n",
       "      <td>2022</td>\n",
       "      <td>Data Scientist</td>\n",
       "      <td>139186.168478</td>\n",
       "    </tr>\n",
       "    <tr>\n",
       "      <th>9</th>\n",
       "      <td>2023</td>\n",
       "      <td>Data Analyst</td>\n",
       "      <td>115237.954203</td>\n",
       "    </tr>\n",
       "    <tr>\n",
       "      <th>10</th>\n",
       "      <td>2023</td>\n",
       "      <td>Data Engineer</td>\n",
       "      <td>164139.639554</td>\n",
       "    </tr>\n",
       "    <tr>\n",
       "      <th>11</th>\n",
       "      <td>2023</td>\n",
       "      <td>Data Scientist</td>\n",
       "      <td>169261.675176</td>\n",
       "    </tr>\n",
       "    <tr>\n",
       "      <th>12</th>\n",
       "      <td>2024</td>\n",
       "      <td>Data Analyst</td>\n",
       "      <td>111981.004292</td>\n",
       "    </tr>\n",
       "    <tr>\n",
       "      <th>13</th>\n",
       "      <td>2024</td>\n",
       "      <td>Data Engineer</td>\n",
       "      <td>171850.985477</td>\n",
       "    </tr>\n",
       "    <tr>\n",
       "      <th>14</th>\n",
       "      <td>2024</td>\n",
       "      <td>Data Scientist</td>\n",
       "      <td>162042.376771</td>\n",
       "    </tr>\n",
       "  </tbody>\n",
       "</table>\n",
       "</div>"
      ],
      "text/plain": [
       "    work_year       job_title  salary_in_usd\n",
       "0        2020    Data Analyst   68014.666667\n",
       "1        2020   Data Engineer   93310.120000\n",
       "2        2020  Data Scientist  123309.771429\n",
       "3        2021    Data Analyst   85159.108108\n",
       "4        2021   Data Engineer  103472.620253\n",
       "5        2021  Data Scientist   99787.567010\n",
       "6        2022    Data Analyst  112552.908356\n",
       "7        2022   Data Engineer  142876.340909\n",
       "8        2022  Data Scientist  139186.168478\n",
       "9        2023    Data Analyst  115237.954203\n",
       "10       2023   Data Engineer  164139.639554\n",
       "11       2023  Data Scientist  169261.675176\n",
       "12       2024    Data Analyst  111981.004292\n",
       "13       2024   Data Engineer  171850.985477\n",
       "14       2024  Data Scientist  162042.376771"
      ]
     },
     "execution_count": 463,
     "metadata": {},
     "output_type": "execute_result"
    }
   ],
   "source": [
    "# temp_df = df_1[df_1[\"job_title\"] == \"Data Scientist\"]\n",
    "temp_df = df_1.groupby(by = [\"work_year\", \"job_title\"])[\"salary_in_usd\"].mean().reset_index()\n",
    "temp_df"
   ]
  },
  {
   "cell_type": "code",
   "execution_count": 464,
   "id": "8a0f2c0f-a440-4ea5-8fea-6593184c5bf3",
   "metadata": {},
   "outputs": [
    {
     "data": {
      "image/png": "[encoded data removed]",
      "text/plain": [
       "<Figure size 640x480 with 1 Axes>"
      ]
     },
     "metadata": {},
     "output_type": "display_data"
    }
   ],
   "source": [
    "sns.lineplot(data = temp_df, x= \"work_year\", y = \"salary_in_usd\", marker = \"o\", hue = \"job_title\")\n",
    "plt.grid(True)\n",
    "plt.xticks(temp_df[\"work_year\"])\n",
    "plt.title(\"Average Salary over Years\")\n",
    "plt.xlabel(\"Year\")\n",
    "plt.ylabel(\"Average Salary in USD\")\n",
    "plt.show()"
   ]
  },
  {
   "cell_type": "markdown",
   "id": "e4d1df73-27f1-407e-ae44-70495e76a292",
   "metadata": {},
   "source": [
    "## Question 3.comparision bw average salary of data engineer and data scientist"
   ]
  },
  {
   "cell_type": "code",
   "execution_count": 465,
   "id": "f7dd6daa-04c5-4b9f-ac31-94ef430a2529",
   "metadata": {},
   "outputs": [
    {
     "data": {
      "text/html": [
       "<div>\n",
       "<style scoped>\n",
       "    .dataframe tbody tr th:only-of-type {\n",
       "        vertical-align: middle;\n",
       "    }\n",
       "\n",
       "    .dataframe tbody tr th {\n",
       "        vertical-align: top;\n",
       "    }\n",
       "\n",
       "    .dataframe thead th {\n",
       "        text-align: right;\n",
       "    }\n",
       "</style>\n",
       "<table border=\"1\" class=\"dataframe\">\n",
       "  <thead>\n",
       "    <tr style=\"text-align: right;\">\n",
       "      <th></th>\n",
       "      <th>work_year</th>\n",
       "      <th>experience_level</th>\n",
       "      <th>employment_type</th>\n",
       "      <th>salary</th>\n",
       "      <th>salary_currency</th>\n",
       "      <th>salary_in_usd</th>\n",
       "      <th>employee_residence</th>\n",
       "      <th>remote_ratio</th>\n",
       "      <th>company_location</th>\n",
       "      <th>company_size</th>\n",
       "      <th>job_title</th>\n",
       "      <th>is_india</th>\n",
       "    </tr>\n",
       "  </thead>\n",
       "  <tbody>\n",
       "    <tr>\n",
       "      <th>3</th>\n",
       "      <td>2024</td>\n",
       "      <td>SE</td>\n",
       "      <td>FT</td>\n",
       "      <td>188500</td>\n",
       "      <td>USD</td>\n",
       "      <td>188500</td>\n",
       "      <td>US</td>\n",
       "      <td>0</td>\n",
       "      <td>US</td>\n",
       "      <td>M</td>\n",
       "      <td>Data Scientist</td>\n",
       "      <td>OTH</td>\n",
       "    </tr>\n",
       "    <tr>\n",
       "      <th>4</th>\n",
       "      <td>2024</td>\n",
       "      <td>SE</td>\n",
       "      <td>FT</td>\n",
       "      <td>165100</td>\n",
       "      <td>USD</td>\n",
       "      <td>165100</td>\n",
       "      <td>US</td>\n",
       "      <td>0</td>\n",
       "      <td>US</td>\n",
       "      <td>M</td>\n",
       "      <td>Data Scientist</td>\n",
       "      <td>OTH</td>\n",
       "    </tr>\n",
       "    <tr>\n",
       "      <th>7</th>\n",
       "      <td>2024</td>\n",
       "      <td>MI</td>\n",
       "      <td>FT</td>\n",
       "      <td>128600</td>\n",
       "      <td>USD</td>\n",
       "      <td>128600</td>\n",
       "      <td>US</td>\n",
       "      <td>0</td>\n",
       "      <td>US</td>\n",
       "      <td>M</td>\n",
       "      <td>Data Engineer</td>\n",
       "      <td>OTH</td>\n",
       "    </tr>\n",
       "    <tr>\n",
       "      <th>8</th>\n",
       "      <td>2024</td>\n",
       "      <td>MI</td>\n",
       "      <td>FT</td>\n",
       "      <td>100000</td>\n",
       "      <td>USD</td>\n",
       "      <td>100000</td>\n",
       "      <td>US</td>\n",
       "      <td>0</td>\n",
       "      <td>US</td>\n",
       "      <td>M</td>\n",
       "      <td>Data Engineer</td>\n",
       "      <td>OTH</td>\n",
       "    </tr>\n",
       "    <tr>\n",
       "      <th>11</th>\n",
       "      <td>2024</td>\n",
       "      <td>SE</td>\n",
       "      <td>FT</td>\n",
       "      <td>210000</td>\n",
       "      <td>USD</td>\n",
       "      <td>210000</td>\n",
       "      <td>US</td>\n",
       "      <td>0</td>\n",
       "      <td>US</td>\n",
       "      <td>M</td>\n",
       "      <td>Data Engineer</td>\n",
       "      <td>OTH</td>\n",
       "    </tr>\n",
       "    <tr>\n",
       "      <th>...</th>\n",
       "      <td>...</td>\n",
       "      <td>...</td>\n",
       "      <td>...</td>\n",
       "      <td>...</td>\n",
       "      <td>...</td>\n",
       "      <td>...</td>\n",
       "      <td>...</td>\n",
       "      <td>...</td>\n",
       "      <td>...</td>\n",
       "      <td>...</td>\n",
       "      <td>...</td>\n",
       "      <td>...</td>\n",
       "    </tr>\n",
       "    <tr>\n",
       "      <th>11563</th>\n",
       "      <td>2021</td>\n",
       "      <td>MI</td>\n",
       "      <td>FT</td>\n",
       "      <td>24000</td>\n",
       "      <td>EUR</td>\n",
       "      <td>28369</td>\n",
       "      <td>MT</td>\n",
       "      <td>50</td>\n",
       "      <td>MT</td>\n",
       "      <td>L</td>\n",
       "      <td>Data Engineer</td>\n",
       "      <td>OTH</td>\n",
       "    </tr>\n",
       "    <tr>\n",
       "      <th>11565</th>\n",
       "      <td>2020</td>\n",
       "      <td>SE</td>\n",
       "      <td>FT</td>\n",
       "      <td>412000</td>\n",
       "      <td>USD</td>\n",
       "      <td>412000</td>\n",
       "      <td>US</td>\n",
       "      <td>100</td>\n",
       "      <td>US</td>\n",
       "      <td>L</td>\n",
       "      <td>Data Scientist</td>\n",
       "      <td>OTH</td>\n",
       "    </tr>\n",
       "    <tr>\n",
       "      <th>11566</th>\n",
       "      <td>2021</td>\n",
       "      <td>MI</td>\n",
       "      <td>FT</td>\n",
       "      <td>151000</td>\n",
       "      <td>USD</td>\n",
       "      <td>151000</td>\n",
       "      <td>US</td>\n",
       "      <td>100</td>\n",
       "      <td>US</td>\n",
       "      <td>L</td>\n",
       "      <td>Data Scientist</td>\n",
       "      <td>OTH</td>\n",
       "    </tr>\n",
       "    <tr>\n",
       "      <th>11567</th>\n",
       "      <td>2020</td>\n",
       "      <td>EN</td>\n",
       "      <td>FT</td>\n",
       "      <td>105000</td>\n",
       "      <td>USD</td>\n",
       "      <td>105000</td>\n",
       "      <td>US</td>\n",
       "      <td>100</td>\n",
       "      <td>US</td>\n",
       "      <td>S</td>\n",
       "      <td>Data Scientist</td>\n",
       "      <td>OTH</td>\n",
       "    </tr>\n",
       "    <tr>\n",
       "      <th>11569</th>\n",
       "      <td>2021</td>\n",
       "      <td>SE</td>\n",
       "      <td>FT</td>\n",
       "      <td>7000000</td>\n",
       "      <td>INR</td>\n",
       "      <td>94665</td>\n",
       "      <td>IN</td>\n",
       "      <td>50</td>\n",
       "      <td>IN</td>\n",
       "      <td>L</td>\n",
       "      <td>Data Scientist</td>\n",
       "      <td>IN</td>\n",
       "    </tr>\n",
       "  </tbody>\n",
       "</table>\n",
       "<p>8706 rows × 12 columns</p>\n",
       "</div>"
      ],
      "text/plain": [
       "       work_year experience_level employment_type   salary salary_currency  \\\n",
       "3           2024               SE              FT   188500             USD   \n",
       "4           2024               SE              FT   165100             USD   \n",
       "7           2024               MI              FT   128600             USD   \n",
       "8           2024               MI              FT   100000             USD   \n",
       "11          2024               SE              FT   210000             USD   \n",
       "...          ...              ...             ...      ...             ...   \n",
       "11563       2021               MI              FT    24000             EUR   \n",
       "11565       2020               SE              FT   412000             USD   \n",
       "11566       2021               MI              FT   151000             USD   \n",
       "11567       2020               EN              FT   105000             USD   \n",
       "11569       2021               SE              FT  7000000             INR   \n",
       "\n",
       "       salary_in_usd employee_residence  remote_ratio company_location  \\\n",
       "3             188500                 US             0               US   \n",
       "4             165100                 US             0               US   \n",
       "7             128600                 US             0               US   \n",
       "8             100000                 US             0               US   \n",
       "11            210000                 US             0               US   \n",
       "...              ...                ...           ...              ...   \n",
       "11563          28369                 MT            50               MT   \n",
       "11565         412000                 US           100               US   \n",
       "11566         151000                 US           100               US   \n",
       "11567         105000                 US           100               US   \n",
       "11569          94665                 IN            50               IN   \n",
       "\n",
       "      company_size       job_title is_india  \n",
       "3                M  Data Scientist      OTH  \n",
       "4                M  Data Scientist      OTH  \n",
       "7                M   Data Engineer      OTH  \n",
       "8                M   Data Engineer      OTH  \n",
       "11               M   Data Engineer      OTH  \n",
       "...            ...             ...      ...  \n",
       "11563            L   Data Engineer      OTH  \n",
       "11565            L  Data Scientist      OTH  \n",
       "11566            L  Data Scientist      OTH  \n",
       "11567            S  Data Scientist      OTH  \n",
       "11569            L  Data Scientist       IN  \n",
       "\n",
       "[8706 rows x 12 columns]"
      ]
     },
     "execution_count": 465,
     "metadata": {},
     "output_type": "execute_result"
    }
   ],
   "source": [
    "temp = df[(df[\"job_title\"] == \"Data Scientist\") | (df[\"job_title\"] == \"Data Engineer\")]\n",
    "temp"
   ]
  },
  {
   "cell_type": "code",
   "execution_count": 466,
   "id": "05fd797e-df18-44ac-9d20-462769d2fb92",
   "metadata": {},
   "outputs": [
    {
     "data": {
      "text/html": [
       "<div>\n",
       "<style scoped>\n",
       "    .dataframe tbody tr th:only-of-type {\n",
       "        vertical-align: middle;\n",
       "    }\n",
       "\n",
       "    .dataframe tbody tr th {\n",
       "        vertical-align: top;\n",
       "    }\n",
       "\n",
       "    .dataframe thead th {\n",
       "        text-align: right;\n",
       "    }\n",
       "</style>\n",
       "<table border=\"1\" class=\"dataframe\">\n",
       "  <thead>\n",
       "    <tr style=\"text-align: right;\">\n",
       "      <th></th>\n",
       "      <th>job_title</th>\n",
       "      <th>salary_in_usd</th>\n",
       "    </tr>\n",
       "  </thead>\n",
       "  <tbody>\n",
       "    <tr>\n",
       "      <th>0</th>\n",
       "      <td>Data Engineer</td>\n",
       "      <td>160552.058800</td>\n",
       "    </tr>\n",
       "    <tr>\n",
       "      <th>1</th>\n",
       "      <td>Data Scientist</td>\n",
       "      <td>161909.429947</td>\n",
       "    </tr>\n",
       "  </tbody>\n",
       "</table>\n",
       "</div>"
      ],
      "text/plain": [
       "        job_title  salary_in_usd\n",
       "0   Data Engineer  160552.058800\n",
       "1  Data Scientist  161909.429947"
      ]
     },
     "execution_count": 466,
     "metadata": {},
     "output_type": "execute_result"
    }
   ],
   "source": [
    "temp_df = temp.groupby(\"job_title\")[\"salary_in_usd\"].mean().reset_index()\n",
    "temp_df"
   ]
  },
  {
   "cell_type": "code",
   "execution_count": 467,
   "id": "69a15f0c-258d-4f17-ac95-07f40927b947",
   "metadata": {},
   "outputs": [
    {
     "data": {
      "image/png": "[encoded data removed]",
      "text/plain": [
       "<Figure size 800x600 with 1 Axes>"
      ]
     },
     "metadata": {},
     "output_type": "display_data"
    }
   ],
   "source": [
    "import matplotlib.pyplot as plt\n",
    "import numpy as np\n",
    "\n",
    "# Data\n",
    "labels = temp_df[\"job_title\"]\n",
    "sizes = temp_df[\"salary_in_usd\"]\n",
    "\n",
    "# Custom colors with gradient\n",
    "colors = plt.cm.viridis(np.linspace(0, 1, len(labels)))\n",
    "\n",
    "# Explode multiple slices\n",
    "explode = [0.1 if value > np.mean(sizes) else 0 for value in sizes]\n",
    "\n",
    "# Plot\n",
    "plt.figure(figsize=(8, 6))\n",
    "wedges, texts, autotexts = plt.pie(sizes, explode=explode, labels=labels, autopct='%1.1f%%',\n",
    "                                    shadow=True, startangle=140, colors=colors, wedgeprops=dict(width=0.8, edgecolor='k'))\n",
    "\n",
    "# Equal aspect ratio ensures that pie is drawn as a circle.\n",
    "plt.axis('equal')\n",
    "\n",
    "# Title\n",
    "plt.title('Salary Distribution by Job Title', fontsize=18, fontweight='bold')\n",
    "\n",
    "# Customizing text properties\n",
    "for text in texts:\n",
    "    text.set_fontsize(12)\n",
    "    text.set_fontweight('bold')\n",
    "for autotext in autotexts:\n",
    "    autotext.set_fontsize(12)\n",
    "\n",
    "# Add legend\n",
    "plt.legend(loc='upper right', labels=labels, fontsize=10, bbox_to_anchor=(1.1, 1))\n",
    "\n",
    "# Change background color\n",
    "plt.gca().set_facecolor('#f7f7f7')\n",
    "\n",
    "# Show plot\n",
    "plt.tight_layout()\n",
    "plt.show()\n"
   ]
  },
  {
   "cell_type": "code",
   "execution_count": 468,
   "id": "02d3001d-0192-4105-9c98-cede16fb2a6b",
   "metadata": {},
   "outputs": [
    {
     "data": {
      "image/png": "[encoded data removed]",
      "text/plain": [
       "<Figure size 800x600 with 1 Axes>"
      ]
     },
     "metadata": {},
     "output_type": "display_data"
    }
   ],
   "source": [
    "import matplotlib.pyplot as plt\n",
    "\n",
    "def value_per(x):\n",
    "    num = x / 100 * temp_df[\"salary_in_usd\"].sum()\n",
    "    return f\"value -:{round(num, 2)}\\n percent-: {round(x, 2)}%\"\n",
    "\n",
    "# Explode multiple slices\n",
    "explode = [0.1 if value > np.mean(sizes) else 0 for value in sizes]\n",
    "\n",
    "plt.figure(figsize=(8, 6))\n",
    "plt.pie(temp_df[\"salary_in_usd\"],explode=explode, labels=temp_df[\"job_title\"], autopct=value_per, shadow=True, startangle=140, wedgeprops=dict(width=0.7, edgecolor='k'))\n",
    "\n",
    "# Equal aspect ratio ensures that pie is drawn as a circle.\n",
    "plt.axis('equal')\n",
    "\n",
    "# Title\n",
    "plt.title('Salary Distribution by Job Title', fontsize=18, fontweight='bold')\n",
    "\n",
    "# Customizing text properties\n",
    "for text in plt.gca().texts:\n",
    "    text.set_fontsize(12)\n",
    "    text.set_fontweight('bold')\n",
    "\n",
    "# Add legend\n",
    "plt.legend(loc='upper right', labels=temp_df[\"job_title\"], fontsize=10, bbox_to_anchor=(1.1, 1))\n",
    "\n",
    "# Change background color\n",
    "plt.gca().set_facecolor('#f7f7f7')\n",
    "\n",
    "# Show plot\n",
    "plt.tight_layout()\n",
    "plt.show()\n"
   ]
  },
  {
   "cell_type": "markdown",
   "id": "f72ef7fa-fcd0-47bf-b7de-4ff776dff5c9",
   "metadata": {},
   "source": [
    "## Question 4.salary distribution wrt company size"
   ]
  },
  {
   "cell_type": "code",
   "execution_count": 469,
   "id": "67a6d62a-1915-4222-994d-45642aa70a2b",
   "metadata": {},
   "outputs": [
    {
     "data": {
      "text/html": [
       "<div>\n",
       "<style scoped>\n",
       "    .dataframe tbody tr th:only-of-type {\n",
       "        vertical-align: middle;\n",
       "    }\n",
       "\n",
       "    .dataframe tbody tr th {\n",
       "        vertical-align: top;\n",
       "    }\n",
       "\n",
       "    .dataframe thead th {\n",
       "        text-align: right;\n",
       "    }\n",
       "</style>\n",
       "<table border=\"1\" class=\"dataframe\">\n",
       "  <thead>\n",
       "    <tr style=\"text-align: right;\">\n",
       "      <th></th>\n",
       "      <th>work_year</th>\n",
       "      <th>experience_level</th>\n",
       "      <th>employment_type</th>\n",
       "      <th>salary</th>\n",
       "      <th>salary_currency</th>\n",
       "      <th>salary_in_usd</th>\n",
       "      <th>employee_residence</th>\n",
       "      <th>remote_ratio</th>\n",
       "      <th>company_location</th>\n",
       "      <th>company_size</th>\n",
       "      <th>job_title</th>\n",
       "      <th>is_india</th>\n",
       "    </tr>\n",
       "  </thead>\n",
       "  <tbody>\n",
       "    <tr>\n",
       "      <th>0</th>\n",
       "      <td>2023</td>\n",
       "      <td>EN</td>\n",
       "      <td>FT</td>\n",
       "      <td>50000</td>\n",
       "      <td>USD</td>\n",
       "      <td>50000</td>\n",
       "      <td>DE</td>\n",
       "      <td>0</td>\n",
       "      <td>DE</td>\n",
       "      <td>M</td>\n",
       "      <td>Data Analyst</td>\n",
       "      <td>OTH</td>\n",
       "    </tr>\n",
       "    <tr>\n",
       "      <th>1</th>\n",
       "      <td>2024</td>\n",
       "      <td>SE</td>\n",
       "      <td>FT</td>\n",
       "      <td>200400</td>\n",
       "      <td>USD</td>\n",
       "      <td>200400</td>\n",
       "      <td>US</td>\n",
       "      <td>0</td>\n",
       "      <td>US</td>\n",
       "      <td>M</td>\n",
       "      <td>Data Management Specialist</td>\n",
       "      <td>OTH</td>\n",
       "    </tr>\n",
       "    <tr>\n",
       "      <th>2</th>\n",
       "      <td>2024</td>\n",
       "      <td>SE</td>\n",
       "      <td>FT</td>\n",
       "      <td>116500</td>\n",
       "      <td>USD</td>\n",
       "      <td>116500</td>\n",
       "      <td>US</td>\n",
       "      <td>0</td>\n",
       "      <td>US</td>\n",
       "      <td>M</td>\n",
       "      <td>Data Management Specialist</td>\n",
       "      <td>OTH</td>\n",
       "    </tr>\n",
       "    <tr>\n",
       "      <th>3</th>\n",
       "      <td>2024</td>\n",
       "      <td>SE</td>\n",
       "      <td>FT</td>\n",
       "      <td>188500</td>\n",
       "      <td>USD</td>\n",
       "      <td>188500</td>\n",
       "      <td>US</td>\n",
       "      <td>0</td>\n",
       "      <td>US</td>\n",
       "      <td>M</td>\n",
       "      <td>Data Scientist</td>\n",
       "      <td>OTH</td>\n",
       "    </tr>\n",
       "    <tr>\n",
       "      <th>4</th>\n",
       "      <td>2024</td>\n",
       "      <td>SE</td>\n",
       "      <td>FT</td>\n",
       "      <td>165100</td>\n",
       "      <td>USD</td>\n",
       "      <td>165100</td>\n",
       "      <td>US</td>\n",
       "      <td>0</td>\n",
       "      <td>US</td>\n",
       "      <td>M</td>\n",
       "      <td>Data Scientist</td>\n",
       "      <td>OTH</td>\n",
       "    </tr>\n",
       "    <tr>\n",
       "      <th>...</th>\n",
       "      <td>...</td>\n",
       "      <td>...</td>\n",
       "      <td>...</td>\n",
       "      <td>...</td>\n",
       "      <td>...</td>\n",
       "      <td>...</td>\n",
       "      <td>...</td>\n",
       "      <td>...</td>\n",
       "      <td>...</td>\n",
       "      <td>...</td>\n",
       "      <td>...</td>\n",
       "      <td>...</td>\n",
       "    </tr>\n",
       "    <tr>\n",
       "      <th>11565</th>\n",
       "      <td>2020</td>\n",
       "      <td>SE</td>\n",
       "      <td>FT</td>\n",
       "      <td>412000</td>\n",
       "      <td>USD</td>\n",
       "      <td>412000</td>\n",
       "      <td>US</td>\n",
       "      <td>100</td>\n",
       "      <td>US</td>\n",
       "      <td>L</td>\n",
       "      <td>Data Scientist</td>\n",
       "      <td>OTH</td>\n",
       "    </tr>\n",
       "    <tr>\n",
       "      <th>11566</th>\n",
       "      <td>2021</td>\n",
       "      <td>MI</td>\n",
       "      <td>FT</td>\n",
       "      <td>151000</td>\n",
       "      <td>USD</td>\n",
       "      <td>151000</td>\n",
       "      <td>US</td>\n",
       "      <td>100</td>\n",
       "      <td>US</td>\n",
       "      <td>L</td>\n",
       "      <td>Data Scientist</td>\n",
       "      <td>OTH</td>\n",
       "    </tr>\n",
       "    <tr>\n",
       "      <th>11567</th>\n",
       "      <td>2020</td>\n",
       "      <td>EN</td>\n",
       "      <td>FT</td>\n",
       "      <td>105000</td>\n",
       "      <td>USD</td>\n",
       "      <td>105000</td>\n",
       "      <td>US</td>\n",
       "      <td>100</td>\n",
       "      <td>US</td>\n",
       "      <td>S</td>\n",
       "      <td>Data Scientist</td>\n",
       "      <td>OTH</td>\n",
       "    </tr>\n",
       "    <tr>\n",
       "      <th>11568</th>\n",
       "      <td>2020</td>\n",
       "      <td>EN</td>\n",
       "      <td>CT</td>\n",
       "      <td>100000</td>\n",
       "      <td>USD</td>\n",
       "      <td>100000</td>\n",
       "      <td>US</td>\n",
       "      <td>100</td>\n",
       "      <td>US</td>\n",
       "      <td>L</td>\n",
       "      <td>Data Analyst</td>\n",
       "      <td>OTH</td>\n",
       "    </tr>\n",
       "    <tr>\n",
       "      <th>11569</th>\n",
       "      <td>2021</td>\n",
       "      <td>SE</td>\n",
       "      <td>FT</td>\n",
       "      <td>7000000</td>\n",
       "      <td>INR</td>\n",
       "      <td>94665</td>\n",
       "      <td>IN</td>\n",
       "      <td>50</td>\n",
       "      <td>IN</td>\n",
       "      <td>L</td>\n",
       "      <td>Data Scientist</td>\n",
       "      <td>IN</td>\n",
       "    </tr>\n",
       "  </tbody>\n",
       "</table>\n",
       "<p>11570 rows × 12 columns</p>\n",
       "</div>"
      ],
      "text/plain": [
       "       work_year experience_level employment_type   salary salary_currency  \\\n",
       "0           2023               EN              FT    50000             USD   \n",
       "1           2024               SE              FT   200400             USD   \n",
       "2           2024               SE              FT   116500             USD   \n",
       "3           2024               SE              FT   188500             USD   \n",
       "4           2024               SE              FT   165100             USD   \n",
       "...          ...              ...             ...      ...             ...   \n",
       "11565       2020               SE              FT   412000             USD   \n",
       "11566       2021               MI              FT   151000             USD   \n",
       "11567       2020               EN              FT   105000             USD   \n",
       "11568       2020               EN              CT   100000             USD   \n",
       "11569       2021               SE              FT  7000000             INR   \n",
       "\n",
       "       salary_in_usd employee_residence  remote_ratio company_location  \\\n",
       "0              50000                 DE             0               DE   \n",
       "1             200400                 US             0               US   \n",
       "2             116500                 US             0               US   \n",
       "3             188500                 US             0               US   \n",
       "4             165100                 US             0               US   \n",
       "...              ...                ...           ...              ...   \n",
       "11565         412000                 US           100               US   \n",
       "11566         151000                 US           100               US   \n",
       "11567         105000                 US           100               US   \n",
       "11568         100000                 US           100               US   \n",
       "11569          94665                 IN            50               IN   \n",
       "\n",
       "      company_size                   job_title is_india  \n",
       "0                M                Data Analyst      OTH  \n",
       "1                M  Data Management Specialist      OTH  \n",
       "2                M  Data Management Specialist      OTH  \n",
       "3                M              Data Scientist      OTH  \n",
       "4                M              Data Scientist      OTH  \n",
       "...            ...                         ...      ...  \n",
       "11565            L              Data Scientist      OTH  \n",
       "11566            L              Data Scientist      OTH  \n",
       "11567            S              Data Scientist      OTH  \n",
       "11568            L                Data Analyst      OTH  \n",
       "11569            L              Data Scientist       IN  \n",
       "\n",
       "[11570 rows x 12 columns]"
      ]
     },
     "execution_count": 469,
     "metadata": {},
     "output_type": "execute_result"
    }
   ],
   "source": [
    "df"
   ]
  },
  {
   "cell_type": "code",
   "execution_count": 470,
   "id": "4ec2085e-e667-4d77-ad39-207e95bd2d73",
   "metadata": {},
   "outputs": [
    {
     "data": {
      "text/plain": [
       "array(['M', 'L', 'S'], dtype=object)"
      ]
     },
     "execution_count": 470,
     "metadata": {},
     "output_type": "execute_result"
    }
   ],
   "source": [
    "df[\"company_size\"].unique()\n"
   ]
  },
  {
   "cell_type": "code",
   "execution_count": 490,
   "id": "1dd1b00c-7a14-4e16-aafa-e776f7572e3a",
   "metadata": {},
   "outputs": [
    {
     "data": {
      "image/png": "[encoded data removed]",
      "text/plain": [
       "<Figure size 1600x500 with 3 Axes>"
      ]
     },
     "metadata": {},
     "output_type": "display_data"
    }
   ],
   "source": [
    "import matplotlib.pyplot as plt\n",
    "import seaborn as sns\n",
    "\n",
    "# Set custom color palette\n",
    "colors = ['#1f77b4', '#ff7f0e', '#2ca02c']  # Blue, Orange, Green\n",
    "\n",
    "# Create subplots with specified size and style\n",
    "fig, axs = plt.subplots(1, 3, figsize=(16, 5), facecolor='white')\n",
    "\n",
    "# Plot histograms for different company sizes with enhanced styling\n",
    "for i, size in enumerate([\"S\", \"M\", \"L\"]):\n",
    "    sns.histplot(df[df[\"company_size\"] == size][\"salary_in_usd\"], ax=axs[i], kde=True, color=colors[i], linewidth=1.5)\n",
    "    axs[i].set_title(size.capitalize(), fontsize=14, fontweight='bold', pad=10, color=colors[i])  # Enhance title style\n",
    "    axs[i].tick_params(axis='both', which='major', labelsize=12)  # Set tick label size\n",
    "    axs[i].tick_params(axis='x', rotation=45)  # Rotate x-tick labels by 45 degrees\n",
    "\n",
    "# Overall title and layout adjustments\n",
    "plt.suptitle(\"Distribution of Salary by Company Size\", fontsize=18, fontweight='bold', y=1.05, color='black')\n",
    "plt.tight_layout()\n",
    "\n",
    "# Remove excess spines and grid\n",
    "for ax in axs:\n",
    "    ax.spines['top'].set_visible(False)\n",
    "    ax.spines['right'].set_visible(False)\n",
    "    ax.grid(False)\n",
    "\n",
    "# Add horizontal grid lines for better readability\n",
    "plt.gca().yaxis.grid(True, linestyle='--', alpha=0.7)\n",
    "\n",
    "# Add a descriptive label to the x-axis\n",
    "\n",
    "# Show plot\n",
    "plt.show()\n"
   ]
  },
  {
   "cell_type": "markdown",
   "id": "a4f4a883-0822-46fe-bbfb-c7bcbd624808",
   "metadata": {},
   "source": [
    "## Question 5. average salary of da, ds, de based on employment type"
   ]
  },
  {
   "cell_type": "code",
   "execution_count": 472,
   "id": "95489b0e-5116-488a-8413-8c53fc3faadc",
   "metadata": {},
   "outputs": [
    {
     "data": {
      "text/html": [
       "<div>\n",
       "<style scoped>\n",
       "    .dataframe tbody tr th:only-of-type {\n",
       "        vertical-align: middle;\n",
       "    }\n",
       "\n",
       "    .dataframe tbody tr th {\n",
       "        vertical-align: top;\n",
       "    }\n",
       "\n",
       "    .dataframe thead th {\n",
       "        text-align: right;\n",
       "    }\n",
       "</style>\n",
       "<table border=\"1\" class=\"dataframe\">\n",
       "  <thead>\n",
       "    <tr style=\"text-align: right;\">\n",
       "      <th></th>\n",
       "      <th>job_title</th>\n",
       "      <th>employment_type</th>\n",
       "      <th>salary_in_usd</th>\n",
       "    </tr>\n",
       "  </thead>\n",
       "  <tbody>\n",
       "    <tr>\n",
       "      <th>0</th>\n",
       "      <td>Data Analyst</td>\n",
       "      <td>CT</td>\n",
       "      <td>105265.428571</td>\n",
       "    </tr>\n",
       "    <tr>\n",
       "      <th>1</th>\n",
       "      <td>Data Analyst</td>\n",
       "      <td>FL</td>\n",
       "      <td>43000.000000</td>\n",
       "    </tr>\n",
       "    <tr>\n",
       "      <th>2</th>\n",
       "      <td>Data Analyst</td>\n",
       "      <td>FT</td>\n",
       "      <td>114019.013211</td>\n",
       "    </tr>\n",
       "    <tr>\n",
       "      <th>3</th>\n",
       "      <td>Data Analyst</td>\n",
       "      <td>PT</td>\n",
       "      <td>51820.000000</td>\n",
       "    </tr>\n",
       "    <tr>\n",
       "      <th>4</th>\n",
       "      <td>Data Engineer</td>\n",
       "      <td>CT</td>\n",
       "      <td>105296.500000</td>\n",
       "    </tr>\n",
       "    <tr>\n",
       "      <th>5</th>\n",
       "      <td>Data Engineer</td>\n",
       "      <td>FL</td>\n",
       "      <td>56666.666667</td>\n",
       "    </tr>\n",
       "    <tr>\n",
       "      <th>6</th>\n",
       "      <td>Data Engineer</td>\n",
       "      <td>FT</td>\n",
       "      <td>160773.609047</td>\n",
       "    </tr>\n",
       "    <tr>\n",
       "      <th>7</th>\n",
       "      <td>Data Engineer</td>\n",
       "      <td>PT</td>\n",
       "      <td>46080.000000</td>\n",
       "    </tr>\n",
       "    <tr>\n",
       "      <th>8</th>\n",
       "      <td>Data Scientist</td>\n",
       "      <td>CT</td>\n",
       "      <td>141836.200000</td>\n",
       "    </tr>\n",
       "    <tr>\n",
       "      <th>9</th>\n",
       "      <td>Data Scientist</td>\n",
       "      <td>FL</td>\n",
       "      <td>53587.166667</td>\n",
       "    </tr>\n",
       "    <tr>\n",
       "      <th>10</th>\n",
       "      <td>Data Scientist</td>\n",
       "      <td>FT</td>\n",
       "      <td>162328.203977</td>\n",
       "    </tr>\n",
       "    <tr>\n",
       "      <th>11</th>\n",
       "      <td>Data Scientist</td>\n",
       "      <td>PT</td>\n",
       "      <td>60914.625000</td>\n",
       "    </tr>\n",
       "  </tbody>\n",
       "</table>\n",
       "</div>"
      ],
      "text/plain": [
       "         job_title employment_type  salary_in_usd\n",
       "0     Data Analyst              CT  105265.428571\n",
       "1     Data Analyst              FL   43000.000000\n",
       "2     Data Analyst              FT  114019.013211\n",
       "3     Data Analyst              PT   51820.000000\n",
       "4    Data Engineer              CT  105296.500000\n",
       "5    Data Engineer              FL   56666.666667\n",
       "6    Data Engineer              FT  160773.609047\n",
       "7    Data Engineer              PT   46080.000000\n",
       "8   Data Scientist              CT  141836.200000\n",
       "9   Data Scientist              FL   53587.166667\n",
       "10  Data Scientist              FT  162328.203977\n",
       "11  Data Scientist              PT   60914.625000"
      ]
     },
     "execution_count": 472,
     "metadata": {},
     "output_type": "execute_result"
    }
   ],
   "source": [
    "temp = df[(df[\"job_title\"] == \"Data Scientist\") | (df[\"job_title\"] == \"Data Engineer\") | (df[\"job_title\"] == \"Data Analyst\") ]\n",
    "\n",
    "temp_df = temp.groupby([\"job_title\",\"employment_type\"])[\"salary_in_usd\"].mean().reset_index()\n",
    "temp_df"
   ]
  },
  {
   "cell_type": "code",
   "execution_count": 473,
   "id": "ca3891ed-61de-402a-bba6-cfdf7a0ceb09",
   "metadata": {
    "scrolled": true
   },
   "outputs": [
    {
     "name": "stderr",
     "output_type": "stream",
     "text": [
      "C:\\Users\\pc\\AppData\\Local\\Temp\\ipykernel_17140\\1593838544.py:9: UserWarning:\n",
      "\n",
      "\n",
      "The palette list has fewer values (3) than needed (4) and will cycle, which may produce an uninterpretable plot.\n",
      "\n"
     ]
    },
    {
     "data": {
      "image/png": "[encoded data removed]",
      "text/plain": [
       "<Figure size 1200x600 with 1 Axes>"
      ]
     },
     "metadata": {},
     "output_type": "display_data"
    }
   ],
   "source": [
    "import seaborn as sns\n",
    "import matplotlib.pyplot as plt\n",
    "\n",
    "# Set custom color palette\n",
    "colors = ['#1f77b4', '#ff7f0e', '#2ca02c']  # Blue, Orange, Green\n",
    "\n",
    "# Create bar plot with enhanced styling\n",
    "plt.figure(figsize=(12, 6))\n",
    "sns.barplot(data=temp_df, x=\"job_title\", y=\"salary_in_usd\", hue=\"employment_type\", estimator=\"mean\", palette=colors)\n",
    "\n",
    "# Add title and labels with enhanced styling\n",
    "plt.title(\"Mean Salary by Job Title and Employment Type\", fontsize=18, fontweight='bold', color='black')\n",
    "plt.xlabel(\"Job Title\", fontsize=14, fontweight='bold')\n",
    "plt.ylabel(\"Mean Salary in USD\", fontsize=14, fontweight='bold')\n",
    "\n",
    "# Customize legend\n",
    "plt.legend(title=\"Employment Type\", fontsize=12, title_fontsize=12, loc='upper right')\n",
    "\n",
    "# Rotate x-tick labels for better readability\n",
    "plt.xticks(rotation=45, ha='right', fontsize=12)\n",
    "\n",
    "\n",
    "# Show plot\n",
    "plt.tight_layout()\n",
    "plt.show()\n"
   ]
  },
  {
   "cell_type": "code",
   "execution_count": null,
   "id": "4e4e3a6b-8c21-435d-b0c6-248e50758d41",
   "metadata": {},
   "outputs": [],
   "source": []
  },
  {
   "cell_type": "markdown",
   "id": "9e69d2a5-1486-478f-8ad5-24544ad51685",
   "metadata": {},
   "source": [
    "## Question no 6. top 5 countries on the basis of average salary for indian employees."
   ]
  },
  {
   "cell_type": "code",
   "execution_count": 474,
   "id": "147a182b-1438-439a-8f48-0dce2e55b3ab",
   "metadata": {},
   "outputs": [
    {
     "data": {
      "text/html": [
       "<div>\n",
       "<style scoped>\n",
       "    .dataframe tbody tr th:only-of-type {\n",
       "        vertical-align: middle;\n",
       "    }\n",
       "\n",
       "    .dataframe tbody tr th {\n",
       "        vertical-align: top;\n",
       "    }\n",
       "\n",
       "    .dataframe thead th {\n",
       "        text-align: right;\n",
       "    }\n",
       "</style>\n",
       "<table border=\"1\" class=\"dataframe\">\n",
       "  <thead>\n",
       "    <tr style=\"text-align: right;\">\n",
       "      <th></th>\n",
       "      <th>work_year</th>\n",
       "      <th>experience_level</th>\n",
       "      <th>employment_type</th>\n",
       "      <th>salary</th>\n",
       "      <th>salary_currency</th>\n",
       "      <th>salary_in_usd</th>\n",
       "      <th>employee_residence</th>\n",
       "      <th>remote_ratio</th>\n",
       "      <th>company_location</th>\n",
       "      <th>company_size</th>\n",
       "      <th>job_title</th>\n",
       "      <th>is_india</th>\n",
       "    </tr>\n",
       "  </thead>\n",
       "  <tbody>\n",
       "    <tr>\n",
       "      <th>0</th>\n",
       "      <td>2023</td>\n",
       "      <td>EN</td>\n",
       "      <td>FT</td>\n",
       "      <td>50000</td>\n",
       "      <td>USD</td>\n",
       "      <td>50000</td>\n",
       "      <td>DE</td>\n",
       "      <td>0</td>\n",
       "      <td>DE</td>\n",
       "      <td>M</td>\n",
       "      <td>Data Analyst</td>\n",
       "      <td>OTH</td>\n",
       "    </tr>\n",
       "    <tr>\n",
       "      <th>1</th>\n",
       "      <td>2024</td>\n",
       "      <td>SE</td>\n",
       "      <td>FT</td>\n",
       "      <td>200400</td>\n",
       "      <td>USD</td>\n",
       "      <td>200400</td>\n",
       "      <td>US</td>\n",
       "      <td>0</td>\n",
       "      <td>US</td>\n",
       "      <td>M</td>\n",
       "      <td>Data Management Specialist</td>\n",
       "      <td>OTH</td>\n",
       "    </tr>\n",
       "    <tr>\n",
       "      <th>2</th>\n",
       "      <td>2024</td>\n",
       "      <td>SE</td>\n",
       "      <td>FT</td>\n",
       "      <td>116500</td>\n",
       "      <td>USD</td>\n",
       "      <td>116500</td>\n",
       "      <td>US</td>\n",
       "      <td>0</td>\n",
       "      <td>US</td>\n",
       "      <td>M</td>\n",
       "      <td>Data Management Specialist</td>\n",
       "      <td>OTH</td>\n",
       "    </tr>\n",
       "    <tr>\n",
       "      <th>3</th>\n",
       "      <td>2024</td>\n",
       "      <td>SE</td>\n",
       "      <td>FT</td>\n",
       "      <td>188500</td>\n",
       "      <td>USD</td>\n",
       "      <td>188500</td>\n",
       "      <td>US</td>\n",
       "      <td>0</td>\n",
       "      <td>US</td>\n",
       "      <td>M</td>\n",
       "      <td>Data Scientist</td>\n",
       "      <td>OTH</td>\n",
       "    </tr>\n",
       "    <tr>\n",
       "      <th>4</th>\n",
       "      <td>2024</td>\n",
       "      <td>SE</td>\n",
       "      <td>FT</td>\n",
       "      <td>165100</td>\n",
       "      <td>USD</td>\n",
       "      <td>165100</td>\n",
       "      <td>US</td>\n",
       "      <td>0</td>\n",
       "      <td>US</td>\n",
       "      <td>M</td>\n",
       "      <td>Data Scientist</td>\n",
       "      <td>OTH</td>\n",
       "    </tr>\n",
       "    <tr>\n",
       "      <th>...</th>\n",
       "      <td>...</td>\n",
       "      <td>...</td>\n",
       "      <td>...</td>\n",
       "      <td>...</td>\n",
       "      <td>...</td>\n",
       "      <td>...</td>\n",
       "      <td>...</td>\n",
       "      <td>...</td>\n",
       "      <td>...</td>\n",
       "      <td>...</td>\n",
       "      <td>...</td>\n",
       "      <td>...</td>\n",
       "    </tr>\n",
       "    <tr>\n",
       "      <th>11565</th>\n",
       "      <td>2020</td>\n",
       "      <td>SE</td>\n",
       "      <td>FT</td>\n",
       "      <td>412000</td>\n",
       "      <td>USD</td>\n",
       "      <td>412000</td>\n",
       "      <td>US</td>\n",
       "      <td>100</td>\n",
       "      <td>US</td>\n",
       "      <td>L</td>\n",
       "      <td>Data Scientist</td>\n",
       "      <td>OTH</td>\n",
       "    </tr>\n",
       "    <tr>\n",
       "      <th>11566</th>\n",
       "      <td>2021</td>\n",
       "      <td>MI</td>\n",
       "      <td>FT</td>\n",
       "      <td>151000</td>\n",
       "      <td>USD</td>\n",
       "      <td>151000</td>\n",
       "      <td>US</td>\n",
       "      <td>100</td>\n",
       "      <td>US</td>\n",
       "      <td>L</td>\n",
       "      <td>Data Scientist</td>\n",
       "      <td>OTH</td>\n",
       "    </tr>\n",
       "    <tr>\n",
       "      <th>11567</th>\n",
       "      <td>2020</td>\n",
       "      <td>EN</td>\n",
       "      <td>FT</td>\n",
       "      <td>105000</td>\n",
       "      <td>USD</td>\n",
       "      <td>105000</td>\n",
       "      <td>US</td>\n",
       "      <td>100</td>\n",
       "      <td>US</td>\n",
       "      <td>S</td>\n",
       "      <td>Data Scientist</td>\n",
       "      <td>OTH</td>\n",
       "    </tr>\n",
       "    <tr>\n",
       "      <th>11568</th>\n",
       "      <td>2020</td>\n",
       "      <td>EN</td>\n",
       "      <td>CT</td>\n",
       "      <td>100000</td>\n",
       "      <td>USD</td>\n",
       "      <td>100000</td>\n",
       "      <td>US</td>\n",
       "      <td>100</td>\n",
       "      <td>US</td>\n",
       "      <td>L</td>\n",
       "      <td>Data Analyst</td>\n",
       "      <td>OTH</td>\n",
       "    </tr>\n",
       "    <tr>\n",
       "      <th>11569</th>\n",
       "      <td>2021</td>\n",
       "      <td>SE</td>\n",
       "      <td>FT</td>\n",
       "      <td>7000000</td>\n",
       "      <td>INR</td>\n",
       "      <td>94665</td>\n",
       "      <td>IN</td>\n",
       "      <td>50</td>\n",
       "      <td>IN</td>\n",
       "      <td>L</td>\n",
       "      <td>Data Scientist</td>\n",
       "      <td>IN</td>\n",
       "    </tr>\n",
       "  </tbody>\n",
       "</table>\n",
       "<p>11570 rows × 12 columns</p>\n",
       "</div>"
      ],
      "text/plain": [
       "       work_year experience_level employment_type   salary salary_currency  \\\n",
       "0           2023               EN              FT    50000             USD   \n",
       "1           2024               SE              FT   200400             USD   \n",
       "2           2024               SE              FT   116500             USD   \n",
       "3           2024               SE              FT   188500             USD   \n",
       "4           2024               SE              FT   165100             USD   \n",
       "...          ...              ...             ...      ...             ...   \n",
       "11565       2020               SE              FT   412000             USD   \n",
       "11566       2021               MI              FT   151000             USD   \n",
       "11567       2020               EN              FT   105000             USD   \n",
       "11568       2020               EN              CT   100000             USD   \n",
       "11569       2021               SE              FT  7000000             INR   \n",
       "\n",
       "       salary_in_usd employee_residence  remote_ratio company_location  \\\n",
       "0              50000                 DE             0               DE   \n",
       "1             200400                 US             0               US   \n",
       "2             116500                 US             0               US   \n",
       "3             188500                 US             0               US   \n",
       "4             165100                 US             0               US   \n",
       "...              ...                ...           ...              ...   \n",
       "11565         412000                 US           100               US   \n",
       "11566         151000                 US           100               US   \n",
       "11567         105000                 US           100               US   \n",
       "11568         100000                 US           100               US   \n",
       "11569          94665                 IN            50               IN   \n",
       "\n",
       "      company_size                   job_title is_india  \n",
       "0                M                Data Analyst      OTH  \n",
       "1                M  Data Management Specialist      OTH  \n",
       "2                M  Data Management Specialist      OTH  \n",
       "3                M              Data Scientist      OTH  \n",
       "4                M              Data Scientist      OTH  \n",
       "...            ...                         ...      ...  \n",
       "11565            L              Data Scientist      OTH  \n",
       "11566            L              Data Scientist      OTH  \n",
       "11567            S              Data Scientist      OTH  \n",
       "11568            L                Data Analyst      OTH  \n",
       "11569            L              Data Scientist       IN  \n",
       "\n",
       "[11570 rows x 12 columns]"
      ]
     },
     "execution_count": 474,
     "metadata": {},
     "output_type": "execute_result"
    }
   ],
   "source": [
    "df"
   ]
  },
  {
   "cell_type": "code",
   "execution_count": 475,
   "id": "333e6df8-8abb-4393-bd40-5831a2b66f09",
   "metadata": {},
   "outputs": [],
   "source": [
    "temp = df[df[\"employee_residence\"]==\"IN\"]"
   ]
  },
  {
   "cell_type": "code",
   "execution_count": 476,
   "id": "42d51896-f0cc-413e-bfa7-4aa00307c1a7",
   "metadata": {},
   "outputs": [
    {
     "data": {
      "text/html": [
       "<div>\n",
       "<style scoped>\n",
       "    .dataframe tbody tr th:only-of-type {\n",
       "        vertical-align: middle;\n",
       "    }\n",
       "\n",
       "    .dataframe tbody tr th {\n",
       "        vertical-align: top;\n",
       "    }\n",
       "\n",
       "    .dataframe thead th {\n",
       "        text-align: right;\n",
       "    }\n",
       "</style>\n",
       "<table border=\"1\" class=\"dataframe\">\n",
       "  <thead>\n",
       "    <tr style=\"text-align: right;\">\n",
       "      <th></th>\n",
       "      <th>company_location</th>\n",
       "      <th>salary_in_usd</th>\n",
       "    </tr>\n",
       "  </thead>\n",
       "  <tbody>\n",
       "    <tr>\n",
       "      <th>0</th>\n",
       "      <td>US</td>\n",
       "      <td>90841.285714</td>\n",
       "    </tr>\n",
       "    <tr>\n",
       "      <th>1</th>\n",
       "      <td>AU</td>\n",
       "      <td>70000.000000</td>\n",
       "    </tr>\n",
       "    <tr>\n",
       "      <th>2</th>\n",
       "      <td>DE</td>\n",
       "      <td>59411.500000</td>\n",
       "    </tr>\n",
       "    <tr>\n",
       "      <th>3</th>\n",
       "      <td>ID</td>\n",
       "      <td>53416.000000</td>\n",
       "    </tr>\n",
       "    <tr>\n",
       "      <th>4</th>\n",
       "      <td>IN</td>\n",
       "      <td>42356.410714</td>\n",
       "    </tr>\n",
       "  </tbody>\n",
       "</table>\n",
       "</div>"
      ],
      "text/plain": [
       "  company_location  salary_in_usd\n",
       "0               US   90841.285714\n",
       "1               AU   70000.000000\n",
       "2               DE   59411.500000\n",
       "3               ID   53416.000000\n",
       "4               IN   42356.410714"
      ]
     },
     "execution_count": 476,
     "metadata": {},
     "output_type": "execute_result"
    }
   ],
   "source": [
    "temp_df1 = temp.groupby([\"company_location\"])[\"salary_in_usd\"].agg('mean').sort_values(ascending=False).head().reset_index()\n",
    "temp_df1"
   ]
  },
  {
   "cell_type": "code",
   "execution_count": 477,
   "id": "6ba4337f-3118-4cd2-af95-be7c17634833",
   "metadata": {},
   "outputs": [
    {
     "data": {
      "image/png": "[encoded data removed]",
      "text/plain": [
       "<Figure size 640x480 with 1 Axes>"
      ]
     },
     "metadata": {},
     "output_type": "display_data"
    }
   ],
   "source": [
    "sns.barplot(data = temp_df1, x = \"company_location\", y = \"salary_in_usd\")\n",
    "\n",
    "# Adjust bar width for better visual appeal\n",
    "for patch in plt.gca().patches:\n",
    "    patch.set_width(0.4)\n",
    "\n",
    "# Show plot\n",
    "plt.tight_layout()\n",
    "plt.show()\n"
   ]
  },
  {
   "cell_type": "markdown",
   "id": "e552f5f1-6cde-40f1-b2a9-b786652396bc",
   "metadata": {},
   "source": [
    "## Question7. average salary of da, ds, de based on experiance level"
   ]
  },
  {
   "cell_type": "code",
   "execution_count": 478,
   "id": "74d9d204-141c-4c78-8a33-7c305334d96b",
   "metadata": {},
   "outputs": [],
   "source": [
    "temp = df[(df[\"job_title\"] == \"Data Scientist\") | (df[\"job_title\"] == \"Data Engineer\") | (df[\"job_title\"] == \"Data Analyst\") ]\n"
   ]
  },
  {
   "cell_type": "code",
   "execution_count": 479,
   "id": "0de9de73-90d1-4052-945b-fb0dcc25aa87",
   "metadata": {},
   "outputs": [
    {
     "data": {
      "text/html": [
       "<div>\n",
       "<style scoped>\n",
       "    .dataframe tbody tr th:only-of-type {\n",
       "        vertical-align: middle;\n",
       "    }\n",
       "\n",
       "    .dataframe tbody tr th {\n",
       "        vertical-align: top;\n",
       "    }\n",
       "\n",
       "    .dataframe thead th {\n",
       "        text-align: right;\n",
       "    }\n",
       "</style>\n",
       "<table border=\"1\" class=\"dataframe\">\n",
       "  <thead>\n",
       "    <tr style=\"text-align: right;\">\n",
       "      <th></th>\n",
       "      <th>experience_level</th>\n",
       "      <th>job_title</th>\n",
       "      <th>salary_in_usd</th>\n",
       "    </tr>\n",
       "  </thead>\n",
       "  <tbody>\n",
       "    <tr>\n",
       "      <th>0</th>\n",
       "      <td>EX</td>\n",
       "      <td>Data Scientist</td>\n",
       "      <td>206314.400000</td>\n",
       "    </tr>\n",
       "    <tr>\n",
       "      <th>1</th>\n",
       "      <td>EX</td>\n",
       "      <td>Data Engineer</td>\n",
       "      <td>191256.543478</td>\n",
       "    </tr>\n",
       "    <tr>\n",
       "      <th>2</th>\n",
       "      <td>SE</td>\n",
       "      <td>Data Scientist</td>\n",
       "      <td>173031.981224</td>\n",
       "    </tr>\n",
       "    <tr>\n",
       "      <th>3</th>\n",
       "      <td>SE</td>\n",
       "      <td>Data Engineer</td>\n",
       "      <td>171071.535215</td>\n",
       "    </tr>\n",
       "    <tr>\n",
       "      <th>4</th>\n",
       "      <td>EX</td>\n",
       "      <td>Data Analyst</td>\n",
       "      <td>142867.647059</td>\n",
       "    </tr>\n",
       "    <tr>\n",
       "      <th>5</th>\n",
       "      <td>MI</td>\n",
       "      <td>Data Scientist</td>\n",
       "      <td>133278.362924</td>\n",
       "    </tr>\n",
       "    <tr>\n",
       "      <th>6</th>\n",
       "      <td>MI</td>\n",
       "      <td>Data Engineer</td>\n",
       "      <td>129843.722672</td>\n",
       "    </tr>\n",
       "    <tr>\n",
       "      <th>7</th>\n",
       "      <td>SE</td>\n",
       "      <td>Data Analyst</td>\n",
       "      <td>127663.360600</td>\n",
       "    </tr>\n",
       "    <tr>\n",
       "      <th>8</th>\n",
       "      <td>MI</td>\n",
       "      <td>Data Analyst</td>\n",
       "      <td>100297.424925</td>\n",
       "    </tr>\n",
       "    <tr>\n",
       "      <th>9</th>\n",
       "      <td>EN</td>\n",
       "      <td>Data Scientist</td>\n",
       "      <td>96631.224490</td>\n",
       "    </tr>\n",
       "    <tr>\n",
       "      <th>10</th>\n",
       "      <td>EN</td>\n",
       "      <td>Data Engineer</td>\n",
       "      <td>96243.408377</td>\n",
       "    </tr>\n",
       "    <tr>\n",
       "      <th>11</th>\n",
       "      <td>EN</td>\n",
       "      <td>Data Analyst</td>\n",
       "      <td>78155.704348</td>\n",
       "    </tr>\n",
       "  </tbody>\n",
       "</table>\n",
       "</div>"
      ],
      "text/plain": [
       "   experience_level       job_title  salary_in_usd\n",
       "0                EX  Data Scientist  206314.400000\n",
       "1                EX   Data Engineer  191256.543478\n",
       "2                SE  Data Scientist  173031.981224\n",
       "3                SE   Data Engineer  171071.535215\n",
       "4                EX    Data Analyst  142867.647059\n",
       "5                MI  Data Scientist  133278.362924\n",
       "6                MI   Data Engineer  129843.722672\n",
       "7                SE    Data Analyst  127663.360600\n",
       "8                MI    Data Analyst  100297.424925\n",
       "9                EN  Data Scientist   96631.224490\n",
       "10               EN   Data Engineer   96243.408377\n",
       "11               EN    Data Analyst   78155.704348"
      ]
     },
     "execution_count": 479,
     "metadata": {},
     "output_type": "execute_result"
    }
   ],
   "source": [
    "temp_df1 = temp.groupby([\"experience_level\",\"job_title\"])[\"salary_in_usd\"].agg('mean').sort_values(ascending=False).reset_index()\n",
    "temp_df1"
   ]
  },
  {
   "cell_type": "code",
   "execution_count": 480,
   "id": "37ab5025-e491-4b45-8a44-fcc0b0d917bc",
   "metadata": {},
   "outputs": [
    {
     "data": {
      "text/plain": [
       "<Axes: xlabel='job_title', ylabel='salary_in_usd'>"
      ]
     },
     "execution_count": 480,
     "metadata": {},
     "output_type": "execute_result"
    },
    {
     "data": {
      "image/png": "[encoded data removed]",
      "text/plain": [
       "<Figure size 640x480 with 1 Axes>"
      ]
     },
     "metadata": {},
     "output_type": "display_data"
    }
   ],
   "source": [
    "sns.barplot(data = temp_df1, x = \"job_title\", y = \"salary_in_usd\",\n",
    "            hue = \"experience_level\", estimator = \"mean\", )"
   ]
  },
  {
   "cell_type": "markdown",
   "id": "35016cce-2a9f-4538-9424-f76aa10a0d81",
   "metadata": {},
   "source": [
    "## Question 8. year wise comparision number of employees on remote job"
   ]
  },
  {
   "cell_type": "code",
   "execution_count": 481,
   "id": "05428987-49e8-4cda-8955-089a55f33e03",
   "metadata": {},
   "outputs": [
    {
     "data": {
      "text/html": [
       "<div>\n",
       "<style scoped>\n",
       "    .dataframe tbody tr th:only-of-type {\n",
       "        vertical-align: middle;\n",
       "    }\n",
       "\n",
       "    .dataframe tbody tr th {\n",
       "        vertical-align: top;\n",
       "    }\n",
       "\n",
       "    .dataframe thead th {\n",
       "        text-align: right;\n",
       "    }\n",
       "</style>\n",
       "<table border=\"1\" class=\"dataframe\">\n",
       "  <thead>\n",
       "    <tr style=\"text-align: right;\">\n",
       "      <th></th>\n",
       "      <th>work_year</th>\n",
       "      <th>experience_level</th>\n",
       "      <th>employment_type</th>\n",
       "      <th>salary</th>\n",
       "      <th>salary_currency</th>\n",
       "      <th>salary_in_usd</th>\n",
       "      <th>employee_residence</th>\n",
       "      <th>remote_ratio</th>\n",
       "      <th>company_location</th>\n",
       "      <th>company_size</th>\n",
       "      <th>job_title</th>\n",
       "      <th>is_india</th>\n",
       "    </tr>\n",
       "  </thead>\n",
       "  <tbody>\n",
       "    <tr>\n",
       "      <th>9</th>\n",
       "      <td>2024</td>\n",
       "      <td>SE</td>\n",
       "      <td>FT</td>\n",
       "      <td>133650</td>\n",
       "      <td>USD</td>\n",
       "      <td>133650</td>\n",
       "      <td>US</td>\n",
       "      <td>100</td>\n",
       "      <td>US</td>\n",
       "      <td>M</td>\n",
       "      <td>Data Analyst</td>\n",
       "      <td>OTH</td>\n",
       "    </tr>\n",
       "    <tr>\n",
       "      <th>10</th>\n",
       "      <td>2024</td>\n",
       "      <td>SE</td>\n",
       "      <td>FT</td>\n",
       "      <td>68150</td>\n",
       "      <td>USD</td>\n",
       "      <td>68150</td>\n",
       "      <td>US</td>\n",
       "      <td>100</td>\n",
       "      <td>US</td>\n",
       "      <td>M</td>\n",
       "      <td>Data Analyst</td>\n",
       "      <td>OTH</td>\n",
       "    </tr>\n",
       "    <tr>\n",
       "      <th>15</th>\n",
       "      <td>2024</td>\n",
       "      <td>MI</td>\n",
       "      <td>FT</td>\n",
       "      <td>144200</td>\n",
       "      <td>USD</td>\n",
       "      <td>144200</td>\n",
       "      <td>US</td>\n",
       "      <td>100</td>\n",
       "      <td>US</td>\n",
       "      <td>M</td>\n",
       "      <td>Data Scientist</td>\n",
       "      <td>OTH</td>\n",
       "    </tr>\n",
       "    <tr>\n",
       "      <th>16</th>\n",
       "      <td>2024</td>\n",
       "      <td>MI</td>\n",
       "      <td>FT</td>\n",
       "      <td>72100</td>\n",
       "      <td>USD</td>\n",
       "      <td>72100</td>\n",
       "      <td>US</td>\n",
       "      <td>100</td>\n",
       "      <td>US</td>\n",
       "      <td>M</td>\n",
       "      <td>Data Scientist</td>\n",
       "      <td>OTH</td>\n",
       "    </tr>\n",
       "    <tr>\n",
       "      <th>51</th>\n",
       "      <td>2024</td>\n",
       "      <td>MI</td>\n",
       "      <td>FT</td>\n",
       "      <td>94625</td>\n",
       "      <td>USD</td>\n",
       "      <td>94625</td>\n",
       "      <td>US</td>\n",
       "      <td>100</td>\n",
       "      <td>US</td>\n",
       "      <td>M</td>\n",
       "      <td>Data Analyst</td>\n",
       "      <td>OTH</td>\n",
       "    </tr>\n",
       "    <tr>\n",
       "      <th>...</th>\n",
       "      <td>...</td>\n",
       "      <td>...</td>\n",
       "      <td>...</td>\n",
       "      <td>...</td>\n",
       "      <td>...</td>\n",
       "      <td>...</td>\n",
       "      <td>...</td>\n",
       "      <td>...</td>\n",
       "      <td>...</td>\n",
       "      <td>...</td>\n",
       "      <td>...</td>\n",
       "      <td>...</td>\n",
       "    </tr>\n",
       "    <tr>\n",
       "      <th>11564</th>\n",
       "      <td>2021</td>\n",
       "      <td>SE</td>\n",
       "      <td>FT</td>\n",
       "      <td>165000</td>\n",
       "      <td>USD</td>\n",
       "      <td>165000</td>\n",
       "      <td>US</td>\n",
       "      <td>100</td>\n",
       "      <td>US</td>\n",
       "      <td>L</td>\n",
       "      <td>Data Specialist</td>\n",
       "      <td>OTH</td>\n",
       "    </tr>\n",
       "    <tr>\n",
       "      <th>11565</th>\n",
       "      <td>2020</td>\n",
       "      <td>SE</td>\n",
       "      <td>FT</td>\n",
       "      <td>412000</td>\n",
       "      <td>USD</td>\n",
       "      <td>412000</td>\n",
       "      <td>US</td>\n",
       "      <td>100</td>\n",
       "      <td>US</td>\n",
       "      <td>L</td>\n",
       "      <td>Data Scientist</td>\n",
       "      <td>OTH</td>\n",
       "    </tr>\n",
       "    <tr>\n",
       "      <th>11566</th>\n",
       "      <td>2021</td>\n",
       "      <td>MI</td>\n",
       "      <td>FT</td>\n",
       "      <td>151000</td>\n",
       "      <td>USD</td>\n",
       "      <td>151000</td>\n",
       "      <td>US</td>\n",
       "      <td>100</td>\n",
       "      <td>US</td>\n",
       "      <td>L</td>\n",
       "      <td>Data Scientist</td>\n",
       "      <td>OTH</td>\n",
       "    </tr>\n",
       "    <tr>\n",
       "      <th>11567</th>\n",
       "      <td>2020</td>\n",
       "      <td>EN</td>\n",
       "      <td>FT</td>\n",
       "      <td>105000</td>\n",
       "      <td>USD</td>\n",
       "      <td>105000</td>\n",
       "      <td>US</td>\n",
       "      <td>100</td>\n",
       "      <td>US</td>\n",
       "      <td>S</td>\n",
       "      <td>Data Scientist</td>\n",
       "      <td>OTH</td>\n",
       "    </tr>\n",
       "    <tr>\n",
       "      <th>11568</th>\n",
       "      <td>2020</td>\n",
       "      <td>EN</td>\n",
       "      <td>CT</td>\n",
       "      <td>100000</td>\n",
       "      <td>USD</td>\n",
       "      <td>100000</td>\n",
       "      <td>US</td>\n",
       "      <td>100</td>\n",
       "      <td>US</td>\n",
       "      <td>L</td>\n",
       "      <td>Data Analyst</td>\n",
       "      <td>OTH</td>\n",
       "    </tr>\n",
       "  </tbody>\n",
       "</table>\n",
       "<p>3962 rows × 12 columns</p>\n",
       "</div>"
      ],
      "text/plain": [
       "       work_year experience_level employment_type  salary salary_currency  \\\n",
       "9           2024               SE              FT  133650             USD   \n",
       "10          2024               SE              FT   68150             USD   \n",
       "15          2024               MI              FT  144200             USD   \n",
       "16          2024               MI              FT   72100             USD   \n",
       "51          2024               MI              FT   94625             USD   \n",
       "...          ...              ...             ...     ...             ...   \n",
       "11564       2021               SE              FT  165000             USD   \n",
       "11565       2020               SE              FT  412000             USD   \n",
       "11566       2021               MI              FT  151000             USD   \n",
       "11567       2020               EN              FT  105000             USD   \n",
       "11568       2020               EN              CT  100000             USD   \n",
       "\n",
       "       salary_in_usd employee_residence  remote_ratio company_location  \\\n",
       "9             133650                 US           100               US   \n",
       "10             68150                 US           100               US   \n",
       "15            144200                 US           100               US   \n",
       "16             72100                 US           100               US   \n",
       "51             94625                 US           100               US   \n",
       "...              ...                ...           ...              ...   \n",
       "11564         165000                 US           100               US   \n",
       "11565         412000                 US           100               US   \n",
       "11566         151000                 US           100               US   \n",
       "11567         105000                 US           100               US   \n",
       "11568         100000                 US           100               US   \n",
       "\n",
       "      company_size        job_title is_india  \n",
       "9                M     Data Analyst      OTH  \n",
       "10               M     Data Analyst      OTH  \n",
       "15               M   Data Scientist      OTH  \n",
       "16               M   Data Scientist      OTH  \n",
       "51               M     Data Analyst      OTH  \n",
       "...            ...              ...      ...  \n",
       "11564            L  Data Specialist      OTH  \n",
       "11565            L   Data Scientist      OTH  \n",
       "11566            L   Data Scientist      OTH  \n",
       "11567            S   Data Scientist      OTH  \n",
       "11568            L     Data Analyst      OTH  \n",
       "\n",
       "[3962 rows x 12 columns]"
      ]
     },
     "execution_count": 481,
     "metadata": {},
     "output_type": "execute_result"
    }
   ],
   "source": [
    "temp = df[df[\"remote_ratio\"] == 100]\n",
    "temp"
   ]
  },
  {
   "cell_type": "code",
   "execution_count": 482,
   "id": "8134a7ef-51c1-44ca-b43b-a61e4dc6f4c5",
   "metadata": {},
   "outputs": [],
   "source": [
    "temp_df = df.groupby(by =[\"work_year\",\"remote_ratio\"])[\"job_title\"].count().reset_index()\n"
   ]
  },
  {
   "cell_type": "code",
   "execution_count": 483,
   "id": "361e5d7e-386a-4077-a435-fd34c39428d9",
   "metadata": {},
   "outputs": [
    {
     "data": {
      "image/png": "[encoded data removed]",
      "text/plain": [
       "<Figure size 640x480 with 1 Axes>"
      ]
     },
     "metadata": {},
     "output_type": "display_data"
    }
   ],
   "source": [
    "sns.lineplot(data = temp_df, x = \"work_year\", y = \"job_title\",\n",
    "             hue = \"remote_ratio\", marker = \"o\", palette = \"coolwarm\")\n",
    "plt.xticks(temp_df[\"work_year\"].unique())\n",
    "plt.ylabel(\"Number of Jobs\")\n",
    "plt.xlabel(\"Year\")\n",
    "plt.show()"
   ]
  },
  {
   "cell_type": "code",
   "execution_count": null,
   "id": "f800c280-c592-4c00-9983-af7b93caec56",
   "metadata": {},
   "outputs": [],
   "source": []
  },
  {
   "cell_type": "markdown",
   "id": "3cc376ca-2eee-4168-a781-40b1b5897e44",
   "metadata": {},
   "source": [
    "## Question 9  year on year growth for da, ds,de"
   ]
  },
  {
   "cell_type": "code",
   "execution_count": 484,
   "id": "985c162f-8745-46c4-a0cc-f8ac28b42794",
   "metadata": {},
   "outputs": [
    {
     "data": {
      "text/html": [
       "<div>\n",
       "<style scoped>\n",
       "    .dataframe tbody tr th:only-of-type {\n",
       "        vertical-align: middle;\n",
       "    }\n",
       "\n",
       "    .dataframe tbody tr th {\n",
       "        vertical-align: top;\n",
       "    }\n",
       "\n",
       "    .dataframe thead th {\n",
       "        text-align: right;\n",
       "    }\n",
       "</style>\n",
       "<table border=\"1\" class=\"dataframe\">\n",
       "  <thead>\n",
       "    <tr style=\"text-align: right;\">\n",
       "      <th></th>\n",
       "      <th>work_year</th>\n",
       "      <th>experience_level</th>\n",
       "      <th>employment_type</th>\n",
       "      <th>salary</th>\n",
       "      <th>salary_currency</th>\n",
       "      <th>salary_in_usd</th>\n",
       "      <th>employee_residence</th>\n",
       "      <th>remote_ratio</th>\n",
       "      <th>company_location</th>\n",
       "      <th>company_size</th>\n",
       "      <th>job_title</th>\n",
       "      <th>is_india</th>\n",
       "    </tr>\n",
       "  </thead>\n",
       "  <tbody>\n",
       "    <tr>\n",
       "      <th>0</th>\n",
       "      <td>2023</td>\n",
       "      <td>EN</td>\n",
       "      <td>FT</td>\n",
       "      <td>50000</td>\n",
       "      <td>USD</td>\n",
       "      <td>50000</td>\n",
       "      <td>DE</td>\n",
       "      <td>0</td>\n",
       "      <td>DE</td>\n",
       "      <td>M</td>\n",
       "      <td>Data Analyst</td>\n",
       "      <td>OTH</td>\n",
       "    </tr>\n",
       "    <tr>\n",
       "      <th>3</th>\n",
       "      <td>2024</td>\n",
       "      <td>SE</td>\n",
       "      <td>FT</td>\n",
       "      <td>188500</td>\n",
       "      <td>USD</td>\n",
       "      <td>188500</td>\n",
       "      <td>US</td>\n",
       "      <td>0</td>\n",
       "      <td>US</td>\n",
       "      <td>M</td>\n",
       "      <td>Data Scientist</td>\n",
       "      <td>OTH</td>\n",
       "    </tr>\n",
       "    <tr>\n",
       "      <th>4</th>\n",
       "      <td>2024</td>\n",
       "      <td>SE</td>\n",
       "      <td>FT</td>\n",
       "      <td>165100</td>\n",
       "      <td>USD</td>\n",
       "      <td>165100</td>\n",
       "      <td>US</td>\n",
       "      <td>0</td>\n",
       "      <td>US</td>\n",
       "      <td>M</td>\n",
       "      <td>Data Scientist</td>\n",
       "      <td>OTH</td>\n",
       "    </tr>\n",
       "    <tr>\n",
       "      <th>7</th>\n",
       "      <td>2024</td>\n",
       "      <td>MI</td>\n",
       "      <td>FT</td>\n",
       "      <td>128600</td>\n",
       "      <td>USD</td>\n",
       "      <td>128600</td>\n",
       "      <td>US</td>\n",
       "      <td>0</td>\n",
       "      <td>US</td>\n",
       "      <td>M</td>\n",
       "      <td>Data Engineer</td>\n",
       "      <td>OTH</td>\n",
       "    </tr>\n",
       "    <tr>\n",
       "      <th>8</th>\n",
       "      <td>2024</td>\n",
       "      <td>MI</td>\n",
       "      <td>FT</td>\n",
       "      <td>100000</td>\n",
       "      <td>USD</td>\n",
       "      <td>100000</td>\n",
       "      <td>US</td>\n",
       "      <td>0</td>\n",
       "      <td>US</td>\n",
       "      <td>M</td>\n",
       "      <td>Data Engineer</td>\n",
       "      <td>OTH</td>\n",
       "    </tr>\n",
       "    <tr>\n",
       "      <th>...</th>\n",
       "      <td>...</td>\n",
       "      <td>...</td>\n",
       "      <td>...</td>\n",
       "      <td>...</td>\n",
       "      <td>...</td>\n",
       "      <td>...</td>\n",
       "      <td>...</td>\n",
       "      <td>...</td>\n",
       "      <td>...</td>\n",
       "      <td>...</td>\n",
       "      <td>...</td>\n",
       "      <td>...</td>\n",
       "    </tr>\n",
       "    <tr>\n",
       "      <th>11565</th>\n",
       "      <td>2020</td>\n",
       "      <td>SE</td>\n",
       "      <td>FT</td>\n",
       "      <td>412000</td>\n",
       "      <td>USD</td>\n",
       "      <td>412000</td>\n",
       "      <td>US</td>\n",
       "      <td>100</td>\n",
       "      <td>US</td>\n",
       "      <td>L</td>\n",
       "      <td>Data Scientist</td>\n",
       "      <td>OTH</td>\n",
       "    </tr>\n",
       "    <tr>\n",
       "      <th>11566</th>\n",
       "      <td>2021</td>\n",
       "      <td>MI</td>\n",
       "      <td>FT</td>\n",
       "      <td>151000</td>\n",
       "      <td>USD</td>\n",
       "      <td>151000</td>\n",
       "      <td>US</td>\n",
       "      <td>100</td>\n",
       "      <td>US</td>\n",
       "      <td>L</td>\n",
       "      <td>Data Scientist</td>\n",
       "      <td>OTH</td>\n",
       "    </tr>\n",
       "    <tr>\n",
       "      <th>11567</th>\n",
       "      <td>2020</td>\n",
       "      <td>EN</td>\n",
       "      <td>FT</td>\n",
       "      <td>105000</td>\n",
       "      <td>USD</td>\n",
       "      <td>105000</td>\n",
       "      <td>US</td>\n",
       "      <td>100</td>\n",
       "      <td>US</td>\n",
       "      <td>S</td>\n",
       "      <td>Data Scientist</td>\n",
       "      <td>OTH</td>\n",
       "    </tr>\n",
       "    <tr>\n",
       "      <th>11568</th>\n",
       "      <td>2020</td>\n",
       "      <td>EN</td>\n",
       "      <td>CT</td>\n",
       "      <td>100000</td>\n",
       "      <td>USD</td>\n",
       "      <td>100000</td>\n",
       "      <td>US</td>\n",
       "      <td>100</td>\n",
       "      <td>US</td>\n",
       "      <td>L</td>\n",
       "      <td>Data Analyst</td>\n",
       "      <td>OTH</td>\n",
       "    </tr>\n",
       "    <tr>\n",
       "      <th>11569</th>\n",
       "      <td>2021</td>\n",
       "      <td>SE</td>\n",
       "      <td>FT</td>\n",
       "      <td>7000000</td>\n",
       "      <td>INR</td>\n",
       "      <td>94665</td>\n",
       "      <td>IN</td>\n",
       "      <td>50</td>\n",
       "      <td>IN</td>\n",
       "      <td>L</td>\n",
       "      <td>Data Scientist</td>\n",
       "      <td>IN</td>\n",
       "    </tr>\n",
       "  </tbody>\n",
       "</table>\n",
       "<p>11218 rows × 12 columns</p>\n",
       "</div>"
      ],
      "text/plain": [
       "       work_year experience_level employment_type   salary salary_currency  \\\n",
       "0           2023               EN              FT    50000             USD   \n",
       "3           2024               SE              FT   188500             USD   \n",
       "4           2024               SE              FT   165100             USD   \n",
       "7           2024               MI              FT   128600             USD   \n",
       "8           2024               MI              FT   100000             USD   \n",
       "...          ...              ...             ...      ...             ...   \n",
       "11565       2020               SE              FT   412000             USD   \n",
       "11566       2021               MI              FT   151000             USD   \n",
       "11567       2020               EN              FT   105000             USD   \n",
       "11568       2020               EN              CT   100000             USD   \n",
       "11569       2021               SE              FT  7000000             INR   \n",
       "\n",
       "       salary_in_usd employee_residence  remote_ratio company_location  \\\n",
       "0              50000                 DE             0               DE   \n",
       "3             188500                 US             0               US   \n",
       "4             165100                 US             0               US   \n",
       "7             128600                 US             0               US   \n",
       "8             100000                 US             0               US   \n",
       "...              ...                ...           ...              ...   \n",
       "11565         412000                 US           100               US   \n",
       "11566         151000                 US           100               US   \n",
       "11567         105000                 US           100               US   \n",
       "11568         100000                 US           100               US   \n",
       "11569          94665                 IN            50               IN   \n",
       "\n",
       "      company_size       job_title is_india  \n",
       "0                M    Data Analyst      OTH  \n",
       "3                M  Data Scientist      OTH  \n",
       "4                M  Data Scientist      OTH  \n",
       "7                M   Data Engineer      OTH  \n",
       "8                M   Data Engineer      OTH  \n",
       "...            ...             ...      ...  \n",
       "11565            L  Data Scientist      OTH  \n",
       "11566            L  Data Scientist      OTH  \n",
       "11567            S  Data Scientist      OTH  \n",
       "11568            L    Data Analyst      OTH  \n",
       "11569            L  Data Scientist       IN  \n",
       "\n",
       "[11218 rows x 12 columns]"
      ]
     },
     "execution_count": 484,
     "metadata": {},
     "output_type": "execute_result"
    }
   ],
   "source": [
    "temp_df2 =df[(df[\"job_title\"] == \"Data Scientist\") | (df[\"job_title\"] == \"Data Engineer\") | (df[\"job_title\"] == \"Data Analyst\")]\n",
    "temp_df2"
   ]
  },
  {
   "cell_type": "code",
   "execution_count": 485,
   "id": "c80e68e3-f9c0-4406-9b56-64ea7533656b",
   "metadata": {},
   "outputs": [
    {
     "data": {
      "text/html": [
       "<div>\n",
       "<style scoped>\n",
       "    .dataframe tbody tr th:only-of-type {\n",
       "        vertical-align: middle;\n",
       "    }\n",
       "\n",
       "    .dataframe tbody tr th {\n",
       "        vertical-align: top;\n",
       "    }\n",
       "\n",
       "    .dataframe thead th {\n",
       "        text-align: right;\n",
       "    }\n",
       "</style>\n",
       "<table border=\"1\" class=\"dataframe\">\n",
       "  <thead>\n",
       "    <tr style=\"text-align: right;\">\n",
       "      <th></th>\n",
       "      <th>work_year</th>\n",
       "      <th>salary_in_usd</th>\n",
       "    </tr>\n",
       "  </thead>\n",
       "  <tbody>\n",
       "    <tr>\n",
       "      <th>0</th>\n",
       "      <td>2024</td>\n",
       "      <td>155547.479401</td>\n",
       "    </tr>\n",
       "    <tr>\n",
       "      <th>1</th>\n",
       "      <td>2023</td>\n",
       "      <td>154799.425137</td>\n",
       "    </tr>\n",
       "    <tr>\n",
       "      <th>2</th>\n",
       "      <td>2022</td>\n",
       "      <td>134709.795943</td>\n",
       "    </tr>\n",
       "    <tr>\n",
       "      <th>3</th>\n",
       "      <td>2020</td>\n",
       "      <td>102250.866667</td>\n",
       "    </tr>\n",
       "    <tr>\n",
       "      <th>4</th>\n",
       "      <td>2021</td>\n",
       "      <td>98613.230047</td>\n",
       "    </tr>\n",
       "  </tbody>\n",
       "</table>\n",
       "</div>"
      ],
      "text/plain": [
       "   work_year  salary_in_usd\n",
       "0       2024  155547.479401\n",
       "1       2023  154799.425137\n",
       "2       2022  134709.795943\n",
       "3       2020  102250.866667\n",
       "4       2021   98613.230047"
      ]
     },
     "execution_count": 485,
     "metadata": {},
     "output_type": "execute_result"
    }
   ],
   "source": [
    "temp_df1 = temp_df2.groupby([\"work_year\"])[\"salary_in_usd\"].agg('mean').sort_values(ascending=False).reset_index()\n",
    "temp_df1"
   ]
  },
  {
   "cell_type": "code",
   "execution_count": 486,
   "id": "cbab5c80-ccf5-49f3-84d1-746b53a1ffe4",
   "metadata": {},
   "outputs": [
    {
     "data": {
      "image/png": "[encoded data removed]",
      "text/plain": [
       "<Figure size 1000x600 with 1 Axes>"
      ]
     },
     "metadata": {},
     "output_type": "display_data"
    }
   ],
   "source": [
    "import pandas as pd\n",
    "import matplotlib.pyplot as plt\n",
    "import numpy as np\n",
    "\n",
    "# Assuming you have a dataframe 'df' containing 'work_year' and 'salary' columns\n",
    "\n",
    "# Create a temporary dataframe to group data by work year and calculate average salary\n",
    "temp_df1 = df.groupby('work_year')['salary'].mean()\n",
    "\n",
    "# Sort the results by salary in descending order\n",
    "temp_df1 = temp_df1.sort_values(ascending=False)\n",
    "\n",
    "# Now you have temp_df1 with average salary for every work year\n",
    "\n",
    "# Set color gradient\n",
    "colors = plt.cm.viridis(np.linspace(0, 1, len(temp_df1)))\n",
    "\n",
    "# To create a bar graph (requires matplotlib)\n",
    "plt.figure(figsize=(10, 6))  # Set figure size\n",
    "bars = plt.bar(temp_df1.index, temp_df1.values, color=colors, width=0.6)  # Adjust bar width\n",
    "\n",
    "# Add data labels outside the bars\n",
    "for bar, year in zip(bars, temp_df1.index):\n",
    "    plt.text(bar.get_x() + bar.get_width() / 2, bar.get_height() + 0.05,\n",
    "             str(year), ha='center', va='bottom', fontsize=10, fontweight='bold', color='black')\n",
    "\n",
    "plt.xlabel('Work Year', fontsize=14, fontweight='bold')  # Add label for x-axis\n",
    "plt.ylabel('Average Salary', fontsize=14, fontweight='bold')  # Add label for y-axis\n",
    "plt.title('Average Salary by Work Year', fontsize=18, fontweight='bold')  # Add title\n",
    "plt.xticks(rotation=45, ha='right', fontsize=12)  # Rotate x-tick labels for better readability\n",
    "plt.yticks(fontsize=12)  # Set y-tick label font size\n",
    "plt.tight_layout()  # Adjust layout to prevent overlap\n",
    "plt.show()\n"
   ]
  },
  {
   "cell_type": "code",
   "execution_count": null,
   "id": "b7e2eb5a-5490-473d-bc61-a057aa5c9efe",
   "metadata": {},
   "outputs": [],
   "source": []
  },
  {
   "cell_type": "markdown",
   "id": "3ef30bd1-589a-4d31-8dc5-d41598d4bdf5",
   "metadata": {},
   "source": [
    "## Question 10 10. average salary of da,ds,de based on company size"
   ]
  },
  {
   "cell_type": "code",
   "execution_count": 487,
   "id": "3454f158-6a92-4234-953b-645bd954f276",
   "metadata": {},
   "outputs": [
    {
     "data": {
      "text/html": [
       "<div>\n",
       "<style scoped>\n",
       "    .dataframe tbody tr th:only-of-type {\n",
       "        vertical-align: middle;\n",
       "    }\n",
       "\n",
       "    .dataframe tbody tr th {\n",
       "        vertical-align: top;\n",
       "    }\n",
       "\n",
       "    .dataframe thead th {\n",
       "        text-align: right;\n",
       "    }\n",
       "</style>\n",
       "<table border=\"1\" class=\"dataframe\">\n",
       "  <thead>\n",
       "    <tr style=\"text-align: right;\">\n",
       "      <th></th>\n",
       "      <th>work_year</th>\n",
       "      <th>experience_level</th>\n",
       "      <th>employment_type</th>\n",
       "      <th>salary</th>\n",
       "      <th>salary_currency</th>\n",
       "      <th>salary_in_usd</th>\n",
       "      <th>employee_residence</th>\n",
       "      <th>remote_ratio</th>\n",
       "      <th>company_location</th>\n",
       "      <th>company_size</th>\n",
       "      <th>job_title</th>\n",
       "      <th>is_india</th>\n",
       "    </tr>\n",
       "  </thead>\n",
       "  <tbody>\n",
       "    <tr>\n",
       "      <th>0</th>\n",
       "      <td>2023</td>\n",
       "      <td>EN</td>\n",
       "      <td>FT</td>\n",
       "      <td>50000</td>\n",
       "      <td>USD</td>\n",
       "      <td>50000</td>\n",
       "      <td>DE</td>\n",
       "      <td>0</td>\n",
       "      <td>DE</td>\n",
       "      <td>M</td>\n",
       "      <td>Data Analyst</td>\n",
       "      <td>OTH</td>\n",
       "    </tr>\n",
       "    <tr>\n",
       "      <th>3</th>\n",
       "      <td>2024</td>\n",
       "      <td>SE</td>\n",
       "      <td>FT</td>\n",
       "      <td>188500</td>\n",
       "      <td>USD</td>\n",
       "      <td>188500</td>\n",
       "      <td>US</td>\n",
       "      <td>0</td>\n",
       "      <td>US</td>\n",
       "      <td>M</td>\n",
       "      <td>Data Scientist</td>\n",
       "      <td>OTH</td>\n",
       "    </tr>\n",
       "    <tr>\n",
       "      <th>4</th>\n",
       "      <td>2024</td>\n",
       "      <td>SE</td>\n",
       "      <td>FT</td>\n",
       "      <td>165100</td>\n",
       "      <td>USD</td>\n",
       "      <td>165100</td>\n",
       "      <td>US</td>\n",
       "      <td>0</td>\n",
       "      <td>US</td>\n",
       "      <td>M</td>\n",
       "      <td>Data Scientist</td>\n",
       "      <td>OTH</td>\n",
       "    </tr>\n",
       "    <tr>\n",
       "      <th>7</th>\n",
       "      <td>2024</td>\n",
       "      <td>MI</td>\n",
       "      <td>FT</td>\n",
       "      <td>128600</td>\n",
       "      <td>USD</td>\n",
       "      <td>128600</td>\n",
       "      <td>US</td>\n",
       "      <td>0</td>\n",
       "      <td>US</td>\n",
       "      <td>M</td>\n",
       "      <td>Data Engineer</td>\n",
       "      <td>OTH</td>\n",
       "    </tr>\n",
       "    <tr>\n",
       "      <th>8</th>\n",
       "      <td>2024</td>\n",
       "      <td>MI</td>\n",
       "      <td>FT</td>\n",
       "      <td>100000</td>\n",
       "      <td>USD</td>\n",
       "      <td>100000</td>\n",
       "      <td>US</td>\n",
       "      <td>0</td>\n",
       "      <td>US</td>\n",
       "      <td>M</td>\n",
       "      <td>Data Engineer</td>\n",
       "      <td>OTH</td>\n",
       "    </tr>\n",
       "    <tr>\n",
       "      <th>...</th>\n",
       "      <td>...</td>\n",
       "      <td>...</td>\n",
       "      <td>...</td>\n",
       "      <td>...</td>\n",
       "      <td>...</td>\n",
       "      <td>...</td>\n",
       "      <td>...</td>\n",
       "      <td>...</td>\n",
       "      <td>...</td>\n",
       "      <td>...</td>\n",
       "      <td>...</td>\n",
       "      <td>...</td>\n",
       "    </tr>\n",
       "    <tr>\n",
       "      <th>11565</th>\n",
       "      <td>2020</td>\n",
       "      <td>SE</td>\n",
       "      <td>FT</td>\n",
       "      <td>412000</td>\n",
       "      <td>USD</td>\n",
       "      <td>412000</td>\n",
       "      <td>US</td>\n",
       "      <td>100</td>\n",
       "      <td>US</td>\n",
       "      <td>L</td>\n",
       "      <td>Data Scientist</td>\n",
       "      <td>OTH</td>\n",
       "    </tr>\n",
       "    <tr>\n",
       "      <th>11566</th>\n",
       "      <td>2021</td>\n",
       "      <td>MI</td>\n",
       "      <td>FT</td>\n",
       "      <td>151000</td>\n",
       "      <td>USD</td>\n",
       "      <td>151000</td>\n",
       "      <td>US</td>\n",
       "      <td>100</td>\n",
       "      <td>US</td>\n",
       "      <td>L</td>\n",
       "      <td>Data Scientist</td>\n",
       "      <td>OTH</td>\n",
       "    </tr>\n",
       "    <tr>\n",
       "      <th>11567</th>\n",
       "      <td>2020</td>\n",
       "      <td>EN</td>\n",
       "      <td>FT</td>\n",
       "      <td>105000</td>\n",
       "      <td>USD</td>\n",
       "      <td>105000</td>\n",
       "      <td>US</td>\n",
       "      <td>100</td>\n",
       "      <td>US</td>\n",
       "      <td>S</td>\n",
       "      <td>Data Scientist</td>\n",
       "      <td>OTH</td>\n",
       "    </tr>\n",
       "    <tr>\n",
       "      <th>11568</th>\n",
       "      <td>2020</td>\n",
       "      <td>EN</td>\n",
       "      <td>CT</td>\n",
       "      <td>100000</td>\n",
       "      <td>USD</td>\n",
       "      <td>100000</td>\n",
       "      <td>US</td>\n",
       "      <td>100</td>\n",
       "      <td>US</td>\n",
       "      <td>L</td>\n",
       "      <td>Data Analyst</td>\n",
       "      <td>OTH</td>\n",
       "    </tr>\n",
       "    <tr>\n",
       "      <th>11569</th>\n",
       "      <td>2021</td>\n",
       "      <td>SE</td>\n",
       "      <td>FT</td>\n",
       "      <td>7000000</td>\n",
       "      <td>INR</td>\n",
       "      <td>94665</td>\n",
       "      <td>IN</td>\n",
       "      <td>50</td>\n",
       "      <td>IN</td>\n",
       "      <td>L</td>\n",
       "      <td>Data Scientist</td>\n",
       "      <td>IN</td>\n",
       "    </tr>\n",
       "  </tbody>\n",
       "</table>\n",
       "<p>11218 rows × 12 columns</p>\n",
       "</div>"
      ],
      "text/plain": [
       "       work_year experience_level employment_type   salary salary_currency  \\\n",
       "0           2023               EN              FT    50000             USD   \n",
       "3           2024               SE              FT   188500             USD   \n",
       "4           2024               SE              FT   165100             USD   \n",
       "7           2024               MI              FT   128600             USD   \n",
       "8           2024               MI              FT   100000             USD   \n",
       "...          ...              ...             ...      ...             ...   \n",
       "11565       2020               SE              FT   412000             USD   \n",
       "11566       2021               MI              FT   151000             USD   \n",
       "11567       2020               EN              FT   105000             USD   \n",
       "11568       2020               EN              CT   100000             USD   \n",
       "11569       2021               SE              FT  7000000             INR   \n",
       "\n",
       "       salary_in_usd employee_residence  remote_ratio company_location  \\\n",
       "0              50000                 DE             0               DE   \n",
       "3             188500                 US             0               US   \n",
       "4             165100                 US             0               US   \n",
       "7             128600                 US             0               US   \n",
       "8             100000                 US             0               US   \n",
       "...              ...                ...           ...              ...   \n",
       "11565         412000                 US           100               US   \n",
       "11566         151000                 US           100               US   \n",
       "11567         105000                 US           100               US   \n",
       "11568         100000                 US           100               US   \n",
       "11569          94665                 IN            50               IN   \n",
       "\n",
       "      company_size       job_title is_india  \n",
       "0                M    Data Analyst      OTH  \n",
       "3                M  Data Scientist      OTH  \n",
       "4                M  Data Scientist      OTH  \n",
       "7                M   Data Engineer      OTH  \n",
       "8                M   Data Engineer      OTH  \n",
       "...            ...             ...      ...  \n",
       "11565            L  Data Scientist      OTH  \n",
       "11566            L  Data Scientist      OTH  \n",
       "11567            S  Data Scientist      OTH  \n",
       "11568            L    Data Analyst      OTH  \n",
       "11569            L  Data Scientist       IN  \n",
       "\n",
       "[11218 rows x 12 columns]"
      ]
     },
     "execution_count": 487,
     "metadata": {},
     "output_type": "execute_result"
    }
   ],
   "source": [
    "temp_df2 =df[(df[\"job_title\"] == \"Data Scientist\") | (df[\"job_title\"] == \"Data Engineer\") | (df[\"job_title\"] == \"Data Analyst\")]\n",
    "temp_df2"
   ]
  },
  {
   "cell_type": "code",
   "execution_count": 488,
   "id": "fc7ed32b-2cd6-4186-a9f9-5ad38f15b97c",
   "metadata": {},
   "outputs": [
    {
     "data": {
      "text/html": [
       "<div>\n",
       "<style scoped>\n",
       "    .dataframe tbody tr th:only-of-type {\n",
       "        vertical-align: middle;\n",
       "    }\n",
       "\n",
       "    .dataframe tbody tr th {\n",
       "        vertical-align: top;\n",
       "    }\n",
       "\n",
       "    .dataframe thead th {\n",
       "        text-align: right;\n",
       "    }\n",
       "</style>\n",
       "<table border=\"1\" class=\"dataframe\">\n",
       "  <thead>\n",
       "    <tr style=\"text-align: right;\">\n",
       "      <th></th>\n",
       "      <th>company_size</th>\n",
       "      <th>job_title</th>\n",
       "      <th>salary_in_usd</th>\n",
       "    </tr>\n",
       "  </thead>\n",
       "  <tbody>\n",
       "    <tr>\n",
       "      <th>0</th>\n",
       "      <td>M</td>\n",
       "      <td>Data Scientist</td>\n",
       "      <td>164745.876555</td>\n",
       "    </tr>\n",
       "    <tr>\n",
       "      <th>1</th>\n",
       "      <td>M</td>\n",
       "      <td>Data Engineer</td>\n",
       "      <td>163323.560833</td>\n",
       "    </tr>\n",
       "    <tr>\n",
       "      <th>2</th>\n",
       "      <td>L</td>\n",
       "      <td>Data Scientist</td>\n",
       "      <td>153895.927602</td>\n",
       "    </tr>\n",
       "    <tr>\n",
       "      <th>3</th>\n",
       "      <td>L</td>\n",
       "      <td>Data Engineer</td>\n",
       "      <td>131275.110368</td>\n",
       "    </tr>\n",
       "    <tr>\n",
       "      <th>4</th>\n",
       "      <td>M</td>\n",
       "      <td>Data Analyst</td>\n",
       "      <td>115500.578059</td>\n",
       "    </tr>\n",
       "    <tr>\n",
       "      <th>5</th>\n",
       "      <td>S</td>\n",
       "      <td>Data Scientist</td>\n",
       "      <td>93860.109756</td>\n",
       "    </tr>\n",
       "    <tr>\n",
       "      <th>6</th>\n",
       "      <td>L</td>\n",
       "      <td>Data Analyst</td>\n",
       "      <td>89407.481481</td>\n",
       "    </tr>\n",
       "    <tr>\n",
       "      <th>7</th>\n",
       "      <td>S</td>\n",
       "      <td>Data Engineer</td>\n",
       "      <td>88666.553571</td>\n",
       "    </tr>\n",
       "    <tr>\n",
       "      <th>8</th>\n",
       "      <td>S</td>\n",
       "      <td>Data Analyst</td>\n",
       "      <td>73796.323529</td>\n",
       "    </tr>\n",
       "  </tbody>\n",
       "</table>\n",
       "</div>"
      ],
      "text/plain": [
       "  company_size       job_title  salary_in_usd\n",
       "0            M  Data Scientist  164745.876555\n",
       "1            M   Data Engineer  163323.560833\n",
       "2            L  Data Scientist  153895.927602\n",
       "3            L   Data Engineer  131275.110368\n",
       "4            M    Data Analyst  115500.578059\n",
       "5            S  Data Scientist   93860.109756\n",
       "6            L    Data Analyst   89407.481481\n",
       "7            S   Data Engineer   88666.553571\n",
       "8            S    Data Analyst   73796.323529"
      ]
     },
     "execution_count": 488,
     "metadata": {},
     "output_type": "execute_result"
    }
   ],
   "source": [
    "temp_df1 = temp_df2.groupby([\"company_size\",\"job_title\"])[\"salary_in_usd\"].agg('mean').sort_values(ascending=False).reset_index()\n",
    "temp_df1"
   ]
  },
  {
   "cell_type": "code",
   "execution_count": 489,
   "id": "b63c8b8c-f2fe-4aee-aa8e-92bf71a4401a",
   "metadata": {},
   "outputs": [
    {
     "data": {
      "image/png": "[encoded data removed]",
      "text/plain": [
       "<Figure size 1200x800 with 1 Axes>"
      ]
     },
     "metadata": {},
     "output_type": "display_data"
    }
   ],
   "source": [
    "import seaborn as sns\n",
    "import matplotlib.pyplot as plt\n",
    "\n",
    "# Set custom color palette for each level of company_size\n",
    "palette = {\"S\": \"tab:blue\", \"M\": \"tab:orange\", \"L\": \"tab:green\"}\n",
    "\n",
    "# Create bar plot with enhanced styling\n",
    "plt.figure(figsize=(12, 8))\n",
    "ax = sns.barplot(data=temp_df1, x=\"job_title\", y=\"salary_in_usd\", hue=\"company_size\", palette=palette)\n",
    "\n",
    "# Add value annotations on top of each bar\n",
    "for p in ax.patches:\n",
    "    ax.annotate('{:.2f}'.format(p.get_height()), (p.get_x() + p.get_width() / 2., p.get_height()),\n",
    "                ha='center', va='center', fontsize=10, fontweight='bold', color='black', xytext=(0, 5),\n",
    "                textcoords='offset points')\n",
    "\n",
    "# Add title and labels with enhanced styling\n",
    "plt.title(\"Average Salary by Job Title and Company Size\", fontsize=18, fontweight='bold')\n",
    "plt.xlabel(\"Job Title\", fontsize=14, fontweight='bold')\n",
    "plt.ylabel(\"Average Salary in USD\", fontsize=14, fontweight='bold')\n",
    "\n",
    "# Customize legend\n",
    "plt.legend(title=\"Company Size\", fontsize=12, title_fontsize=12)\n",
    "\n",
    "# Rotate x-tick labels for better readability\n",
    "plt.xticks(rotation=45, ha='right', fontsize=12)\n",
    "\n",
    "\n",
    "# Adjust bar width for better visual appeal\n",
    "for patch in ax.patches:\n",
    "    patch.set_width(0.4)\n",
    "\n",
    "# Show plot\n",
    "plt.tight_layout()\n",
    "plt.show()\n"
   ]
  },
  {
   "cell_type": "code",
   "execution_count": null,
   "id": "bcfaa341-1647-4937-b4e7-376b2da98f2d",
   "metadata": {},
   "outputs": [],
   "source": []
  },
  {
   "cell_type": "code",
   "execution_count": null,
   "id": "e6461527-ef36-4c80-a853-0ce373b46bd0",
   "metadata": {},
   "outputs": [],
   "source": []
  },
  {
   "cell_type": "code",
   "execution_count": null,
   "id": "ed9a1e46-32b5-443d-8556-5db1e8c58dca",
   "metadata": {},
   "outputs": [],
   "source": []
  },
  {
   "cell_type": "code",
   "execution_count": null,
   "id": "2da7d149-d011-42d5-bdfe-6cfb0736d65d",
   "metadata": {},
   "outputs": [],
   "source": []
  },
  {
   "cell_type": "code",
   "execution_count": null,
   "id": "43c78ca6-79f1-44cc-8f31-121ec2e92369",
   "metadata": {},
   "outputs": [],
   "source": []
  },
  {
   "cell_type": "code",
   "execution_count": null,
   "id": "303e27fb-77ab-4f78-88f6-3483c35e72bf",
   "metadata": {},
   "outputs": [],
   "source": []
  },
  {
   "cell_type": "code",
   "execution_count": null,
   "id": "4fc86a17-b102-4f62-b77f-5a906d7ee9c9",
   "metadata": {},
   "outputs": [],
   "source": []
  }
 ],
 "metadata": {
  "kernelspec": {
   "display_name": "Python 3 (ipykernel)",
   "language": "python",
   "name": "python3"
  },
  "language_info": {
   "codemirror_mode": {
    "name": "ipython",
    "version": 3
   },
   "file_extension": ".py",
   "mimetype": "text/x-python",
   "name": "python",
   "nbconvert_exporter": "python",
   "pygments_lexer": "ipython3",
   "version": "3.11.4"
  }
 },
 "nbformat": 4,
 "nbformat_minor": 5
}
